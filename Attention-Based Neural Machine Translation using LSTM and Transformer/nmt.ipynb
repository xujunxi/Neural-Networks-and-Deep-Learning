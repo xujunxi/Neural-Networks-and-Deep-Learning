{
  "nbformat": 4,
  "nbformat_minor": 0,
  "metadata": {
    "colab": {
      "name": "a3-nmt.ipynb",
      "provenance": [],
      "collapsed_sections": []
    },
    "kernelspec": {
      "name": "python3",
      "display_name": "Python 3"
    },
    "accelerator": "GPU"
  },
  "cells": [
    {
      "cell_type": "markdown",
      "metadata": {
        "id": "TjPTaRB4mpCd"
      },
      "source": [
        "# Colab FAQ\n",
        "\n",
        "For some basic overview and features offered in Colab notebooks, check out: [Overview of Colaboratory Features](https://colab.research.google.com/notebooks/basic_features_overview.ipynb)\n",
        "\n",
        "You need to use the colab GPU for this assignmentby selecting:\n",
        "\n",
        "> **Runtime**   →   **Change runtime type**   →   **Hardware Accelerator: GPU**"
      ]
    },
    {
      "cell_type": "markdown",
      "metadata": {
        "id": "s9IS9B9-yUU5"
      },
      "source": [
        "## Setup PyTorch\n",
        "All files are stored at /content/csc421/a3/ folder\n"
      ]
    },
    {
      "cell_type": "code",
      "metadata": {
        "id": "Z-6MQhMOlHXD",
        "colab": {
          "base_uri": "https://localhost:8080/",
          "height": 575
        },
        "outputId": "6535e300-d59c-4cf0-da8f-ed73268760f5"
      },
      "source": [
        "######################################################################\n",
        "# Setup python environment and change the current working directory\n",
        "######################################################################\n",
        "!pip install torch torchvision\n",
        "!pip install Pillow==4.0.0\n",
        "%mkdir -p ./content/csc421/a3/\n",
        "%cd ./content/csc421/a3"
      ],
      "execution_count": 1,
      "outputs": [
        {
          "output_type": "stream",
          "text": [
            "Requirement already satisfied: torch in /usr/local/lib/python3.7/dist-packages (1.8.0+cu101)\n",
            "Requirement already satisfied: torchvision in /usr/local/lib/python3.7/dist-packages (0.9.0+cu101)\n",
            "Requirement already satisfied: typing-extensions in /usr/local/lib/python3.7/dist-packages (from torch) (3.7.4.3)\n",
            "Requirement already satisfied: numpy in /usr/local/lib/python3.7/dist-packages (from torch) (1.19.5)\n",
            "Requirement already satisfied: pillow>=4.1.1 in /usr/local/lib/python3.7/dist-packages (from torchvision) (7.0.0)\n",
            "Collecting Pillow==4.0.0\n",
            "\u001b[?25l  Downloading https://files.pythonhosted.org/packages/8d/80/eca7a2d1a3c2dafb960f32f844d570de988e609f5fd17de92e1cf6a01b0a/Pillow-4.0.0.tar.gz (11.1MB)\n",
            "\u001b[K     |████████████████████████████████| 11.1MB 19.0MB/s \n",
            "\u001b[?25hCollecting olefile\n",
            "\u001b[?25l  Downloading https://files.pythonhosted.org/packages/34/81/e1ac43c6b45b4c5f8d9352396a14144bba52c8fec72a80f425f6a4d653ad/olefile-0.46.zip (112kB)\n",
            "\u001b[K     |████████████████████████████████| 112kB 53.5MB/s \n",
            "\u001b[?25hBuilding wheels for collected packages: Pillow, olefile\n",
            "  Building wheel for Pillow (setup.py) ... \u001b[?25l\u001b[?25hdone\n",
            "  Created wheel for Pillow: filename=Pillow-4.0.0-cp37-cp37m-linux_x86_64.whl size=1007311 sha256=925775274eb74b37168b2462057f20d111706b02531bf4d4d0a41bf43baf9f7f\n",
            "  Stored in directory: /root/.cache/pip/wheels/4f/0a/2a/7e3391063af230fac4b5fdb4cc93adcb1d99af325b623cea03\n",
            "  Building wheel for olefile (setup.py) ... \u001b[?25l\u001b[?25hdone\n",
            "  Created wheel for olefile: filename=olefile-0.46-py2.py3-none-any.whl size=35416 sha256=4688316bd47f4fb89d231cfd88e04db797f63247e9b032cc5be84908ab323acc\n",
            "  Stored in directory: /root/.cache/pip/wheels/4b/f4/11/bc4166107c27f07fd7bba707ffcb439619197638a1ac986df3\n",
            "Successfully built Pillow olefile\n",
            "\u001b[31mERROR: torchvision 0.9.0+cu101 has requirement pillow>=4.1.1, but you'll have pillow 4.0.0 which is incompatible.\u001b[0m\n",
            "\u001b[31mERROR: scikit-image 0.16.2 has requirement pillow>=4.3.0, but you'll have pillow 4.0.0 which is incompatible.\u001b[0m\n",
            "\u001b[31mERROR: albumentations 0.1.12 has requirement imgaug<0.2.7,>=0.2.5, but you'll have imgaug 0.2.9 which is incompatible.\u001b[0m\n",
            "Installing collected packages: olefile, Pillow\n",
            "  Found existing installation: Pillow 7.0.0\n",
            "    Uninstalling Pillow-7.0.0:\n",
            "      Successfully uninstalled Pillow-7.0.0\n",
            "Successfully installed Pillow-4.0.0 olefile-0.46\n"
          ],
          "name": "stdout"
        },
        {
          "output_type": "display_data",
          "data": {
            "application/vnd.colab-display-data+json": {
              "pip_warning": {
                "packages": [
                  "PIL"
                ]
              }
            }
          },
          "metadata": {
            "tags": []
          }
        },
        {
          "output_type": "stream",
          "text": [
            "/content/content/csc421/a3\n"
          ],
          "name": "stdout"
        }
      ]
    },
    {
      "cell_type": "markdown",
      "metadata": {
        "id": "9DaTdRNuUra7"
      },
      "source": [
        "# Helper code"
      ]
    },
    {
      "cell_type": "markdown",
      "metadata": {
        "id": "4BIpGwANoQOg"
      },
      "source": [
        "## Utility functions"
      ]
    },
    {
      "cell_type": "code",
      "metadata": {
        "id": "D-UJHBYZkh7f"
      },
      "source": [
        "import os\n",
        "import pdb\n",
        "import argparse\n",
        "import pickle as pkl\n",
        "\n",
        "from collections import defaultdict\n",
        "\n",
        "import numpy as np\n",
        "import matplotlib as mpl\n",
        "import matplotlib.pyplot as plt\n",
        "import matplotlib.ticker as ticker\n",
        "\n",
        "import torch\n",
        "import torch.nn as nn\n",
        "import torch.optim as optim\n",
        "import torch.nn.functional as F\n",
        "from torch.autograd import Variable\n",
        "\n",
        "from six.moves.urllib.request import urlretrieve\n",
        "import tarfile\n",
        "import pickle\n",
        "import sys\n",
        "\n",
        "\n",
        "def get_file(fname,\n",
        "             origin,\n",
        "             untar=False,\n",
        "             extract=False,\n",
        "             archive_format='auto',\n",
        "             cache_dir='data'):\n",
        "    datadir = os.path.join(cache_dir)\n",
        "    if not os.path.exists(datadir):\n",
        "        os.makedirs(datadir)\n",
        "\n",
        "    if untar:\n",
        "        untar_fpath = os.path.join(datadir, fname)\n",
        "        fpath = untar_fpath + '.tar.gz'\n",
        "    else:\n",
        "        fpath = os.path.join(datadir, fname)\n",
        "    \n",
        "    print(fpath)\n",
        "    if not os.path.exists(fpath):\n",
        "        print('Downloading data from', origin)\n",
        "\n",
        "        error_msg = 'URL fetch failure on {}: {} -- {}'\n",
        "        try:\n",
        "            try:\n",
        "                urlretrieve(origin, fpath)\n",
        "            except URLError as e:\n",
        "                raise Exception(error_msg.format(origin, e.errno, e.reason))\n",
        "            except HTTPError as e:\n",
        "                raise Exception(error_msg.format(origin, e.code, e.msg))\n",
        "        except (Exception, KeyboardInterrupt) as e:\n",
        "            if os.path.exists(fpath):\n",
        "                os.remove(fpath)\n",
        "            raise\n",
        "\n",
        "    if untar:\n",
        "        if not os.path.exists(untar_fpath):\n",
        "            print('Extracting file.')\n",
        "            with tarfile.open(fpath) as archive:\n",
        "                archive.extractall(datadir)\n",
        "        return untar_fpath\n",
        "\n",
        "    if extract:\n",
        "        _extract_archive(fpath, datadir, archive_format)\n",
        "\n",
        "    return fpath\n",
        "\n",
        "class AttrDict(dict):\n",
        "    def __init__(self, *args, **kwargs):\n",
        "        super(AttrDict, self).__init__(*args, **kwargs)\n",
        "        self.__dict__ = self\n",
        "        \n",
        "def to_var(tensor, cuda):\n",
        "    \"\"\"Wraps a Tensor in a Variable, optionally placing it on the GPU.\n",
        "\n",
        "        Arguments:\n",
        "            tensor: A Tensor object.\n",
        "            cuda: A boolean flag indicating whether to use the GPU.\n",
        "\n",
        "        Returns:\n",
        "            A Variable object, on the GPU if cuda==True.\n",
        "    \"\"\"\n",
        "    if cuda:\n",
        "        return Variable(tensor.cuda())\n",
        "    else:\n",
        "        return Variable(tensor)\n",
        "\n",
        "\n",
        "def create_dir_if_not_exists(directory):\n",
        "    \"\"\"Creates a directory if it doesn't already exist.\n",
        "    \"\"\"\n",
        "    if not os.path.exists(directory):\n",
        "        os.makedirs(directory)\n",
        "\n",
        "\n",
        "def save_loss_plot(train_losses, val_losses, opts):\n",
        "    \"\"\"Saves a plot of the training and validation loss curves.\n",
        "    \"\"\"\n",
        "    plt.figure()\n",
        "    plt.plot(range(len(train_losses)), train_losses)\n",
        "    plt.plot(range(len(val_losses)), val_losses)\n",
        "    plt.title('BS={}, nhid={}'.format(opts.batch_size, opts.hidden_size), fontsize=20)\n",
        "    plt.xlabel('Epochs', fontsize=16)\n",
        "    plt.ylabel('Loss', fontsize=16)\n",
        "    plt.xticks(fontsize=14)\n",
        "    plt.yticks(fontsize=14)\n",
        "    plt.tight_layout()\n",
        "    plt.savefig(os.path.join(opts.checkpoint_path, 'loss_plot.pdf'))\n",
        "    plt.close()\n",
        "\n",
        "\n",
        "def save_loss_comparison_lstm(l1, l2, o1, o2, fn, s=500):\n",
        "    \"\"\"Plot comparison of training and val loss curves from LSTM runs.\n",
        "    \n",
        "    Arguments:\n",
        "        l1: Tuple of lists containing training / val losses for model 1.\n",
        "        l2: Tuple of lists containing training / val losses for model 2.\n",
        "        o1: Options for model 1.\n",
        "        o2: Options for model 2.\n",
        "        fn: Output file name.\n",
        "        s: Number of training iterations to average over.\n",
        "    \"\"\"\n",
        "    mean_l1 = [np.mean(l1[0][i*s:(i+1)*s]) for i in range(len(l1[0]) // s)]\n",
        "    mean_l2 = [np.mean(l2[0][i*s:(i+1)*s]) for i in range(len(l2[0]) // s)]\n",
        "\n",
        "    plt.figure()\n",
        "\n",
        "    fig, ax = plt.subplots(1, 2, figsize=(10, 4))\n",
        "\n",
        "    ax[0].plot(range(len(mean_l1)), mean_l1, label='ds=' + o1.data_file_name)\n",
        "    ax[0].plot(range(len(mean_l2)), mean_l2, label='ds=' + o2.data_file_name)\n",
        "    ax[0].title.set_text('Train Loss | LSTM Hidden Size = {}'.format(o2.hidden_size))\n",
        "\n",
        "    # Validation losses are assumed to be by epoch\n",
        "    ax[1].plot(range(len(l1[1])), l1[1], label='ds=' + o1.data_file_name)\n",
        "    ax[1].plot(range(len(l2[1])), l2[1], label='ds=' + o2.data_file_name)\n",
        "    ax[1].title.set_text('Val Loss | LSTM Hidden Size = {}'.format(o2.hidden_size))\n",
        "\n",
        "    ax[0].set_xlabel(\"Iterations (x{})\".format(s), fontsize=10)\n",
        "    ax[0].set_ylabel(\"Loss\", fontsize=10)\n",
        "    ax[1].set_xlabel(\"Epochs\", fontsize=10)\n",
        "    ax[1].set_ylabel(\"Loss\", fontsize=10)\n",
        "    ax[0].legend(loc=\"upper right\")\n",
        "    ax[1].legend(loc=\"upper right\")\n",
        "\n",
        "    fig.suptitle('LSTM Performance by Dataset', fontsize=14)\n",
        "    plt.tight_layout()\n",
        "    fig.subplots_adjust(top=0.85)\n",
        "    plt.legend()\n",
        "    plt.savefig('./loss_plot_{}.pdf'.format(fn))\n",
        "    plt.close()\n",
        "\n",
        "\n",
        "def save_loss_comparison_by_dataset(l1, l2, l3, l4, o1, o2, o3, o4, fn, s=500):\n",
        "    \"\"\"Plot comparison of training and validation loss curves from all four\n",
        "    runs in Part 3, comparing by dataset while holding hidden size constant.\n",
        "\n",
        "    Models within each pair (l1, l2) and (l3, l4) have the same hidden sizes.\n",
        "\n",
        "    Arguments:\n",
        "        l1: Tuple of lists containing training / val losses for model 1.\n",
        "        l2: Tuple of lists containing training / val losses for model 2.\n",
        "        l3: Tuple of lists containing training / val losses for model 3.\n",
        "        l4: Tuple of lists containing training / val losses for model 4.\n",
        "        o1: Options for model 1.\n",
        "        o2: Options for model 2.\n",
        "        o3: Options for model 3.\n",
        "        o4: Options for model 4.\n",
        "        fn: Output file name.\n",
        "        s: Number of training iterations to average over.\n",
        "    \"\"\"\n",
        "    mean_l1 = [np.mean(l1[0][i*s:(i+1)*s]) for i in range(len(l1[0]) // s)]\n",
        "    mean_l2 = [np.mean(l2[0][i*s:(i+1)*s]) for i in range(len(l2[0]) // s)]\n",
        "    mean_l3 = [np.mean(l3[0][i*s:(i+1)*s]) for i in range(len(l3[0]) // s)]\n",
        "    mean_l4 = [np.mean(l4[0][i*s:(i+1)*s]) for i in range(len(l4[0]) // s)]\n",
        "\n",
        "    plt.figure()\n",
        "    fig, ax = plt.subplots(2, 2, figsize=(10, 8))\n",
        "\n",
        "    ax[0][0].plot(range(len(mean_l1)), mean_l1, label='ds=' + o1.data_file_name)\n",
        "    ax[0][0].plot(range(len(mean_l2)), mean_l2, label='ds=' + o2.data_file_name)\n",
        "    ax[0][0].title.set_text('Train Loss | Model Hidden Size = {}'.format(o1.hidden_size))\n",
        "\n",
        "    # Validation losses are assumed to be by epoch\n",
        "    ax[0][1].plot(range(len(l1[1])), l1[1], label='ds=' + o1.data_file_name)\n",
        "    ax[0][1].plot(range(len(l2[1])), l2[1], label='ds=' + o2.data_file_name)\n",
        "    ax[0][1].title.set_text('Val Loss | Model Hidden Size = {}'.format(o1.hidden_size))\n",
        "\n",
        "    ax[1][0].plot(range(len(mean_l3)), mean_l3, label='ds=' + o3.data_file_name)\n",
        "    ax[1][0].plot(range(len(mean_l4)), mean_l4, label='ds=' + o4.data_file_name)\n",
        "    ax[1][0].title.set_text('Train Loss | Model Hidden Size = {}'.format(o3.hidden_size))\n",
        "\n",
        "    ax[1][1].plot(range(len(l3[1])), l3[1], label='ds=' + o3.data_file_name)\n",
        "    ax[1][1].plot(range(len(l4[1])), l4[1], label='ds=' + o4.data_file_name)\n",
        "    ax[1][1].title.set_text('Val Loss | Model Hidden Size = {}'.format(o4.hidden_size))\n",
        "\n",
        "    for i in range(2):\n",
        "        ax[i][0].set_xlabel(\"Iterations (x{})\".format(s), fontsize=10)\n",
        "        ax[i][0].set_ylabel(\"Loss\", fontsize=10)\n",
        "        ax[i][1].set_xlabel(\"Epochs\", fontsize=10)\n",
        "        ax[i][1].set_ylabel(\"Loss\", fontsize=10)\n",
        "        ax[i][0].legend(loc=\"upper right\")\n",
        "        ax[i][1].legend(loc=\"upper right\")\n",
        "\n",
        "    fig.suptitle(\"Performance by Dataset Size\", fontsize=16)\n",
        "    plt.tight_layout()\n",
        "    fig.subplots_adjust(top=0.9)\n",
        "    plt.legend()\n",
        "    plt.savefig('./loss_plot_{}.pdf'.format(fn))\n",
        "    plt.close()\n",
        "\n",
        "def save_loss_comparison_by_hidden(l1, l2, l3, l4, o1, o2, o3, o4, fn, s=500):\n",
        "    \"\"\"Plot comparison of training and validation loss curves from all four\n",
        "    runs in Part 3, comparing by hidden size while holding dataset constant.\n",
        "\n",
        "    Models within each pair (l1, l3) and (l2, l4) have the same dataset.\n",
        "\n",
        "    Arguments:\n",
        "        l1: Tuple of lists containing training / val losses for model 1.\n",
        "        l2: Tuple of lists containing training / val losses for model 2.\n",
        "        l3: Tuple of lists containing training / val losses for model 3.\n",
        "        l4: Tuple of lists containing training / val losses for model 4.\n",
        "        o1: Options for model 1.\n",
        "        o2: Options for model 2.\n",
        "        o3: Options for model 3.\n",
        "        o4: Options for model 4.\n",
        "        fn: Output file name.\n",
        "        s: Number of training iterations to average over.\n",
        "    \"\"\"\n",
        "    mean_l1 = [np.mean(l1[0][i*s:(i+1)*s]) for i in range(len(l1[0]) // s)]\n",
        "    mean_l2 = [np.mean(l2[0][i*s:(i+1)*s]) for i in range(len(l2[0]) // s)]\n",
        "    mean_l3 = [np.mean(l3[0][i*s:(i+1)*s]) for i in range(len(l3[0]) // s)]\n",
        "    mean_l4 = [np.mean(l4[0][i*s:(i+1)*s]) for i in range(len(l4[0]) // s)]\n",
        "\n",
        "    plt.figure()\n",
        "    fig, ax = plt.subplots(2, 2, figsize=(10, 8))\n",
        "\n",
        "    ax[0][0].plot(range(len(mean_l1)), mean_l1, label='hid_size=' + str(o1.hidden_size))\n",
        "    ax[0][0].plot(range(len(mean_l3)), mean_l3, label='hid_size=' + str(o3.hidden_size))\n",
        "    ax[0][0].title.set_text('Train Loss | Dataset = ' + o1.data_file_name)\n",
        "\n",
        "    # Validation losses are assumed to be by epoch\n",
        "    ax[0][1].plot(range(len(l1[1])), l1[1], label='hid_size=' + str(o1.hidden_size))\n",
        "    ax[0][1].plot(range(len(l3[1])), l3[1], label='hid_size=' + str(o3.hidden_size))\n",
        "    ax[0][1].title.set_text('Val Loss | Dataset = ' + o1.data_file_name)\n",
        "\n",
        "    ax[1][0].plot(range(len(mean_l2)), mean_l2, label='hid_size=' + str(o2.hidden_size))\n",
        "    ax[1][0].plot(range(len(mean_l4)), mean_l4, label='hid_size=' + str(o4.hidden_size))\n",
        "    ax[1][0].title.set_text('Train Loss | Dataset = ' + o3.data_file_name)\n",
        "\n",
        "    ax[1][1].plot(range(len(l2[1])), l2[1], label='hid_size=' + str(o2.hidden_size))\n",
        "    ax[1][1].plot(range(len(l4[1])), l4[1], label='hid_size=' + str(o4.hidden_size))\n",
        "    ax[1][1].title.set_text('Val Loss | Dataset = ' + o4.data_file_name)\n",
        "\n",
        "    for i in range(2):\n",
        "        ax[i][0].set_xlabel(\"Iterations (x{})\".format(s), fontsize=10)\n",
        "        ax[i][0].set_ylabel(\"Loss\", fontsize=10)\n",
        "        ax[i][1].set_xlabel(\"Epochs\", fontsize=10)\n",
        "        ax[i][1].set_ylabel(\"Loss\", fontsize=10)\n",
        "        ax[i][0].legend(loc=\"upper right\")\n",
        "        ax[i][1].legend(loc=\"upper right\")\n",
        "\n",
        "    fig.suptitle(\"Performance by Hidden State Size\", fontsize=16)\n",
        "    plt.tight_layout()\n",
        "    fig.subplots_adjust(top=0.9)\n",
        "    plt.legend()\n",
        "    plt.savefig('./loss_plot_{}.pdf'.format(fn))\n",
        "    plt.close()\n",
        "\n",
        "\n",
        "def checkpoint(encoder, decoder, idx_dict, opts):\n",
        "    \"\"\"Saves the current encoder and decoder models, along with idx_dict, which\n",
        "    contains the char_to_index and index_to_char mappings, and the start_token\n",
        "    and end_token values.\n",
        "    \"\"\"\n",
        "    with open(os.path.join(opts.checkpoint_path, 'encoder.pt'), 'wb') as f:\n",
        "        torch.save(encoder, f)\n",
        "\n",
        "    with open(os.path.join(opts.checkpoint_path, 'decoder.pt'), 'wb') as f:\n",
        "        torch.save(decoder, f)\n",
        "\n",
        "    with open(os.path.join(opts.checkpoint_path, 'idx_dict.pkl'), 'wb') as f:\n",
        "        pkl.dump(idx_dict, f)\n"
      ],
      "execution_count": 2,
      "outputs": []
    },
    {
      "cell_type": "markdown",
      "metadata": {
        "id": "pbvpn4MaV0I1"
      },
      "source": [
        "## Data loader"
      ]
    },
    {
      "cell_type": "code",
      "metadata": {
        "id": "XVT4TNTOV3Eg"
      },
      "source": [
        "def read_lines(filename):\n",
        "    \"\"\"Read a file and split it into lines.\n",
        "    \"\"\"\n",
        "    lines = open(filename).read().strip().lower().split('\\n')\n",
        "    return lines\n",
        "\n",
        "\n",
        "def read_pairs(filename):\n",
        "    \"\"\"Reads lines that consist of two words, separated by a space.\n",
        "\n",
        "    Returns:\n",
        "        source_words: A list of the first word in each line of the file.\n",
        "        target_words: A list of the second word in each line of the file.\n",
        "    \"\"\"\n",
        "    lines = read_lines(filename)\n",
        "    source_words, target_words = [], []\n",
        "    for line in lines:\n",
        "        line = line.strip()\n",
        "        if line:\n",
        "            source, target = line.split()\n",
        "            source_words.append(source)\n",
        "            target_words.append(target)\n",
        "    return source_words, target_words\n",
        "\n",
        "\n",
        "def all_alpha_or_dash(s):\n",
        "    \"\"\"Helper function to check whether a string is alphabetic, allowing dashes '-'.\n",
        "    \"\"\"\n",
        "    return all(c.isalpha() or c == '-' for c in s)\n",
        "\n",
        "\n",
        "def filter_lines(lines):\n",
        "    \"\"\"Filters lines to consist of only alphabetic characters or dashes \"-\".\n",
        "    \"\"\"\n",
        "    return [line for line in lines if all_alpha_or_dash(line)]\n",
        "\n",
        "\n",
        "def load_data(file_name):\n",
        "    \"\"\"Loads (English, Pig-Latin) word pairs, and creates mappings from characters to indexes.\n",
        "    \"\"\"\n",
        "    path = \"./data/{}.txt\".format(file_name)\n",
        "    source_lines, target_lines = read_pairs(path)\n",
        "\n",
        "    # Filter lines\n",
        "    source_lines = filter_lines(source_lines)\n",
        "    target_lines = filter_lines(target_lines)\n",
        "\n",
        "    all_characters = set(''.join(source_lines)) | set(''.join(target_lines))\n",
        "\n",
        "    # Create a dictionary mapping each character to a unique index\n",
        "    char_to_index = { char: index for (index, char) in enumerate(sorted(list(all_characters))) }\n",
        "\n",
        "    # Add start and end tokens to the dictionary\n",
        "    start_token = len(char_to_index)\n",
        "    end_token = len(char_to_index) + 1\n",
        "    char_to_index['SOS'] = start_token\n",
        "    char_to_index['EOS'] = end_token\n",
        "\n",
        "    # Create the inverse mapping, from indexes to characters (used to decode the model's predictions)\n",
        "    index_to_char = { index: char for (char, index) in char_to_index.items() }\n",
        "\n",
        "    # Store the final size of the vocabulary\n",
        "    vocab_size = len(char_to_index)\n",
        "\n",
        "    line_pairs = list(set(zip(source_lines, target_lines)))  # Python 3\n",
        "\n",
        "    idx_dict = { 'char_to_index': char_to_index,\n",
        "                 'index_to_char': index_to_char,\n",
        "                 'start_token': start_token,\n",
        "                 'end_token': end_token }\n",
        "\n",
        "    return line_pairs, vocab_size, idx_dict\n",
        "\n",
        "\n",
        "def create_dict(pairs):\n",
        "    \"\"\"Creates a mapping { (source_length, target_length): [list of (source, target) pairs]\n",
        "    This is used to make batches: each batch consists of two parallel tensors, one containing\n",
        "    all source indexes and the other containing all corresponding target indexes.\n",
        "    Within a batch, all the source words are the same length, and all the target words are\n",
        "    the same length.\n",
        "    \"\"\"\n",
        "    unique_pairs = list(set(pairs))  # Find all unique (source, target) pairs\n",
        "\n",
        "    d = defaultdict(list)\n",
        "    for (s,t) in unique_pairs:\n",
        "        d[(len(s), len(t))].append((s,t))\n",
        "\n",
        "    return d\n"
      ],
      "execution_count": 3,
      "outputs": []
    },
    {
      "cell_type": "markdown",
      "metadata": {
        "id": "bRWfRdmVVjUl"
      },
      "source": [
        "## Training and evaluation code"
      ]
    },
    {
      "cell_type": "code",
      "metadata": {
        "id": "wa5-onJhoSeM"
      },
      "source": [
        "def string_to_index_list(s, char_to_index, end_token):\n",
        "    \"\"\"Converts a sentence into a list of indexes (for each character).\n",
        "    \"\"\"\n",
        "    return [char_to_index[char] for char in s] + [end_token]  # Adds the end token to each index list\n",
        "\n",
        "\n",
        "def translate_sentence(sentence, encoder, decoder, idx_dict, opts):\n",
        "    \"\"\"Translates a sentence from English to Pig-Latin, by splitting the sentence into\n",
        "    words (whitespace-separated), running the encoder-decoder model to translate each\n",
        "    word independently, and then stitching the words back together with spaces between them.\n",
        "    \"\"\"\n",
        "    if idx_dict is None:\n",
        "      line_pairs, vocab_size, idx_dict = load_data(opts['data_file_name'])\n",
        "    return ' '.join([translate(word, encoder, decoder, idx_dict, opts) for word in sentence.split()])\n",
        "\n",
        "\n",
        "def translate(input_string, encoder, decoder, idx_dict, opts):\n",
        "    \"\"\"Translates a given string from English to Pig-Latin.\n",
        "    \"\"\"\n",
        "\n",
        "    char_to_index = idx_dict['char_to_index']\n",
        "    index_to_char = idx_dict['index_to_char']\n",
        "    start_token = idx_dict['start_token']\n",
        "    end_token = idx_dict['end_token']\n",
        "\n",
        "    max_generated_chars = 20\n",
        "    gen_string = ''\n",
        "\n",
        "    indexes = string_to_index_list(input_string, char_to_index, end_token)\n",
        "    indexes = to_var(torch.LongTensor(indexes).unsqueeze(0), opts.cuda)  # Unsqueeze to make it like BS = 1\n",
        "\n",
        "    encoder_annotations, encoder_last_hidden, encoder_last_cell = encoder(indexes)\n",
        "\n",
        "    decoder_hidden = encoder_last_hidden\n",
        "    decoder_cell = encoder_last_cell\n",
        "    decoder_input = to_var(torch.LongTensor([[start_token]]), opts.cuda)  # For BS = 1\n",
        "    decoder_inputs = decoder_input\n",
        "\n",
        "    for i in range(max_generated_chars):\n",
        "        ## slow decoding, recompute everything at each time\n",
        "        decoder_outputs, attention_weights = decoder(decoder_inputs, encoder_annotations, decoder_hidden, decoder_cell)\n",
        "\n",
        "        generated_words = F.softmax(decoder_outputs, dim=2).max(2)[1]\n",
        "        ni = generated_words.cpu().numpy().reshape(-1)  # LongTensor of size 1\n",
        "        ni = ni[-1] #latest output token\n",
        "\n",
        "        decoder_inputs = torch.cat([decoder_input, generated_words], dim=1)\n",
        "\n",
        "        if ni == end_token:\n",
        "            break\n",
        "        else:\n",
        "            gen_string = \"\".join(\n",
        "                [index_to_char[int(item)] \n",
        "                for item in generated_words.cpu().numpy().reshape(-1)])\n",
        "\n",
        "    return gen_string\n",
        "\n",
        "\n",
        "def visualize_attention(input_string, encoder, decoder, idx_dict, opts):\n",
        "    \"\"\"Generates a heatmap to show where attention is focused in each decoder step.\n",
        "    \"\"\"\n",
        "    if idx_dict is None:\n",
        "      line_pairs, vocab_size, idx_dict = load_data(opts['data_file_name'])\n",
        "    char_to_index = idx_dict['char_to_index']\n",
        "    index_to_char = idx_dict['index_to_char']\n",
        "    start_token = idx_dict['start_token']\n",
        "    end_token = idx_dict['end_token']\n",
        "\n",
        "    max_generated_chars = 20\n",
        "    gen_string = ''\n",
        "\n",
        "    indexes = string_to_index_list(input_string, char_to_index, end_token)\n",
        "    indexes = to_var(torch.LongTensor(indexes).unsqueeze(0), opts.cuda)  # Unsqueeze to make it like BS = 1\n",
        "\n",
        "    encoder_annotations, encoder_hidden, encoder_cell = encoder(indexes)\n",
        "\n",
        "    decoder_hidden = encoder_hidden\n",
        "    decoder_cell = encoder_cell\n",
        "    decoder_input = to_var(torch.LongTensor([[start_token]]), opts.cuda)  # For BS = 1\n",
        "    decoder_inputs = decoder_input\n",
        "\n",
        "    produced_end_token = False\n",
        "\n",
        "    for i in range(max_generated_chars):\n",
        "        ## slow decoding, recompute everything at each time\n",
        "        decoder_outputs, attention_weights = decoder(decoder_inputs, encoder_annotations, decoder_hidden, decoder_cell)\n",
        "        generated_words = F.softmax(decoder_outputs, dim=2).max(2)[1]\n",
        "        ni = generated_words.cpu().numpy().reshape(-1)  # LongTensor of size 1\n",
        "        ni = ni[-1] #latest output token\n",
        "\n",
        "        decoder_inputs = torch.cat([decoder_input, generated_words], dim=1)\n",
        "\n",
        "        if ni == end_token:\n",
        "            break\n",
        "        else:\n",
        "            gen_string = \"\".join(\n",
        "                [index_to_char[int(item)] \n",
        "                for item in generated_words.cpu().numpy().reshape(-1)])\n",
        "    \n",
        "    if isinstance(attention_weights, tuple):\n",
        "      ## transformer's attention mweights\n",
        "      attention_weights, self_attention_weights = attention_weights\n",
        "    \n",
        "    all_attention_weights = attention_weights.data.cpu().numpy()\n",
        "    \n",
        "    for i in range(len(all_attention_weights)):\n",
        "        attention_weights_matrix = all_attention_weights[i].squeeze()\n",
        "        fig = plt.figure()\n",
        "        ax = fig.add_subplot(111)\n",
        "        cax = ax.matshow(attention_weights_matrix, cmap='bone')\n",
        "        fig.colorbar(cax)\n",
        "\n",
        "        # Set up axes\n",
        "        ax.set_yticklabels([''] + list(input_string) + ['EOS'], rotation=90)\n",
        "        ax.set_xticklabels([''] + list(gen_string) + (['EOS'] if produced_end_token else []))\n",
        "\n",
        "        # Show label at every tick\n",
        "        ax.xaxis.set_major_locator(ticker.MultipleLocator(1))\n",
        "        ax.yaxis.set_major_locator(ticker.MultipleLocator(1))\n",
        "        # Add title\n",
        "        plt.xlabel('Attention weights to the source sentence in layer {}'.format(i+1))\n",
        "        plt.tight_layout()\n",
        "        plt.grid('off')\n",
        "        plt.show()\n",
        "\n",
        "    return gen_string\n",
        "\n",
        "\n",
        "def compute_loss(data_dict, encoder, decoder, idx_dict, criterion, optimizer, opts):\n",
        "    \"\"\"Train/Evaluate the model on a dataset.\n",
        "\n",
        "    Arguments:\n",
        "        data_dict: The validation/test word pairs, organized by source and target lengths.\n",
        "        encoder: An encoder model to produce annotations for each step of the input sequence.\n",
        "        decoder: A decoder model (with or without attention) to generate output tokens.\n",
        "        idx_dict: Contains char-to-index and index-to-char mappings, and start & end token indexes.\n",
        "        criterion: Used to compute the CrossEntropyLoss for each decoder output.\n",
        "        optimizer: Train the weights if an optimizer is given. None if only evaluate the model. \n",
        "        opts: The command-line arguments.\n",
        "\n",
        "    Returns:\n",
        "        mean_loss: The average loss over all batches from data_dict.\n",
        "    \"\"\"\n",
        "    start_token = idx_dict['start_token']\n",
        "    end_token = idx_dict['end_token']\n",
        "    char_to_index = idx_dict['char_to_index']\n",
        "\n",
        "    losses = []\n",
        "    for key in data_dict:\n",
        "        input_strings, target_strings = zip(*data_dict[key])\n",
        "        input_tensors = [torch.LongTensor(string_to_index_list(s, char_to_index, end_token)) for s in input_strings]\n",
        "        target_tensors = [torch.LongTensor(string_to_index_list(s, char_to_index, end_token)) for s in target_strings]\n",
        "\n",
        "        num_tensors = len(input_tensors)\n",
        "        num_batches = int(np.ceil(num_tensors / float(opts.batch_size)))\n",
        "\n",
        "        for i in range(num_batches):\n",
        "\n",
        "            start = i * opts.batch_size\n",
        "            end = start + opts.batch_size\n",
        "\n",
        "            inputs = to_var(torch.stack(input_tensors[start:end]), opts.cuda)\n",
        "            targets = to_var(torch.stack(target_tensors[start:end]), opts.cuda)\n",
        "\n",
        "            # The batch size may be different in each epoch\n",
        "            BS = inputs.size(0)\n",
        "\n",
        "            encoder_annotations, encoder_hidden, encoder_cell = encoder(inputs)\n",
        "\n",
        "            # The last hidden state of the encoder becomes the first hidden state of the decoder\n",
        "            decoder_hidden = encoder_hidden\n",
        "            decoder_cell = encoder_cell\n",
        "\n",
        "            start_vector = torch.ones(BS).long().unsqueeze(1) * start_token  # BS x 1 --> 16x1  CHECKED\n",
        "            decoder_input = to_var(start_vector, opts.cuda)  # BS x 1 --> 16x1  CHECKED\n",
        "\n",
        "            loss = 0.0\n",
        "\n",
        "            seq_len = targets.size(1)  # Gets seq_len from BS x seq_len\n",
        "\n",
        "            decoder_inputs = torch.cat([decoder_input, targets[:, 0:-1]], dim=1)  # Gets decoder inputs by shifting the targets to the right \n",
        "\n",
        "            decoder_outputs, attention_weights = decoder(decoder_inputs, encoder_annotations, decoder_hidden, decoder_cell)\n",
        "            decoder_outputs_flatten = decoder_outputs.view(-1, decoder_outputs.size(2))\n",
        "            targets_flatten = targets.view(-1)\n",
        "            \n",
        "            loss = criterion(decoder_outputs_flatten, targets_flatten)\n",
        "\n",
        "            losses.append(loss.item())\n",
        "\n",
        "            ## training if an optimizer is provided\n",
        "            if optimizer:\n",
        "              # Zero gradients\n",
        "              optimizer.zero_grad()\n",
        "              # Compute gradients\n",
        "              loss.backward()\n",
        "              # Update the parameters of the encoder and decoder\n",
        "              optimizer.step()\n",
        "\n",
        "    return losses\n",
        "\n",
        "  \n",
        "\n",
        "def training_loop(train_dict, val_dict, idx_dict, encoder, decoder, criterion, optimizer, opts):\n",
        "    \"\"\"Runs the main training loop; evaluates the model on the val set every epoch.\n",
        "        * Prints training and val loss each epoch.\n",
        "        * Prints qualitative translation results each epoch using TEST_SENTENCE\n",
        "        * Saves an attention map for TEST_WORD_ATTN each epoch\n",
        "        * Returns loss curves for comparison\n",
        "\n",
        "    Arguments:\n",
        "        train_dict: The training word pairs, organized by source and target lengths.\n",
        "        val_dict: The validation word pairs, organized by source and target lengths.\n",
        "        idx_dict: Contains char-to-index and index-to-char mappings, and start & end token indexes.\n",
        "        encoder: An encoder model to produce annotations for each step of the input sequence.\n",
        "        decoder: A decoder model (with or without attention) to generate output tokens.\n",
        "        criterion: Used to compute the CrossEntropyLoss for each decoder output.\n",
        "        optimizer: Implements a step rule to update the parameters of the encoder and decoder.\n",
        "        opts: The command-line arguments.\n",
        "    \n",
        "    Returns:\n",
        "        losses: Lists containing training and validation loss curves.\n",
        "    \"\"\"\n",
        "\n",
        "    start_token = idx_dict['start_token']\n",
        "    end_token = idx_dict['end_token']\n",
        "    char_to_index = idx_dict['char_to_index']\n",
        "\n",
        "    loss_log = open(os.path.join(opts.checkpoint_path, 'loss_log.txt'), 'w')\n",
        "\n",
        "    best_val_loss = 1e6\n",
        "    train_losses = []\n",
        "    val_losses = []\n",
        "    \n",
        "    mean_train_losses = []\n",
        "    mean_val_losses = []\n",
        "\n",
        "    early_stopping_counter = 0\n",
        "    \n",
        "    for epoch in range(opts.nepochs):\n",
        "\n",
        "        optimizer.param_groups[0]['lr'] *= opts.lr_decay\n",
        "        \n",
        "        train_loss = compute_loss(train_dict, encoder, decoder, idx_dict, criterion, optimizer, opts)\n",
        "        val_loss = compute_loss(val_dict, encoder, decoder, idx_dict, criterion, None, opts)\n",
        "\n",
        "        mean_train_loss = np.mean(train_loss)\n",
        "        mean_val_loss = np.mean(val_loss)\n",
        "\n",
        "        if mean_val_loss < best_val_loss:\n",
        "            checkpoint(encoder, decoder, idx_dict, opts)\n",
        "            best_val_loss = mean_val_loss\n",
        "            early_stopping_counter = 0\n",
        "        else:\n",
        "            early_stopping_counter += 1\n",
        "        \n",
        "        if early_stopping_counter > opts.early_stopping_patience:\n",
        "            print(\"Validation loss has not improved in {} epochs, stopping early\".format(opts.early_stopping_patience))\n",
        "            print(\"Obtained lowest validation loss of: {}\".format(best_val_loss))\n",
        "            return (train_losses, mean_val_losses)\n",
        "\n",
        "        gen_string = translate_sentence(TEST_SENTENCE, encoder, decoder, idx_dict, opts)\n",
        "        print(\"Epoch: {:3d} | Train loss: {:.3f} | Val loss: {:.3f} | Gen: {:20s}\".format(epoch, mean_train_loss, mean_val_loss, gen_string))\n",
        "\n",
        "        loss_log.write('{} {} {}\\n'.format(epoch, train_loss, val_loss))\n",
        "        loss_log.flush()\n",
        "\n",
        "        train_losses += train_loss\n",
        "        val_losses += val_loss\n",
        "\n",
        "        mean_train_losses.append(mean_train_loss)\n",
        "        mean_val_losses.append(mean_val_loss)\n",
        "\n",
        "        save_loss_plot(mean_train_losses, mean_val_losses, opts)\n",
        "\n",
        "    print(\"Obtained lowest validation loss of: {}\".format(best_val_loss))\n",
        "    return (train_losses, mean_val_losses)\n",
        "\n",
        "\n",
        "def print_data_stats(line_pairs, vocab_size, idx_dict):\n",
        "    \"\"\"Prints example word pairs, the number of data points, and the vocabulary.\n",
        "    \"\"\"\n",
        "    print('=' * 80)\n",
        "    print('Data Stats'.center(80))\n",
        "    print('-' * 80)\n",
        "    for pair in line_pairs[:5]:\n",
        "        print(pair)\n",
        "    print('Num unique word pairs: {}'.format(len(line_pairs)))\n",
        "    print('Vocabulary: {}'.format(idx_dict['char_to_index'].keys()))\n",
        "    print('Vocab size: {}'.format(vocab_size))\n",
        "    print('=' * 80)\n",
        "\n",
        "\n",
        "def train(opts):\n",
        "    line_pairs, vocab_size, idx_dict = load_data(opts['data_file_name'])\n",
        "    print_data_stats(line_pairs, vocab_size, idx_dict)\n",
        "\n",
        "    # Split the line pairs into an 80% train and 20% val split\n",
        "    num_lines = len(line_pairs)\n",
        "    num_train = int(0.8 * num_lines)\n",
        "    train_pairs, val_pairs = line_pairs[:num_train], line_pairs[num_train:]\n",
        "\n",
        "    # Group the data by the lengths of the source and target words, to form batches\n",
        "    train_dict = create_dict(train_pairs)\n",
        "    val_dict = create_dict(val_pairs)\n",
        "\n",
        "    ##########################################################################\n",
        "    ### Setup: Create Encoder, Decoder, Learning Criterion, and Optimizers ###\n",
        "    ##########################################################################\n",
        "    if opts.encoder_type == \"rnn\":\n",
        "        encoder = LSTMEncoder(vocab_size=vocab_size, \n",
        "                              hidden_size=opts.hidden_size, \n",
        "                              opts=opts)\n",
        "    elif opts.encoder_type == \"transformer\":\n",
        "        encoder = TransformerEncoder(vocab_size=vocab_size, \n",
        "                                     hidden_size=opts.hidden_size, \n",
        "                                     num_layers=opts.num_transformer_layers,\n",
        "                                     opts=opts)\n",
        "    else:\n",
        "        raise NotImplementedError\n",
        "\n",
        "    if opts.decoder_type == 'rnn':\n",
        "        decoder = RNNDecoder(vocab_size=vocab_size, \n",
        "                             hidden_size=opts.hidden_size)\n",
        "    elif opts.decoder_type == 'rnn_attention':\n",
        "        decoder = RNNAttentionDecoder(vocab_size=vocab_size, \n",
        "                                      hidden_size=opts.hidden_size, \n",
        "                                      attention_type=opts.attention_type)\n",
        "    elif opts.decoder_type == 'transformer':\n",
        "        decoder = TransformerDecoder(vocab_size=vocab_size, \n",
        "                                     hidden_size=opts.hidden_size, \n",
        "                                     num_layers=opts.num_transformer_layers)\n",
        "    else:\n",
        "        raise NotImplementedError\n",
        "        \n",
        "    #### setup checkpoint path\n",
        "    model_name = 'h{}-bs{}-{}-{}'.format(opts.hidden_size, \n",
        "                                      opts.batch_size, \n",
        "                                      opts.decoder_type,\n",
        "                                      opts.data_file_name)\n",
        "    opts.checkpoint_path = model_name\n",
        "    create_dir_if_not_exists(opts.checkpoint_path)\n",
        "    ####\n",
        "\n",
        "    if opts.cuda:\n",
        "        encoder.cuda()\n",
        "        decoder.cuda()\n",
        "        print(\"Moved models to GPU!\")\n",
        "\n",
        "    criterion = nn.CrossEntropyLoss()\n",
        "    optimizer = optim.Adam(list(encoder.parameters()) + list(decoder.parameters()), lr=opts.learning_rate)\n",
        "\n",
        "    try:\n",
        "        losses = training_loop(train_dict, val_dict, idx_dict, encoder, \n",
        "                               decoder, criterion, optimizer, opts)\n",
        "    except KeyboardInterrupt:\n",
        "        print('Exiting early from training.')\n",
        "        return encoder, decoder, losses\n",
        "      \n",
        "    return encoder, decoder, losses\n",
        "\n",
        "\n",
        "def print_opts(opts):\n",
        "    \"\"\"Prints the values of all command-line arguments.\n",
        "    \"\"\"\n",
        "    print('=' * 80)\n",
        "    print('Opts'.center(80))\n",
        "    print('-' * 80)\n",
        "    for key in opts.__dict__:\n",
        "        print('{:>30}: {:<30}'.format(key, opts.__dict__[key]).center(80))\n",
        "    print('=' * 80)\n"
      ],
      "execution_count": 4,
      "outputs": []
    },
    {
      "cell_type": "markdown",
      "metadata": {
        "id": "0yh08KhgnA30"
      },
      "source": [
        "## Download dataset"
      ]
    },
    {
      "cell_type": "code",
      "metadata": {
        "id": "aROU2xZanDKq",
        "colab": {
          "base_uri": "https://localhost:8080/"
        },
        "outputId": "fe335a0d-a9a5-41bd-cfff-cdd7d5b1b2db"
      },
      "source": [
        "######################################################################\n",
        "# Download Translation datasets\n",
        "######################################################################\n",
        "data_fpath = get_file(fname='pig_latin_small.txt', \n",
        "                         origin='http://www.cs.toronto.edu/~jba/pig_latin_small.txt', \n",
        "                         untar=False)\n",
        "\n",
        "data_fpath = get_file(fname='pig_latin_large.txt', \n",
        "                         origin='http://www.cs.toronto.edu/~jba/pig_latin_large.txt', \n",
        "                         untar=False)"
      ],
      "execution_count": 5,
      "outputs": [
        {
          "output_type": "stream",
          "text": [
            "data/pig_latin_small.txt\n",
            "Downloading data from http://www.cs.toronto.edu/~jba/pig_latin_small.txt\n",
            "data/pig_latin_large.txt\n",
            "Downloading data from http://www.cs.toronto.edu/~jba/pig_latin_large.txt\n"
          ],
          "name": "stdout"
        }
      ]
    },
    {
      "cell_type": "markdown",
      "metadata": {
        "id": "YDYMr7NclZdw"
      },
      "source": [
        "# Part 1: Long Short-Term Memory Unit (LSTM)"
      ]
    },
    {
      "cell_type": "markdown",
      "metadata": {
        "id": "dCae1mOUlZrC"
      },
      "source": [
        "## Step 1: LSTM Cell\n",
        "Please implement the Long Short-Term Memory class defined in the next cell. "
      ]
    },
    {
      "cell_type": "code",
      "metadata": {
        "id": "cOnALRQkkjDO"
      },
      "source": [
        "class MyLSTMCell(nn.Module):\n",
        "    def __init__(self, input_size, hidden_size):\n",
        "        super(MyLSTMCell, self).__init__()\n",
        "\n",
        "        self.input_size = input_size\n",
        "        self.hidden_size = hidden_size\n",
        "\n",
        "        # ------------\n",
        "        # FILL THIS IN\n",
        "        # ------------\n",
        "        self.Wii = nn.Linear(input_size, hidden_size)\n",
        "        self.Whi = nn.Linear(hidden_size, hidden_size)\n",
        "\n",
        "        self.Wif = nn.Linear(input_size, hidden_size)\n",
        "        self.Whf = nn.Linear(hidden_size, hidden_size)\n",
        "\n",
        "        self.Wig = nn.Linear(input_size, hidden_size)\n",
        "        self.Whg = nn.Linear(hidden_size, hidden_size)\n",
        "\n",
        "        self.Wio = nn.Linear(input_size, hidden_size)\n",
        "        self.Who = nn.Linear(hidden_size, hidden_size)\n",
        "\n",
        "\n",
        "    def forward(self, x, h_prev, c_prev):\n",
        "        \"\"\"Forward pass of the LSTM computation for one time step.\n",
        "\n",
        "        Arguments\n",
        "            x: batch_size x input_size\n",
        "            h_prev: batch_size x hidden_size\n",
        "            c_prev: batch_size x hidden_size\n",
        "\n",
        "        Returns:\n",
        "            h_new: batch_size x hidden_size\n",
        "            c_new: batch_size x hidden_size\n",
        "        \"\"\"\n",
        "\n",
        "        # ------------\n",
        "        # FILL THIS IN\n",
        "        # ------------\n",
        "        i = torch.sigmoid(torch.add(self.Wii(x), self.Whi(h_prev)))\n",
        "        f = torch.sigmoid(torch.add(self.Wif(x), self.Whf(h_prev)))\n",
        "        g = torch.tanh(torch.add(self.Wig(x), self.Whg(h_prev)))\n",
        "        o = torch.sigmoid(torch.add(self.Wio(x), self.Who(h_prev)))\n",
        "        c_new = torch.add(torch.mul(f,c_prev), torch.mul(i, g))\n",
        "        h_new = torch.mul(o, torch.tanh(c_new))\n",
        "        return h_new, c_new"
      ],
      "execution_count": 6,
      "outputs": []
    },
    {
      "cell_type": "markdown",
      "metadata": {
        "id": "ecEq4TP2lZ4Z"
      },
      "source": [
        "## Step 2: LSTM Encoder\n",
        "Please inspect the following recurrent encoder/decoder implementations. Make sure to run the cells before proceeding. "
      ]
    },
    {
      "cell_type": "code",
      "metadata": {
        "id": "8jDNim2fmVJV"
      },
      "source": [
        "class LSTMEncoder(nn.Module):\n",
        "    def __init__(self, vocab_size, hidden_size, opts):\n",
        "        super(LSTMEncoder, self).__init__()\n",
        "\n",
        "        self.vocab_size = vocab_size\n",
        "        self.hidden_size = hidden_size\n",
        "        self.opts = opts\n",
        "\n",
        "        self.embedding = nn.Embedding(vocab_size, hidden_size)\n",
        "        self.lstm = MyLSTMCell(hidden_size, hidden_size)\n",
        "\n",
        "    def forward(self, inputs):\n",
        "        \"\"\"Forward pass of the encoder RNN.\n",
        "\n",
        "        Arguments:\n",
        "            inputs: Input token indexes across a batch for all time steps in the sequence. (batch_size x seq_len)\n",
        "\n",
        "        Returns:\n",
        "            annotations: The hidden states computed at each step of the input sequence. (batch_size x seq_len x hidden_size)\n",
        "            hidden: The final hidden state of the encoder, for each sequence in a batch. (batch_size x hidden_size)\n",
        "        \"\"\"\n",
        "\n",
        "        batch_size, seq_len = inputs.size()\n",
        "        hidden = self.init_hidden(batch_size)\n",
        "        cell = self.init_hidden(batch_size)\n",
        "\n",
        "        encoded = self.embedding(inputs)  # batch_size x seq_len x hidden_size\n",
        "        annotations = []\n",
        "\n",
        "        for i in range(seq_len):\n",
        "            x = encoded[:,i,:]  # Get the current time step, across the whole batch\n",
        "            hidden, cell = self.lstm(x, hidden, cell)\n",
        "            annotations.append(hidden)\n",
        "\n",
        "        annotations = torch.stack(annotations, dim=1)\n",
        "        return annotations, hidden, cell\n",
        "\n",
        "    def init_hidden(self, bs):\n",
        "        \"\"\"Creates a tensor of zeros to represent the initial hidden states\n",
        "        of a batch of sequences.\n",
        "\n",
        "        Arguments:\n",
        "            bs: The batch size for the initial hidden state.\n",
        "\n",
        "        Returns:\n",
        "            hidden: An initial hidden state of all zeros. (batch_size x hidden_size)\n",
        "        \"\"\"\n",
        "        return to_var(torch.zeros(bs, self.hidden_size), self.opts.cuda)"
      ],
      "execution_count": 7,
      "outputs": []
    },
    {
      "cell_type": "code",
      "metadata": {
        "id": "HvwizYM9ma4p"
      },
      "source": [
        "class RNNDecoder(nn.Module):\n",
        "    def __init__(self, vocab_size, hidden_size):\n",
        "        super(RNNDecoder, self).__init__()\n",
        "        self.vocab_size = vocab_size\n",
        "        self.hidden_size = hidden_size\n",
        "\n",
        "        self.embedding = nn.Embedding(vocab_size, hidden_size)\n",
        "        self.rnn = MyLSTMCell(input_size=hidden_size, hidden_size=hidden_size)\n",
        "        self.out = nn.Linear(hidden_size, vocab_size)\n",
        "\n",
        "    def forward(self, inputs, annotations, hidden_init, cell_init):\n",
        "        \"\"\"Forward pass of the non-attentional decoder RNN.\n",
        "\n",
        "        Arguments:\n",
        "            inputs: Input token indexes across a batch. (batch_size x seq_len)\n",
        "            annotations: This is not used here. It just maintains consistency with the\n",
        "                    interface used by the AttentionDecoder class.\n",
        "            hidden_init: The hidden states from the last step of encoder, across a batch. (batch_size x hidden_size)\n",
        "            cell_init: The cell states from the last step of encoder, across a batch. (batch_size x hidden_size)\n",
        "\n",
        "        Returns:\n",
        "            output: Un-normalized scores for each token in the vocabulary, across a batch for all the decoding time steps. (batch_size x decoder_seq_len x vocab_size)\n",
        "            None\n",
        "        \"\"\"        \n",
        "        batch_size, seq_len = inputs.size()\n",
        "        embed = self.embedding(inputs)  # batch_size x seq_len x hidden_size        \n",
        "\n",
        "        hiddens = []\n",
        "        h_prev = hidden_init\n",
        "        c_prev = cell_init\n",
        "\n",
        "        for i in range(seq_len):\n",
        "            x = embed[:,i,:]  # Get the current time step input tokens, across the whole batch\n",
        "            h_prev, c_prev = self.rnn(x, h_prev, c_prev)  # batch_size x hidden_size\n",
        "            hiddens.append(h_prev)\n",
        "\n",
        "        hiddens = torch.stack(hiddens, dim=1) # batch_size x seq_len x hidden_size\n",
        "        \n",
        "        output = self.out(hiddens)  # batch_size x seq_len x vocab_size\n",
        "        return output, None  "
      ],
      "execution_count": 8,
      "outputs": []
    },
    {
      "cell_type": "markdown",
      "metadata": {
        "id": "TSDTbsydlaGI"
      },
      "source": [
        "## Step 3: Training and Analysis\n",
        "Train the following language model comprised of recurrent encoder and decoders. \n",
        "\n",
        "First, we train on the smaller dataset."
      ]
    },
    {
      "cell_type": "code",
      "metadata": {
        "id": "XmVuXTozTPF7",
        "colab": {
          "base_uri": "https://localhost:8080/"
        },
        "outputId": "35f35f83-81b9-415a-c7a8-4d4374d548ce"
      },
      "source": [
        "TEST_SENTENCE = 'the air conditioning is working'\n",
        "\n",
        "rnn_args_s = AttrDict()\n",
        "args_dict = {\n",
        "              'data_file_name': 'pig_latin_small',\n",
        "              'cuda':True,\n",
        "              'nepochs':50,\n",
        "              'checkpoint_dir':\"checkpoints\",\n",
        "              'learning_rate':0.005,\n",
        "              'lr_decay':0.99,\n",
        "              'early_stopping_patience':20,\n",
        "              'batch_size':64,\n",
        "              'hidden_size':32,\n",
        "              'encoder_type': 'rnn', # options: rnn / transformer\n",
        "              'decoder_type': 'rnn', # options: rnn / rnn_attention / transformer\n",
        "              'attention_type': '',  # options: additive / scaled_dot\n",
        "}\n",
        "rnn_args_s.update(args_dict)\n",
        "\n",
        "print_opts(rnn_args_s)\n",
        "rnn_encode_s, rnn_decoder_s, rnn_losses_s = train(rnn_args_s)\n",
        "\n",
        "translated = translate_sentence(TEST_SENTENCE, rnn_encode_s, rnn_decoder_s, None, rnn_args_s)\n",
        "print(\"source:\\t\\t{} \\ntranslated:\\t{}\".format(TEST_SENTENCE, translated))"
      ],
      "execution_count": 9,
      "outputs": [
        {
          "output_type": "stream",
          "text": [
            "================================================================================\n",
            "                                      Opts                                      \n",
            "--------------------------------------------------------------------------------\n",
            "                         data_file_name: pig_latin_small                        \n",
            "                                   cuda: 1                                      \n",
            "                                nepochs: 50                                     \n",
            "                         checkpoint_dir: checkpoints                            \n",
            "                          learning_rate: 0.005                                  \n",
            "                               lr_decay: 0.99                                   \n",
            "                early_stopping_patience: 20                                     \n",
            "                             batch_size: 64                                     \n",
            "                            hidden_size: 32                                     \n",
            "                           encoder_type: rnn                                    \n",
            "                           decoder_type: rnn                                    \n",
            "                         attention_type:                                        \n",
            "================================================================================\n",
            "================================================================================\n",
            "                                   Data Stats                                   \n",
            "--------------------------------------------------------------------------------\n",
            "('applying', 'applyingway')\n",
            "('luxury', 'uxurylay')\n",
            "('discovering', 'iscoveringday')\n",
            "('gratefully', 'atefullygray')\n",
            "('enjoy', 'enjoyway')\n",
            "Num unique word pairs: 3198\n",
            "Vocabulary: dict_keys(['-', 'a', 'b', 'c', 'd', 'e', 'f', 'g', 'h', 'i', 'j', 'k', 'l', 'm', 'n', 'o', 'p', 'q', 'r', 's', 't', 'u', 'v', 'w', 'x', 'y', 'z', 'SOS', 'EOS'])\n",
            "Vocab size: 29\n",
            "================================================================================\n",
            "Moved models to GPU!\n",
            "Epoch:   0 | Train loss: 2.366 | Val loss: 1.964 | Gen: ay ay intay-ay-ay-ay inay intay-ay-ay\n",
            "Epoch:   1 | Train loss: 1.866 | Val loss: 1.806 | Gen: ingay artay ingesay-ingay-ingway ingway inglay-ingay\n",
            "Epoch:   2 | Train loss: 1.711 | Val loss: 1.682 | Gen: onay arday illlllway-ingway ingway olingay-ay-ay\n",
            "Epoch:   3 | Train loss: 1.575 | Val loss: 1.625 | Gen: edway ay-ay olillway-atingway ilway ollway-ay\n",
            "Epoch:   4 | Train loss: 1.477 | Val loss: 1.531 | Gen: edway artay olillllway-ybay isway illway\n",
            "Epoch:   5 | Train loss: 1.374 | Val loss: 1.510 | Gen: etay ay oondillway-ybay isway olingsay\n",
            "Epoch:   6 | Train loss: 1.297 | Val loss: 1.438 | Gen: edhay arway oodilicay-orstay isway oodilyway\n",
            "Epoch:   7 | Train loss: 1.216 | Val loss: 1.359 | Gen: etay ay-ay oodilicay-ationsway isway incousay\n",
            "Epoch:   8 | Train loss: 1.147 | Val loss: 1.280 | Gen: ethay arway olindingday isway olinday\n",
            "Epoch:   9 | Train loss: 1.086 | Val loss: 1.264 | Gen: ethay arway olivedicay-idway isway olindway\n",
            "Epoch:  10 | Train loss: 1.029 | Val loss: 1.236 | Gen: ethay arway olivedingday isway olingray\n",
            "Epoch:  11 | Train loss: 0.980 | Val loss: 1.194 | Gen: ethay arway olivedicationway isway oligray\n",
            "Epoch:  12 | Train loss: 0.935 | Val loss: 1.150 | Gen: ethay arway olivedingsday isway oligray\n",
            "Epoch:  13 | Train loss: 0.885 | Val loss: 1.123 | Gen: ethay arway oonindicationway isway oligray\n",
            "Epoch:  14 | Train loss: 0.851 | Val loss: 1.163 | Gen: ethay arway ondingray-oidedway isway oligray\n",
            "Epoch:  15 | Train loss: 0.831 | Val loss: 1.106 | Gen: ethay arway oolivedsticay isway oligray\n",
            "Epoch:  16 | Train loss: 0.795 | Val loss: 1.088 | Gen: ethay arway ondirancingday isway ortionway\n",
            "Epoch:  17 | Train loss: 0.764 | Val loss: 1.034 | Gen: ethay arway ondiringstay-idway isway ortionway\n",
            "Epoch:  18 | Train loss: 0.728 | Val loss: 1.029 | Gen: ethay arway ondingibledway isway orkingway\n",
            "Epoch:  19 | Train loss: 0.700 | Val loss: 1.047 | Gen: ethay arway oninintideway isway ortionway\n",
            "Epoch:  20 | Train loss: 0.682 | Val loss: 0.987 | Gen: ethay arway oninitingday-idway isway orkingway\n",
            "Epoch:  21 | Train loss: 0.661 | Val loss: 1.060 | Gen: ethay arway oniringsday-idway isway orkingway\n",
            "Epoch:  22 | Train loss: 0.653 | Val loss: 1.038 | Gen: ethay arway onirinttingday isway ortionway\n",
            "Epoch:  23 | Train loss: 0.625 | Val loss: 0.950 | Gen: ethay arway onoritindfay-idway isway orkingway\n",
            "Epoch:  24 | Train loss: 0.592 | Val loss: 0.983 | Gen: ethay arway onitioningday isway orkingway\n",
            "Epoch:  25 | Train loss: 0.577 | Val loss: 0.970 | Gen: ethay arway oninotiondday isway orkingway\n",
            "Epoch:  26 | Train loss: 0.560 | Val loss: 0.964 | Gen: ethay arway ondiringstray isway orkingway\n",
            "Epoch:  27 | Train loss: 0.540 | Val loss: 0.931 | Gen: ethay arway oninitingdecay isway orkingway\n",
            "Epoch:  28 | Train loss: 0.518 | Val loss: 0.966 | Gen: ethay arway onitioningday isway orkingway\n",
            "Epoch:  29 | Train loss: 0.517 | Val loss: 0.956 | Gen: ethay arway oninitiondgay isway orkingway\n",
            "Epoch:  30 | Train loss: 0.505 | Val loss: 0.955 | Gen: ethay arway onitiondicatyday isway orkingway\n",
            "Epoch:  31 | Train loss: 0.495 | Val loss: 0.970 | Gen: ethay arway onintiontidgay isway ortilay\n",
            "Epoch:  32 | Train loss: 0.491 | Val loss: 0.944 | Gen: ethay arway onitioningdray isway orkingway\n",
            "Epoch:  33 | Train loss: 0.465 | Val loss: 0.948 | Gen: ethay arway onsionditidgay isway orkingway\n",
            "Epoch:  34 | Train loss: 0.445 | Val loss: 0.979 | Gen: ethay arway oninitionday isway orkingway\n",
            "Epoch:  35 | Train loss: 0.431 | Val loss: 0.935 | Gen: ethay arway oninitiondgay isway orkingway\n",
            "Epoch:  36 | Train loss: 0.411 | Val loss: 0.931 | Gen: ethay arway onintiondtay isway orkingway\n",
            "Epoch:  37 | Train loss: 0.394 | Val loss: 0.950 | Gen: ethay arway onditiontay-otrawday isway orkingway\n",
            "Epoch:  38 | Train loss: 0.390 | Val loss: 0.910 | Gen: ethay arway onnirtiondfay isway orkingway\n",
            "Epoch:  39 | Train loss: 0.381 | Val loss: 0.913 | Gen: ethay arway ondicintiongay isway orkingway\n",
            "Epoch:  40 | Train loss: 0.380 | Val loss: 0.935 | Gen: ethay arway ondisiontacyday isway orkingway\n",
            "Epoch:  41 | Train loss: 0.387 | Val loss: 0.927 | Gen: ethay ariway onnitiondicateway isway orkingway\n",
            "Epoch:  42 | Train loss: 0.364 | Val loss: 0.899 | Gen: ethay arway ondisiotioncay isway orkingway\n",
            "Epoch:  43 | Train loss: 0.346 | Val loss: 0.911 | Gen: ethay ariway onndicintidayway isway orkingway\n",
            "Epoch:  44 | Train loss: 0.331 | Val loss: 0.933 | Gen: ethay arvay onnitiondicateway isway orkingway\n",
            "Epoch:  45 | Train loss: 0.319 | Val loss: 0.905 | Gen: ethay arvay onnitiondicateway isway orkingway\n",
            "Epoch:  46 | Train loss: 0.309 | Val loss: 0.915 | Gen: ethay arvay onncividtandiway isway orkingway\n",
            "Epoch:  47 | Train loss: 0.302 | Val loss: 0.921 | Gen: ethay ariway onndiciedtay-ifray isway orkingway\n",
            "Epoch:  48 | Train loss: 0.300 | Val loss: 0.949 | Gen: ethay ariway ondivinttay-ortway isway orkingway\n",
            "Epoch:  49 | Train loss: 0.301 | Val loss: 0.964 | Gen: ethay arvay ondicintiongay isway orkingway\n",
            "Obtained lowest validation loss of: 0.899235216731375\n",
            "source:\t\tthe air conditioning is working \n",
            "translated:\tethay arvay ondicintiongay isway orkingway\n"
          ],
          "name": "stdout"
        }
      ]
    },
    {
      "cell_type": "markdown",
      "metadata": {
        "id": "0mR97V_NtER6"
      },
      "source": [
        "Next, we train on the larger dataset. This experiment investigates if increasing dataset size improves model generalization on the validation set. \n",
        "\n",
        "For a fair comparison, the number of iterations (not number of epochs) for each run should be similar. This is done in a rough and dirty way by adjusting the batch size so approximately the same number of batches is processed per epoch."
      ]
    },
    {
      "cell_type": "code",
      "metadata": {
        "id": "H3YLrAjsmx_W",
        "colab": {
          "base_uri": "https://localhost:8080/"
        },
        "outputId": "d5b092e4-4204-4956-e8ea-cd287dbf553e"
      },
      "source": [
        "TEST_SENTENCE = 'the air conditioning is working'\n",
        "\n",
        "rnn_args_l = AttrDict()\n",
        "args_dict = {\n",
        "              'data_file_name': 'pig_latin_large',\n",
        "              'cuda':True,\n",
        "              'nepochs':50,\n",
        "              'checkpoint_dir':\"checkpoints\",\n",
        "              'learning_rate':0.005,\n",
        "              'lr_decay':0.99,\n",
        "              'early_stopping_patience':10,\n",
        "              'batch_size':512,\n",
        "              'hidden_size':32,\n",
        "              'encoder_type': 'rnn', # options: rnn / transformer\n",
        "              'decoder_type': 'rnn', # options: rnn / rnn_attention / transformer\n",
        "              'attention_type': '',  # options: additive / scaled_dot\n",
        "}\n",
        "rnn_args_l.update(args_dict)\n",
        "\n",
        "print_opts(rnn_args_l)\n",
        "rnn_encode_l, rnn_decoder_l, rnn_losses_l = train(rnn_args_l)\n",
        "\n",
        "translated = translate_sentence(TEST_SENTENCE, rnn_encode_l, rnn_decoder_l, None, rnn_args_l)\n",
        "print(\"source:\\t\\t{} \\ntranslated:\\t{}\".format(TEST_SENTENCE, translated))"
      ],
      "execution_count": 10,
      "outputs": [
        {
          "output_type": "stream",
          "text": [
            "================================================================================\n",
            "                                      Opts                                      \n",
            "--------------------------------------------------------------------------------\n",
            "                         data_file_name: pig_latin_large                        \n",
            "                                   cuda: 1                                      \n",
            "                                nepochs: 50                                     \n",
            "                         checkpoint_dir: checkpoints                            \n",
            "                          learning_rate: 0.005                                  \n",
            "                               lr_decay: 0.99                                   \n",
            "                early_stopping_patience: 10                                     \n",
            "                             batch_size: 512                                    \n",
            "                            hidden_size: 32                                     \n",
            "                           encoder_type: rnn                                    \n",
            "                           decoder_type: rnn                                    \n",
            "                         attention_type:                                        \n",
            "================================================================================\n",
            "================================================================================\n",
            "                                   Data Stats                                   \n",
            "--------------------------------------------------------------------------------\n",
            "('initiation', 'initiationway')\n",
            "('inquisitiveness', 'inquisitivenessway')\n",
            "('quiz', 'uizqay')\n",
            "('ata', 'ataway')\n",
            "('clock', 'ockclay')\n",
            "Num unique word pairs: 22402\n",
            "Vocabulary: dict_keys(['-', 'a', 'b', 'c', 'd', 'e', 'f', 'g', 'h', 'i', 'j', 'k', 'l', 'm', 'n', 'o', 'p', 'q', 'r', 's', 't', 'u', 'v', 'w', 'x', 'y', 'z', 'SOS', 'EOS'])\n",
            "Vocab size: 29\n",
            "================================================================================\n",
            "Moved models to GPU!\n",
            "Epoch:   0 | Train loss: 2.395 | Val loss: 2.078 | Gen: eray eray-intay ontay-intay-eray etay ontay-intay\n",
            "Epoch:   1 | Train loss: 1.924 | Val loss: 1.891 | Gen: ertay ay-ertay ontay-inserteray onsay onsay-insay\n",
            "Epoch:   2 | Train loss: 1.739 | Val loss: 1.739 | Gen: erway ay-ay-ay ontay-onway-ay-ay onway ontay-onway\n",
            "Epoch:   3 | Train loss: 1.592 | Val loss: 1.663 | Gen: ertay ay-ay-ay ontay-ongay-onsway inway otay-onsay\n",
            "Epoch:   4 | Train loss: 1.474 | Val loss: 1.624 | Gen: etay ationway ongongray-onday-ay isway ongay-onday\n",
            "Epoch:   5 | Train loss: 1.384 | Val loss: 1.568 | Gen: etay away-away ondinay-onday-anday isway onday-onway\n",
            "Epoch:   6 | Train loss: 1.305 | Val loss: 1.455 | Gen: etay away-away ondingay-ontay-awlay isway ondgay-onday\n",
            "Epoch:   7 | Train loss: 1.217 | Val loss: 1.422 | Gen: etay away ontoonway-onway isway onghay-ybay\n",
            "Epoch:   8 | Train loss: 1.139 | Val loss: 1.344 | Gen: etay arway ondingay-othay isway orkay-inway\n",
            "Epoch:   9 | Train loss: 1.068 | Val loss: 1.345 | Gen: etay away ondingay-otay-entay isway onghay-anway\n",
            "Epoch:  10 | Train loss: 1.014 | Val loss: 1.339 | Gen: etay airay ondingay-intay isway oupray-ybay\n",
            "Epoch:  11 | Train loss: 0.959 | Val loss: 1.212 | Gen: ethay aiway ondingay-intay isway okerghay\n",
            "Epoch:  12 | Train loss: 0.909 | Val loss: 1.190 | Gen: ethay airway onthondicatioway isway oupreryway\n",
            "Epoch:  13 | Train loss: 0.850 | Val loss: 1.146 | Gen: ethay airay ondintay-intay isway ouprentay\n",
            "Epoch:  14 | Train loss: 0.812 | Val loss: 1.128 | Gen: ethay airay ondinghontay-anway isway onghhbray\n",
            "Epoch:  15 | Train loss: 0.803 | Val loss: 1.093 | Gen: ethay iaray ondingay-othcay isway okerghay\n",
            "Epoch:  16 | Train loss: 0.772 | Val loss: 1.067 | Gen: ethay airway ondicationdray isway ounphteway\n",
            "Epoch:  17 | Train loss: 0.726 | Val loss: 1.026 | Gen: ethay iaray ondinghay-otencay isway okenghay\n",
            "Epoch:  18 | Train loss: 0.681 | Val loss: 1.097 | Gen: ethay airway ondintay-ondray isway onkingway\n",
            "Epoch:  19 | Train loss: 0.672 | Val loss: 0.996 | Gen: ethay airay ondingay-othenay isway ounshichay\n",
            "Epoch:  20 | Train loss: 0.635 | Val loss: 0.969 | Gen: ethay airay ondinghabilcay isway onkigray\n",
            "Epoch:  21 | Train loss: 0.610 | Val loss: 0.977 | Gen: ethay iarway ondingabilitay isway onkighay\n",
            "Epoch:  22 | Train loss: 0.589 | Val loss: 0.976 | Gen: ethay airay ondicationingay isway orkingway\n",
            "Epoch:  23 | Train loss: 0.582 | Val loss: 0.975 | Gen: ethay airway ondingchay-inway isway onkray-imway\n",
            "Epoch:  24 | Train loss: 0.575 | Val loss: 0.960 | Gen: ethay airay ondingay-intay-away isway orkingway\n",
            "Epoch:  25 | Train loss: 0.569 | Val loss: 0.950 | Gen: ethay airway ondinginatiocay isway ounshiay\n",
            "Epoch:  26 | Train loss: 0.541 | Val loss: 0.946 | Gen: ethay airway ondicationginway isway okerghay\n",
            "Epoch:  27 | Train loss: 0.524 | Val loss: 0.922 | Gen: ethay airway ondintay-ondray isway onkray-imway\n",
            "Epoch:  28 | Train loss: 0.501 | Val loss: 0.939 | Gen: ethay airway ondingay-indtay isway orkingway\n",
            "Epoch:  29 | Train loss: 0.487 | Val loss: 0.886 | Gen: ethay airway ondinginatioday isway orkingway\n",
            "Epoch:  30 | Train loss: 0.473 | Val loss: 0.938 | Gen: ethay airway ondintonicay-orway isway onkray-imway\n",
            "Epoch:  31 | Train loss: 0.477 | Val loss: 0.914 | Gen: ethay iraway ondingay-intay-away isway orkingway\n",
            "Epoch:  32 | Train loss: 0.457 | Val loss: 0.896 | Gen: ethay airway ondingabilay-anway isway oknhay-emway\n",
            "Epoch:  33 | Train loss: 0.447 | Val loss: 0.874 | Gen: ethay airway ondingatiochay isway orkingway\n",
            "Epoch:  34 | Train loss: 0.429 | Val loss: 0.865 | Gen: ethay iraway ondingichay-onsay isway orkingway\n",
            "Epoch:  35 | Train loss: 0.427 | Val loss: 0.944 | Gen: ethay airway ondingatiodray isway orkingway\n",
            "Epoch:  36 | Train loss: 0.429 | Val loss: 0.868 | Gen: ethay airway ondingichay-onsay isway onkirway\n",
            "Epoch:  37 | Train loss: 0.407 | Val loss: 0.842 | Gen: ethay airway ondicationingay isway orkingway\n",
            "Epoch:  38 | Train loss: 0.399 | Val loss: 0.842 | Gen: ehay airway ondingiationcay isway onkirway\n",
            "Epoch:  39 | Train loss: 0.394 | Val loss: 0.890 | Gen: ethay airway ondingabilitay isway onkray-imway\n",
            "Epoch:  40 | Train loss: 0.389 | Val loss: 0.882 | Gen: ethay airway ondingiablishay isway oknshay-away\n",
            "Epoch:  41 | Train loss: 0.392 | Val loss: 0.854 | Gen: ehay iraway ondingichay-onway isway orkingway\n",
            "Epoch:  42 | Train loss: 0.376 | Val loss: 0.855 | Gen: ethay airway ondingichay-onsay isway orkingway\n",
            "Epoch:  43 | Train loss: 0.361 | Val loss: 0.819 | Gen: ethay iraway ondingichay-onsay isway orkingway\n",
            "Epoch:  44 | Train loss: 0.353 | Val loss: 0.847 | Gen: ethay airway ondingichay-onsay isway orkingway\n",
            "Epoch:  45 | Train loss: 0.348 | Val loss: 0.791 | Gen: ethay airway ondingichay-anway isway onkirway\n",
            "Epoch:  46 | Train loss: 0.329 | Val loss: 0.799 | Gen: ethay airway ondingichay-anway isway oxbriskay\n",
            "Epoch:  47 | Train loss: 0.323 | Val loss: 0.782 | Gen: ethay airway ondingichay-onsay isway orkingway\n",
            "Epoch:  48 | Train loss: 0.320 | Val loss: 0.836 | Gen: ethay airway ondingationcay isway ojinstway\n",
            "Epoch:  49 | Train loss: 0.316 | Val loss: 0.769 | Gen: ethay airway ondingichay-onway isway orkingway\n",
            "Obtained lowest validation loss of: 0.7693998726317659\n",
            "source:\t\tthe air conditioning is working \n",
            "translated:\tethay airway ondingichay-onway isway orkingway\n"
          ],
          "name": "stdout"
        }
      ]
    },
    {
      "cell_type": "markdown",
      "metadata": {
        "id": "01HsZ6EItc56"
      },
      "source": [
        "The code below plots the training and validation losses of each model, as a function of the number of gradient descent iterations. Consider if there are significant differences in the validation performance of each model."
      ]
    },
    {
      "cell_type": "code",
      "metadata": {
        "colab": {
          "base_uri": "https://localhost:8080/",
          "height": 33
        },
        "id": "Qyk_9-Fwtekj",
        "outputId": "8af37b7c-061d-4606-b0bd-ee96b67d402f"
      },
      "source": [
        "save_loss_comparison_lstm(rnn_losses_s, rnn_losses_l, rnn_args_s, rnn_args_l, 'lstm')"
      ],
      "execution_count": 11,
      "outputs": [
        {
          "output_type": "display_data",
          "data": {
            "text/plain": [
              "<Figure size 432x288 with 0 Axes>"
            ]
          },
          "metadata": {
            "tags": []
          }
        }
      ]
    },
    {
      "cell_type": "markdown",
      "metadata": {
        "id": "cE4ijaCzneAt"
      },
      "source": [
        "Select best performing model, and try translating different sentences by changing the variable TEST_SENTENCE. Identify a failure mode and briefly describe it."
      ]
    },
    {
      "cell_type": "code",
      "metadata": {
        "id": "WrNnz8W1nULf",
        "colab": {
          "base_uri": "https://localhost:8080/"
        },
        "outputId": "fb3f9551-040a-44b1-eddb-949a1b2133cf"
      },
      "source": [
        "best_encoder = rnn_encode_l # Replace with rnn_losses_s or rnn_losses_l\n",
        "best_decoder = rnn_decoder_l # etc.\n",
        "best_args = rnn_args_l\n",
        "\n",
        "TEST_SENTENCE = 'the air conditioning is working'\n",
        "translated = translate_sentence(TEST_SENTENCE, best_encoder, best_decoder, None, best_args)\n",
        "print(\"source:\\t\\t{} \\ntranslated:\\t{}\".format(TEST_SENTENCE, translated))"
      ],
      "execution_count": 12,
      "outputs": [
        {
          "output_type": "stream",
          "text": [
            "source:\t\tthe air conditioning is working \n",
            "translated:\tethay airway ondingichay-onway isway orkingway\n"
          ],
          "name": "stdout"
        }
      ]
    },
    {
      "cell_type": "code",
      "metadata": {
        "colab": {
          "base_uri": "https://localhost:8080/"
        },
        "id": "XATAbNIuMnZ8",
        "outputId": "f7bf00c4-8ecc-4d2d-afb2-7cd11434fddd"
      },
      "source": [
        "TEST_SENTENCE_2 = 'this beautiful shopping mall'\n",
        "translated_2 = translate_sentence(TEST_SENTENCE_2, best_encoder, best_decoder, None, best_args)\n",
        "print(\"source:\\t\\t{} \\ntranslated:\\t{}\".format(TEST_SENTENCE_2, translated_2))"
      ],
      "execution_count": 13,
      "outputs": [
        {
          "output_type": "stream",
          "text": [
            "source:\t\tthis beautiful shopping mall \n",
            "translated:\tisthay eautuinsway oppingspay allmay\n"
          ],
          "name": "stdout"
        }
      ]
    },
    {
      "cell_type": "code",
      "metadata": {
        "colab": {
          "base_uri": "https://localhost:8080/"
        },
        "id": "BYXD14CUN7ks",
        "outputId": "35f331f1-7809-4e5d-a37a-f6ae7b23250b"
      },
      "source": [
        "TEST_SENTENCE_3 = 'extremely happy ending'\n",
        "translated_3 = translate_sentence(TEST_SENTENCE_3, best_encoder, best_decoder, None, best_args)\n",
        "print(\"source:\\t\\t{} \\ntranslated:\\t{}\".format(TEST_SENTENCE_3, translated_3))"
      ],
      "execution_count": 14,
      "outputs": [
        {
          "output_type": "stream",
          "text": [
            "source:\t\textremely happy ending \n",
            "translated:\texterledgway apphyay endingway\n"
          ],
          "name": "stdout"
        }
      ]
    },
    {
      "cell_type": "code",
      "metadata": {
        "colab": {
          "base_uri": "https://localhost:8080/"
        },
        "id": "pt5caOXmOM5t",
        "outputId": "3fa0f2f0-3f3a-4adb-cda6-1b1819bbe2fe"
      },
      "source": [
        "TEST_SENTENCE_4 = 'go to school now'\n",
        "translated_4 = translate_sentence(TEST_SENTENCE_4, best_encoder, best_decoder, None, best_args)\n",
        "print(\"source:\\t\\t{} \\ntranslated:\\t{}\".format(TEST_SENTENCE_4, translated_4))"
      ],
      "execution_count": 15,
      "outputs": [
        {
          "output_type": "stream",
          "text": [
            "source:\t\tgo to school now \n",
            "translated:\togay otay oolcepay ownay\n"
          ],
          "name": "stdout"
        }
      ]
    },
    {
      "cell_type": "markdown",
      "metadata": {
        "id": "RWwA6OGqlaTq"
      },
      "source": [
        "# Part 2: Additive Attention"
      ]
    },
    {
      "cell_type": "markdown",
      "metadata": {
        "id": "AJSafHSAmu_w"
      },
      "source": [
        "## Step 1: Additive Attention\n",
        "Already implemented the additive attention mechanism. Write down the mathematical expression for $\\tilde{\\alpha}_i^{(t)}, \\alpha_i^{(t)}, c_t$ as a function of $W_1, W_2, b_1, b_2, Q_t, K_i$. "
      ]
    },
    {
      "cell_type": "code",
      "metadata": {
        "id": "AdewEVSMo5jJ"
      },
      "source": [
        "class AdditiveAttention(nn.Module):\n",
        "    def __init__(self, hidden_size):\n",
        "        super(AdditiveAttention, self).__init__()\n",
        "\n",
        "        self.hidden_size = hidden_size\n",
        "\n",
        "        # A two layer fully-connected network\n",
        "        # hidden_size*2 --> hidden_size, ReLU, hidden_size --> 1\n",
        "        self.attention_network = nn.Sequential(\n",
        "                                    nn.Linear(hidden_size*2, hidden_size),\n",
        "                                    nn.ReLU(),\n",
        "                                    nn.Linear(hidden_size, 1)\n",
        "                                 )\n",
        "\n",
        "        self.softmax = nn.Softmax(dim=1) #the seq_len dimension\n",
        "\n",
        "    def forward(self, queries, keys, values):\n",
        "        \"\"\"The forward pass of the additive attention mechanism.\n",
        "\n",
        "        Arguments:\n",
        "            queries: The current decoder hidden state. (batch_size x hidden_size)\n",
        "            keys: The encoder hidden states for each step of the input sequence. (batch_size x seq_len x hidden_size)\n",
        "            values: The encoder hidden states for each step of the input sequence. (batch_size x seq_len x hidden_size)\n",
        "\n",
        "        Returns:\n",
        "            context: weighted average of the values (batch_size x 1 x hidden_size)\n",
        "            attention_weights: Normalized attention weights for each encoder hidden state. (batch_size x seq_len x 1)\n",
        "\n",
        "            The attention_weights must be a softmax weighting over the seq_len annotations.\n",
        "        \"\"\"\n",
        "        batch_size = keys.size(0)\n",
        "        expanded_queries = queries.view(batch_size, -1, self.hidden_size).expand_as(keys) #-1: add one dimension in middle, expand_as: make it same shape as keys\n",
        "        #print(\"expanded_queries:\", expanded_queries.size())\n",
        "        concat_inputs = torch.cat([expanded_queries, keys], dim=2) #concat along the dimension 2\n",
        "        #print(\"concat_inputs:\", concat_inputs.size())\n",
        "        unnormalized_attention = self.attention_network(concat_inputs)\n",
        "        #print(\"unnormalized_attention:\",unnormalized_attention.size())\n",
        "        attention_weights = self.softmax(unnormalized_attention)\n",
        "        context = torch.bmm(attention_weights.transpose(2,1), values)\n",
        "        return context, attention_weights\n",
        "      "
      ],
      "execution_count": 16,
      "outputs": []
    },
    {
      "cell_type": "markdown",
      "metadata": {
        "id": "73_p8d5EmvOJ"
      },
      "source": [
        "## Step 2: RNN Additive Attention Decoder\n",
        "We will now implement a recurrent decoder that makes use of the additive attention mechanism. Read the description in the assignment worksheet and complete the following implementation. "
      ]
    },
    {
      "cell_type": "code",
      "metadata": {
        "id": "RJaABkXrpJSw"
      },
      "source": [
        "class RNNAttentionDecoder(nn.Module):\n",
        "    def __init__(self, vocab_size, hidden_size, attention_type='scaled_dot'):\n",
        "        super(RNNAttentionDecoder, self).__init__()\n",
        "        self.vocab_size = vocab_size\n",
        "        self.hidden_size = hidden_size\n",
        "\n",
        "        self.embedding = nn.Embedding(vocab_size, hidden_size)\n",
        "\n",
        "        self.rnn = MyLSTMCell(input_size=hidden_size*2, hidden_size=hidden_size)\n",
        "        if attention_type == 'additive':\n",
        "          self.attention = AdditiveAttention(hidden_size=hidden_size)\n",
        "        elif attention_type == 'scaled_dot':\n",
        "          self.attention = ScaledDotAttention(hidden_size=hidden_size)\n",
        "        \n",
        "        self.out = nn.Linear(hidden_size, vocab_size)\n",
        "\n",
        "        \n",
        "    def forward(self, inputs, annotations, hidden_init, cell_init):\n",
        "        \"\"\"Forward pass of the attention-based decoder RNN.\n",
        "\n",
        "        Arguments:\n",
        "            inputs: Input token indexes across a batch for all the time step. (batch_size x decoder_seq_len)\n",
        "            annotations: The encoder hidden states for each step of the input.\n",
        "                         sequence. (batch_size x seq_len x hidden_size)\n",
        "            hidden_init: The final hidden states from the encoder, across a batch. (batch_size x hidden_size)\n",
        "            cell_init: The final cell states from the encoder, across a batch. (batch_size x hidden_size)\n",
        "\n",
        "        Returns:\n",
        "            output: Un-normalized scores for each token in the vocabulary, across a batch for all the decoding time steps. (batch_size x decoder_seq_len x vocab_size)\n",
        "            attentions: The stacked attention weights applied to the encoder annotations (batch_size x encoder_seq_len x decoder_seq_len)\n",
        "        \"\"\"\n",
        "        \n",
        "        batch_size, seq_len = inputs.size()\n",
        "        embed = self.embedding(inputs)  # batch_size x seq_len x hidden_size        \n",
        "\n",
        "        hiddens = []\n",
        "        attentions = []\n",
        "        h_prev = hidden_init\n",
        "        c_prev = cell_init\n",
        "\n",
        "        for i in range(seq_len):\n",
        "            embed_current = embed[:,i,:]  # Get the current time step, across the whole batch\n",
        "            context, attention_weights = self.attention(h_prev, annotations, annotations)  # batch_size x 1 x hidden_size\n",
        "            embed_and_context = torch.cat([embed_current, context.squeeze(1)], dim=1)  # batch_size x (2*hidden_size)\n",
        "            h_prev, c_prev = self.rnn(embed_and_context, h_prev, c_prev)  # batch_size x hidden_size            \n",
        "            \n",
        "            \n",
        "            hiddens.append(h_prev)\n",
        "            attentions.append(attention_weights)\n",
        "\n",
        "        hiddens = torch.stack(hiddens, dim=1) # batch_size x seq_len x hidden_size\n",
        "        attentions = torch.cat(attentions, dim=2) # batch_size x seq_len x seq_len\n",
        "        \n",
        "        output = self.out(hiddens)  # batch_size x seq_len x vocab_size\n",
        "        return output, attentions\n",
        "        "
      ],
      "execution_count": 17,
      "outputs": []
    },
    {
      "cell_type": "markdown",
      "metadata": {
        "id": "vYPae08Io1Fi"
      },
      "source": [
        "## Step 3: Training and Analysis\n",
        "Train the following language model that uses a recurrent encoder, and a recurrent decoder that has an additive attention component. "
      ]
    },
    {
      "cell_type": "code",
      "metadata": {
        "id": "ke6t6rCezpZV",
        "colab": {
          "base_uri": "https://localhost:8080/"
        },
        "outputId": "6e645782-3f03-4d25-e280-700ab3cfc4c5"
      },
      "source": [
        "TEST_SENTENCE = 'the air conditioning is working'\n",
        "\n",
        "rnn_attn_args = AttrDict()\n",
        "args_dict = {\n",
        "              'data_file_name': 'pig_latin_small',\n",
        "              'cuda':True, \n",
        "              'nepochs':50, \n",
        "              'checkpoint_dir':\"checkpoints\", \n",
        "              'learning_rate':0.005,\n",
        "              'lr_decay':0.99,\n",
        "              'early_stopping_patience':10,\n",
        "              'batch_size':64, \n",
        "              'hidden_size':64, \n",
        "              'encoder_type': 'rnn', # options: rnn / transformer\n",
        "              'decoder_type': 'rnn_attention', # options: rnn / rnn_attention / transformer\n",
        "              'attention_type': 'additive',  # options: additive / scaled_dot\n",
        "}\n",
        "rnn_attn_args.update(args_dict)\n",
        "\n",
        "print_opts(rnn_attn_args)\n",
        "rnn_attn_encoder, rnn_attn_decoder, rnn_attn_losses = train(rnn_attn_args)\n",
        "\n",
        "translated = translate_sentence(TEST_SENTENCE, rnn_attn_encoder, rnn_attn_decoder, None, rnn_attn_args)\n",
        "print(\"source:\\t\\t{} \\ntranslated:\\t{}\".format(TEST_SENTENCE, translated))"
      ],
      "execution_count": 18,
      "outputs": [
        {
          "output_type": "stream",
          "text": [
            "================================================================================\n",
            "                                      Opts                                      \n",
            "--------------------------------------------------------------------------------\n",
            "                         data_file_name: pig_latin_small                        \n",
            "                                   cuda: 1                                      \n",
            "                                nepochs: 50                                     \n",
            "                         checkpoint_dir: checkpoints                            \n",
            "                          learning_rate: 0.005                                  \n",
            "                               lr_decay: 0.99                                   \n",
            "                early_stopping_patience: 10                                     \n",
            "                             batch_size: 64                                     \n",
            "                            hidden_size: 64                                     \n",
            "                           encoder_type: rnn                                    \n",
            "                           decoder_type: rnn_attention                          \n",
            "                         attention_type: additive                               \n",
            "================================================================================\n",
            "================================================================================\n",
            "                                   Data Stats                                   \n",
            "--------------------------------------------------------------------------------\n",
            "('applying', 'applyingway')\n",
            "('luxury', 'uxurylay')\n",
            "('discovering', 'iscoveringday')\n",
            "('gratefully', 'atefullygray')\n",
            "('enjoy', 'enjoyway')\n",
            "Num unique word pairs: 3198\n",
            "Vocabulary: dict_keys(['-', 'a', 'b', 'c', 'd', 'e', 'f', 'g', 'h', 'i', 'j', 'k', 'l', 'm', 'n', 'o', 'p', 'q', 'r', 's', 't', 'u', 'v', 'w', 'x', 'y', 'z', 'SOS', 'EOS'])\n",
            "Vocab size: 29\n",
            "================================================================================\n",
            "Moved models to GPU!\n",
            "Epoch:   0 | Train loss: 2.098 | Val loss: 1.783 | Gen: illay-ay ay-ay ingay-ingay-ingay illay illay-onday\n",
            "Epoch:   1 | Train loss: 1.573 | Val loss: 1.571 | Gen: etay anday indiondionday isway illway-indway\n",
            "Epoch:   2 | Train loss: 1.319 | Val loss: 1.359 | Gen: etetway aricay ondiondionday isway oonday-ay\n",
            "Epoch:   3 | Train loss: 1.095 | Val loss: 1.224 | Gen: etay-ay aricay ondiondionday isway oourdway\n",
            "Epoch:   4 | Train loss: 0.944 | Val loss: 1.164 | Gen: ethay arifay onsicitinginway isway ootingnay\n",
            "Epoch:   5 | Train loss: 0.824 | Val loss: 1.107 | Gen: ethay ariyway ondicitingway isway orthingnay\n",
            "Epoch:   6 | Train loss: 0.725 | Val loss: 1.037 | Gen: ighay aichay ondicingingway isway ordgay-onday\n",
            "Epoch:   7 | Train loss: 0.646 | Val loss: 1.120 | Gen: aty-atway ariway ondistingsay isway orway-othay\n",
            "Epoch:   8 | Train loss: 0.622 | Val loss: 0.889 | Gen: ehtay airway ondintingway isway ordingway\n",
            "Epoch:   9 | Train loss: 0.480 | Val loss: 0.747 | Gen: ateway airway ondicingingway isway orway-ingway\n",
            "Epoch:  10 | Train loss: 0.376 | Val loss: 0.701 | Gen: ehay airway ondicinitingway isway orway-ingnay\n",
            "Epoch:  11 | Train loss: 0.303 | Val loss: 0.777 | Gen: ehtay airway ondicinitingway isway orkingway\n",
            "Epoch:  12 | Train loss: 0.276 | Val loss: 0.626 | Gen: ethay airway ondicinitinway isway oringnay\n",
            "Epoch:  13 | Train loss: 0.216 | Val loss: 0.547 | Gen: ehtay airway ondicitioncyway isway orkingay\n",
            "Epoch:  14 | Train loss: 0.195 | Val loss: 0.616 | Gen: ethay airway ondiitionciday isway orkingway\n",
            "Epoch:  15 | Train loss: 0.188 | Val loss: 0.548 | Gen: ehtay airway ondiiciningway isway orkingray\n",
            "Epoch:  16 | Train loss: 0.157 | Val loss: 0.560 | Gen: ethay airway onditiiningcay isway orkingway\n",
            "Epoch:  17 | Train loss: 0.148 | Val loss: 0.545 | Gen: ehtay airway ondiicingpay isway orkingway\n",
            "Epoch:  18 | Train loss: 0.144 | Val loss: 0.587 | Gen: ethay airway onditioncingway isway orkingway\n",
            "Epoch:  19 | Train loss: 0.116 | Val loss: 0.471 | Gen: ethay airway onditioninchay isway orkingway\n",
            "Epoch:  20 | Train loss: 0.094 | Val loss: 0.465 | Gen: ethay airway onditionichinway isway orkingnay\n",
            "Epoch:  21 | Train loss: 0.074 | Val loss: 0.450 | Gen: ethay airway onditioningcay isway orkingway\n",
            "Epoch:  22 | Train loss: 0.057 | Val loss: 0.400 | Gen: ethay airway onditioningcay isway orkingway\n",
            "Epoch:  23 | Train loss: 0.044 | Val loss: 0.394 | Gen: ethay airway onditionichinway isway orkingway\n",
            "Epoch:  24 | Train loss: 0.038 | Val loss: 0.405 | Gen: ethay airway onditioncingway isway orkingway\n",
            "Epoch:  25 | Train loss: 0.034 | Val loss: 0.388 | Gen: ethay airway onditicingday isway orkingway\n",
            "Epoch:  26 | Train loss: 0.027 | Val loss: 0.360 | Gen: ethay airway onditicingday isway orkingway\n",
            "Epoch:  27 | Train loss: 0.022 | Val loss: 0.348 | Gen: ethay airway onditicingcay isway orkingway\n",
            "Epoch:  28 | Train loss: 0.018 | Val loss: 0.337 | Gen: ethay airway onditioncingway isway orkingway\n",
            "Epoch:  29 | Train loss: 0.017 | Val loss: 0.336 | Gen: ethay airway onditioncingway isway orkingway\n",
            "Epoch:  30 | Train loss: 0.015 | Val loss: 0.376 | Gen: ethay airway onditionicnway isway orkingway\n",
            "Epoch:  31 | Train loss: 0.016 | Val loss: 0.342 | Gen: ethay airway onditicingcay isway orkingway\n",
            "Epoch:  32 | Train loss: 0.013 | Val loss: 0.333 | Gen: ethay airway onditicingcay isway orkingway\n",
            "Epoch:  33 | Train loss: 0.011 | Val loss: 0.326 | Gen: ethay airway onditicingcay isway orkingway\n",
            "Epoch:  34 | Train loss: 0.068 | Val loss: 0.914 | Gen: ethay airway ondicitlgndway isway orkngsway\n",
            "Epoch:  35 | Train loss: 0.296 | Val loss: 1.003 | Gen: etheway airway onditionchnay isway orkighway\n",
            "Epoch:  36 | Train loss: 0.372 | Val loss: 0.635 | Gen: ehtay airway onditiongingway isway orkway-ingway\n",
            "Epoch:  37 | Train loss: 0.205 | Val loss: 0.471 | Gen: ehtay airway ondititionchay isway orkway\n",
            "Epoch:  38 | Train loss: 0.118 | Val loss: 0.430 | Gen: ehtay airway ondititioncay isway orkingway\n",
            "Epoch:  39 | Train loss: 0.072 | Val loss: 0.332 | Gen: ethay airway ondititionchay isway orkingway\n",
            "Epoch:  40 | Train loss: 0.042 | Val loss: 0.328 | Gen: ethay airway ondititionchay isway orkingway\n",
            "Epoch:  41 | Train loss: 0.029 | Val loss: 0.303 | Gen: ethay airway ondititionchay isway orkingway\n",
            "Epoch:  42 | Train loss: 0.021 | Val loss: 0.309 | Gen: ethay airway onditiontincay isway orkingway\n",
            "Epoch:  43 | Train loss: 0.017 | Val loss: 0.312 | Gen: ethay airway onditiontincay isway orkingway\n",
            "Epoch:  44 | Train loss: 0.014 | Val loss: 0.291 | Gen: ethay airway onditiontincay isway orkingway\n",
            "Epoch:  45 | Train loss: 0.012 | Val loss: 0.294 | Gen: ethay airway ondititionchay isway orkingway\n",
            "Epoch:  46 | Train loss: 0.011 | Val loss: 0.291 | Gen: ethay airway onditicingcay isway orkingway\n",
            "Epoch:  47 | Train loss: 0.009 | Val loss: 0.290 | Gen: ethay airway onditiontincay isway orkingway\n",
            "Epoch:  48 | Train loss: 0.008 | Val loss: 0.286 | Gen: ethay airway onditiontincay isway orkingway\n",
            "Epoch:  49 | Train loss: 0.007 | Val loss: 0.285 | Gen: ethay airway onditicingcay isway orkingway\n",
            "Obtained lowest validation loss of: 0.2854443837026007\n",
            "source:\t\tthe air conditioning is working \n",
            "translated:\tethay airway onditicingcay isway orkingway\n"
          ],
          "name": "stdout"
        }
      ]
    },
    {
      "cell_type": "code",
      "metadata": {
        "id": "VNVKbLc0ACj_",
        "colab": {
          "base_uri": "https://localhost:8080/"
        },
        "outputId": "149c75ba-8b32-418c-9e3d-4b83aa8f8e98"
      },
      "source": [
        "TEST_SENTENCE = 'the air conditioning is working'\n",
        "translated = translate_sentence(TEST_SENTENCE, rnn_attn_encoder, rnn_attn_decoder, None, rnn_attn_args)\n",
        "print(\"source:\\t\\t{} \\ntranslated:\\t{}\".format(TEST_SENTENCE, translated))"
      ],
      "execution_count": 19,
      "outputs": [
        {
          "output_type": "stream",
          "text": [
            "source:\t\tthe air conditioning is working \n",
            "translated:\tethay airway onditicingcay isway orkingway\n"
          ],
          "name": "stdout"
        }
      ]
    },
    {
      "cell_type": "markdown",
      "metadata": {
        "id": "kw_GOIvzo1ix"
      },
      "source": [
        "# Part 3: Scaled Dot Product Attention"
      ]
    },
    {
      "cell_type": "markdown",
      "metadata": {
        "id": "xq7nhsEio1w-"
      },
      "source": [
        "## Step 1: Implement Dot-Product Attention\n",
        "Implement the scaled dot product attention module described in the assignment worksheet. "
      ]
    },
    {
      "cell_type": "code",
      "metadata": {
        "colab": {
          "base_uri": "https://localhost:8080/"
        },
        "id": "m3swZR_3UfaA",
        "outputId": "df32f782-9a20-4b60-a46d-fa9a80e26d5c"
      },
      "source": [
        "bbb = torch.randint(1,5,(2,4))\n",
        "aaa = torch.rsqrt(torch.tensor(64, dtype= torch.float))\n",
        "print(bbb)\n",
        "print(aaa)\n",
        "print(torch.mul(bbb,aaa))"
      ],
      "execution_count": 49,
      "outputs": [
        {
          "output_type": "stream",
          "text": [
            "tensor([[1, 1, 3, 2],\n",
            "        [2, 3, 1, 1]])\n",
            "tensor(0.1250)\n",
            "tensor([[0.1250, 0.1250, 0.3750, 0.2500],\n",
            "        [0.2500, 0.3750, 0.1250, 0.1250]])\n"
          ],
          "name": "stdout"
        }
      ]
    },
    {
      "cell_type": "code",
      "metadata": {
        "id": "d_j3oY3hqsJQ"
      },
      "source": [
        "class ScaledDotAttention(nn.Module):\n",
        "    def __init__(self, hidden_size):\n",
        "        super(ScaledDotAttention, self).__init__()\n",
        "\n",
        "        self.hidden_size = hidden_size\n",
        "\n",
        "        self.Q = nn.Linear(hidden_size, hidden_size) #WQ\n",
        "        self.K = nn.Linear(hidden_size, hidden_size) #WK\n",
        "        self.V = nn.Linear(hidden_size, hidden_size) #WV\n",
        "        self.softmax = nn.Softmax(dim=1)\n",
        "        self.scaling_factor = torch.rsqrt(torch.tensor(self.hidden_size, dtype= torch.float)) #output = 1/(sqrt(input))\n",
        "\n",
        "    def forward(self, queries, keys, values):\n",
        "        \"\"\"The forward pass of the scaled dot attention mechanism.\n",
        "\n",
        "        Arguments:\n",
        "            queries: The current decoder hidden state, 2D or 3D tensor. (batch_size x (k) x hidden_size)\n",
        "            keys: The encoder hidden states for each step of the input sequence. (batch_size x seq_len x hidden_size)\n",
        "            values: The encoder hidden states for each step of the input sequence. (batch_size x seq_len x hidden_size)\n",
        "\n",
        "        Returns:\n",
        "            context: weighted average of the values (batch_size x k x hidden_size)\n",
        "            attention_weights: Normalized attention weights for each encoder hidden state. (batch_size x seq_len x 1)\n",
        "\n",
        "            The output must be a softmax weighting over the seq_len annotations.\n",
        "        \"\"\"\n",
        "\n",
        "        # ------------\n",
        "        # FILL THIS IN\n",
        "        # ------------\n",
        "        batch_size = queries.size(0)\n",
        "        q = self.Q(queries) #batch_size x (k) x hidden_size\n",
        "        k = self.K(keys) #batch_size x seq_len x hidden_size\n",
        "        v = self.V(values) #batch_size x seq_len x hidden_size\n",
        "        unnormalized_attention = torch.bmm(k, torch.transpose(q,2,1)) #batch_size x seq_len x (k)\n",
        "        attention_weights = self.softmax(torch.mul(unnormalized_attention, self.scaling_factor)) #batch_size x seq_len x (k)\n",
        "        context = torch.bmm(torch.transpose(attention_weights,2,1), v) #batch_size x (k) x hidden_size\n",
        "        return context, attention_weights"
      ],
      "execution_count": 21,
      "outputs": []
    },
    {
      "cell_type": "markdown",
      "metadata": {
        "id": "unReAOrjo113"
      },
      "source": [
        "## Step 2: Implement Causal Dot-Product Attention\n",
        "Now implement the scaled causal dot product described in the assignment worksheet. "
      ]
    },
    {
      "cell_type": "code",
      "metadata": {
        "colab": {
          "base_uri": "https://localhost:8080/"
        },
        "id": "TmKXG6gOr8kJ",
        "outputId": "345bd64a-7434-4440-cb9f-0883fcf77b6f"
      },
      "source": [
        "fff = torch.randn(4, 7)\n",
        "torch.tril(torch.tensor(-1e7).expand_as(fff), diagonal=-1)"
      ],
      "execution_count": 50,
      "outputs": [
        {
          "output_type": "execute_result",
          "data": {
            "text/plain": [
              "tensor([[        0.,         0.,         0.,         0.,         0.,         0.,\n",
              "                 0.],\n",
              "        [-10000000.,         0.,         0.,         0.,         0.,         0.,\n",
              "                 0.],\n",
              "        [-10000000., -10000000.,         0.,         0.,         0.,         0.,\n",
              "                 0.],\n",
              "        [-10000000., -10000000., -10000000.,         0.,         0.,         0.,\n",
              "                 0.]])"
            ]
          },
          "metadata": {
            "tags": []
          },
          "execution_count": 50
        }
      ]
    },
    {
      "cell_type": "code",
      "metadata": {
        "colab": {
          "base_uri": "https://localhost:8080/"
        },
        "id": "dATS_h1oBrsW",
        "outputId": "cb2ca189-b963-41ff-a2e2-30cd2cca880d"
      },
      "source": [
        "bbb = torch.randint(1,50,(5,6))\n",
        "print(bbb)\n",
        "ccc = bbb[:, 0::2]\n",
        "print(ccc)\n",
        "ddd = bbb[:, 1::2]\n",
        "print(ddd)"
      ],
      "execution_count": 23,
      "outputs": [
        {
          "output_type": "stream",
          "text": [
            "tensor([[17, 25, 19, 18, 38, 33],\n",
            "        [15, 22, 34, 32, 34,  9],\n",
            "        [ 8, 27, 47, 31, 39, 33],\n",
            "        [48,  1, 32, 41, 21,  2],\n",
            "        [46, 25, 38, 43, 44, 11]])\n",
            "tensor([[17, 19, 38],\n",
            "        [15, 34, 34],\n",
            "        [ 8, 47, 39],\n",
            "        [48, 32, 21],\n",
            "        [46, 38, 44]])\n",
            "tensor([[25, 18, 33],\n",
            "        [22, 32,  9],\n",
            "        [27, 31, 33],\n",
            "        [ 1, 41,  2],\n",
            "        [25, 43, 11]])\n"
          ],
          "name": "stdout"
        }
      ]
    },
    {
      "cell_type": "code",
      "metadata": {
        "colab": {
          "base_uri": "https://localhost:8080/"
        },
        "id": "_xzgfqxT-_Iq",
        "outputId": "d381c481-7779-43e8-aa81-ab46f143ce3e"
      },
      "source": [
        "kkk = torch.arange(64//2)[None, ...]\n",
        "ggg = (2*kkk).float()/(64)\n",
        "vvv = torch.arange(1000)[..., None] / (10000**ggg)\n",
        "vvv.size()"
      ],
      "execution_count": 52,
      "outputs": [
        {
          "output_type": "execute_result",
          "data": {
            "text/plain": [
              "torch.Size([1000, 32])"
            ]
          },
          "metadata": {
            "tags": []
          },
          "execution_count": 52
        }
      ]
    },
    {
      "cell_type": "code",
      "metadata": {
        "id": "ovigzQffrKqj"
      },
      "source": [
        "class CausalScaledDotAttention(nn.Module):\n",
        "    def __init__(self, hidden_size):\n",
        "        super(CausalScaledDotAttention, self).__init__()\n",
        "\n",
        "        self.hidden_size = hidden_size\n",
        "        self.neg_inf = torch.tensor(-1e7)\n",
        "\n",
        "        self.Q = nn.Linear(hidden_size, hidden_size) #WQ\n",
        "        self.K = nn.Linear(hidden_size, hidden_size) #WK\n",
        "        self.V = nn.Linear(hidden_size, hidden_size) #WV\n",
        "        self.softmax = nn.Softmax(dim=1)\n",
        "        self.scaling_factor = torch.rsqrt(torch.tensor(self.hidden_size, dtype= torch.float)) #output = 1/(sqrt(input))\n",
        "\n",
        "    def forward(self, queries, keys, values):\n",
        "        \"\"\"The forward pass of the scaled dot attention mechanism.\n",
        "\n",
        "        Arguments:\n",
        "            queries: The current decoder hidden state, 2D or 3D tensor. (batch_size x (k) x hidden_size)\n",
        "            keys: The encoder hidden states for each step of the input sequence. (batch_size x seq_len x hidden_size)\n",
        "            values: The encoder hidden states for each step of the input sequence. (batch_size x seq_len x hidden_size)\n",
        "\n",
        "        Returns:\n",
        "            context: weighted average of the values (batch_size x k x hidden_size)\n",
        "            attention_weights: Normalized attention weights for each encoder hidden state. (batch_size x seq_len x 1)\n",
        "\n",
        "            The output must be a softmax weighting over the seq_len annotations.\n",
        "        \"\"\"\n",
        "\n",
        "        # ------------\n",
        "        # FILL THIS IN\n",
        "        # ------------\n",
        "        batch_size = queries.size(0)\n",
        "        q = self.Q(queries) #batch_size x (k) x hidden_size\n",
        "        k = self.K(keys) #batch_size x seq_len x hidden_size\n",
        "        v = self.V(values) #batch_size x seq_len x hidden_size\n",
        "        unnormalized_attention = torch.bmm(k, torch.transpose(q,2,1)) #batch_size x seq_len x (k)\n",
        "        mask = torch.add(torch.tril(self.neg_inf.expand_as(unnormalized_attention), diagonal=-1).cuda(), unnormalized_attention) #batch_size x seq_len x (k)\n",
        "        attention_weights = self.softmax(torch.mul(mask, self.scaling_factor)) #batch_size x seq_len x (k)\n",
        "        context = torch.bmm(torch.transpose(attention_weights,2,1), v) #batch_size x (k) x hidden_size\n",
        "        return context, attention_weights"
      ],
      "execution_count": 25,
      "outputs": []
    },
    {
      "cell_type": "markdown",
      "metadata": {
        "id": "9tcpUFKqo2Oi"
      },
      "source": [
        "## Step 3: Transformer Encoder\n",
        "Complete the following transformer encoder implementation. "
      ]
    },
    {
      "cell_type": "code",
      "metadata": {
        "id": "N3B-fWsarlVk"
      },
      "source": [
        "class TransformerEncoder(nn.Module):\n",
        "    def __init__(self, vocab_size, hidden_size, num_layers, opts):\n",
        "        super(TransformerEncoder, self).__init__()\n",
        "\n",
        "        self.vocab_size = vocab_size\n",
        "        self.hidden_size = hidden_size\n",
        "        self.num_layers = num_layers\n",
        "        self.opts = opts\n",
        "\n",
        "        self.embedding = nn.Embedding(vocab_size, hidden_size)\n",
        "        \n",
        "        self.self_attentions = nn.ModuleList([ScaledDotAttention(\n",
        "                                    hidden_size=hidden_size, \n",
        "                                 ) for i in range(self.num_layers)])\n",
        "        self.attention_mlps = nn.ModuleList([nn.Sequential(\n",
        "                                    nn.Linear(hidden_size, hidden_size),\n",
        "                                    nn.ReLU(),\n",
        "                                 ) for i in range(self.num_layers)])\n",
        "\n",
        "        self.positional_encodings = self.create_positional_encodings()\n",
        "\n",
        "    def forward(self, inputs):\n",
        "        \"\"\"Forward pass of the encoder RNN.\n",
        "\n",
        "        Arguments:\n",
        "            inputs: Input token indexes across a batch for all time steps in the sequence. (batch_size x seq_len)\n",
        "\n",
        "        Returns:\n",
        "            annotations: The hidden states computed at each step of the input sequence. (batch_size x seq_len x hidden_size)\n",
        "            None: Used to conform to standard encoder return signature.\n",
        "            None: Used to conform to standard encoder return signature.        \n",
        "        \"\"\"\n",
        "        batch_size, seq_len = inputs.size()\n",
        "\n",
        "        encoded = self.embedding(inputs)  # batch_size x seq_len x hidden_size\n",
        "\n",
        "        # Add positinal embeddings from self.create_positional_encodings. (a'la https://arxiv.org/pdf/1706.03762.pdf, section 3.5)\n",
        "        encoded = encoded + self.positional_encodings[:seq_len]\n",
        "\n",
        "        annotations = encoded\n",
        "        for i in range(self.num_layers):\n",
        "            new_annotations, self_attention_weights = self.self_attentions[i](annotations, annotations, annotations)  # batch_size x seq_len x hidden_size; annotations for all queries, keys, values\n",
        "            residual_annotations = annotations + new_annotations\n",
        "            new_annotations = self.attention_mlps[i](residual_annotations)\n",
        "            annotations = residual_annotations + new_annotations\n",
        "\n",
        "        # Transformer encoder does not have a last hidden or cell layer. \n",
        "        return annotations, None, None\n",
        "\n",
        "    def create_positional_encodings(self, max_seq_len=1000):\n",
        "        \"\"\"Creates positional encodings for the inputs.\n",
        "\n",
        "        Arguments:\n",
        "            max_seq_len: a number larger than the maximum string length we expect to encounter during training\n",
        "\n",
        "        Returns:\n",
        "            pos_encodings: (max_seq_len, hidden_dim) Positional encodings for a sequence with length max_seq_len. \n",
        "        \"\"\"\n",
        "        pos_indices = torch.arange(max_seq_len)[..., None] #pos: [0],[1],[2],[3]...[999] stack vertical\n",
        "        dim_indices = torch.arange(self.hidden_size//2)[None, ...] #i: [0],[1],[2],[3]...[hidden size/2] stack horizontal\n",
        "        exponents = (2*dim_indices).float()/(self.hidden_size) #2i/d_model\n",
        "        trig_args = pos_indices / (10000**exponents) #size: 1000x (hidden size/2)\n",
        "        sin_terms = torch.sin(trig_args) #size: 1000x (hidden size/2)\n",
        "        cos_terms = torch.cos(trig_args) #size: 1000x (hidden size/2)\n",
        "\n",
        "        pos_encodings = torch.zeros((max_seq_len, self.hidden_size))\n",
        "        pos_encodings[:, 0::2] = sin_terms #column[0], column[2], column[4]...\n",
        "        pos_encodings[:, 1::2] = cos_terms #column[1], column[3], column[5]...\n",
        "\n",
        "        if self.opts.cuda:\n",
        "            pos_encodings = pos_encodings.cuda()\n",
        "\n",
        "        return pos_encodings\n"
      ],
      "execution_count": 26,
      "outputs": []
    },
    {
      "cell_type": "markdown",
      "metadata": {
        "id": "z1hDi020rT36"
      },
      "source": [
        "## Step 4: Transformer Decoder\n",
        "Complete the following transformer decoder implementation. "
      ]
    },
    {
      "cell_type": "code",
      "metadata": {
        "id": "nyvTZFxtrvc6"
      },
      "source": [
        "class TransformerDecoder(nn.Module):\n",
        "    def __init__(self, vocab_size, hidden_size, num_layers):\n",
        "        super(TransformerDecoder, self).__init__()\n",
        "        self.vocab_size = vocab_size\n",
        "        self.hidden_size = hidden_size\n",
        "\n",
        "        self.embedding = nn.Embedding(vocab_size, hidden_size)        \n",
        "        self.num_layers = num_layers\n",
        "        \n",
        "        self.self_attentions = nn.ModuleList([CausalScaledDotAttention(\n",
        "                                    hidden_size=hidden_size, \n",
        "                                 ) for i in range(self.num_layers)])\n",
        "        self.encoder_attentions = nn.ModuleList([ScaledDotAttention(\n",
        "                                    hidden_size=hidden_size, \n",
        "                                 ) for i in range(self.num_layers)])\n",
        "        self.attention_mlps = nn.ModuleList([nn.Sequential(\n",
        "                                    nn.Linear(hidden_size, hidden_size),\n",
        "                                    nn.ReLU(),\n",
        "                                 ) for i in range(self.num_layers)])\n",
        "        self.out = nn.Linear(hidden_size, vocab_size) #probability over vocab\n",
        "\n",
        "        self.positional_encodings = self.create_positional_encodings()\n",
        "\n",
        "    def forward(self, inputs, annotations, hidden_init, cell_init):\n",
        "        \"\"\"Forward pass of the attention-based decoder RNN.\n",
        "\n",
        "        Arguments:\n",
        "            inputs: Input token indexes across a batch for all the time step. (batch_size x decoder_seq_len)\n",
        "            annotations: The encoder hidden states for each step of the input.\n",
        "                         sequence. (batch_size x seq_len x hidden_size)\n",
        "            hidden_init: Not used in the transformer decoder\n",
        "            cell_init: Not used in transformer decoder\n",
        "        Returns:\n",
        "            output: Un-normalized scores for each token in the vocabulary, across a batch for all the decoding time steps. (batch_size x decoder_seq_len x vocab_size)\n",
        "            attentions: The stacked attention weights applied to the encoder annotations (batch_size x encoder_seq_len x decoder_seq_len)\n",
        "        \"\"\"\n",
        "        \n",
        "        batch_size, seq_len = inputs.size()\n",
        "        embed = self.embedding(inputs)  # batch_size x seq_len x hidden_size\n",
        "\n",
        "        embed = embed + self.positional_encodings[:seq_len]\n",
        "\n",
        "        encoder_attention_weights_list = []\n",
        "        self_attention_weights_list = []\n",
        "        contexts = embed\n",
        "        for i in range(self.num_layers):\n",
        "            new_contexts, self_attention_weights = self.self_attentions[i](contexts, contexts, contexts)  # batch_size x seq_len x hidden_size\n",
        "            residual_contexts = contexts + new_contexts\n",
        "            new_contexts, encoder_attention_weights = self.encoder_attentions[i](residual_contexts, annotations, annotations) # batch_size x seq_len x hidden_size\n",
        "            residual_contexts = residual_contexts + new_contexts\n",
        "            new_contexts = self.attention_mlps[i](residual_contexts)\n",
        "            contexts = residual_contexts + new_contexts\n",
        "\n",
        "            encoder_attention_weights_list.append(encoder_attention_weights)\n",
        "            self_attention_weights_list.append(self_attention_weights)\n",
        "          \n",
        "        output = self.out(contexts)\n",
        "        encoder_attention_weights = torch.stack(encoder_attention_weights_list) #stack weights for all decoder blocks\n",
        "        self_attention_weights = torch.stack(self_attention_weights_list) #stack weights for all decoder blocks\n",
        "        \n",
        "        return output, (encoder_attention_weights, self_attention_weights)\n",
        "\n",
        "    def create_positional_encodings(self, max_seq_len=1000):\n",
        "        \"\"\"Creates positional encodings for the inputs.\n",
        "\n",
        "        Arguments:\n",
        "            max_seq_len: a number larger than the maximum string length we expect to encounter during training\n",
        "\n",
        "        Returns:\n",
        "            pos_encodings: (max_seq_len, hidden_dim) Positional encodings for a sequence with length max_seq_len. \n",
        "        \"\"\"\n",
        "        pos_indices = torch.arange(max_seq_len)[..., None]\n",
        "        dim_indices = torch.arange(self.hidden_size//2)[None, ...]\n",
        "        exponents = (2*dim_indices).float()/(self.hidden_size)\n",
        "        trig_args = pos_indices / (10000**exponents)\n",
        "        sin_terms = torch.sin(trig_args)\n",
        "        cos_terms = torch.cos(trig_args)\n",
        "\n",
        "        pos_encodings = torch.zeros((max_seq_len, self.hidden_size))\n",
        "        pos_encodings[:, 0::2] = sin_terms\n",
        "        pos_encodings[:, 1::2] = cos_terms\n",
        "\n",
        "        pos_encodings = pos_encodings.cuda()\n",
        "\n",
        "        return pos_encodings\n"
      ],
      "execution_count": 27,
      "outputs": []
    },
    {
      "cell_type": "markdown",
      "metadata": {
        "id": "29ZjkXTNrUKb"
      },
      "source": [
        "\n",
        "## Step 5: Training and analysis\n",
        "Now, train the following language model that's comprised of a (simplified) transformer encoder and transformer decoder. "
      ]
    },
    {
      "cell_type": "markdown",
      "metadata": {
        "id": "rqTp-eCPuuFO"
      },
      "source": [
        "First, we train our smaller model on the small dataset. Use this model to answer Question 4 in the handout."
      ]
    },
    {
      "cell_type": "code",
      "metadata": {
        "id": "mk8e4KSnuZ8N",
        "colab": {
          "base_uri": "https://localhost:8080/"
        },
        "outputId": "d3a8b447-3a4e-4b77-eb35-6243a8941b5d"
      },
      "source": [
        "TEST_SENTENCE = 'the air conditioning is working'\n",
        "\n",
        "trans32_args_s = AttrDict()\n",
        "args_dict = {\n",
        "              'data_file_name': 'pig_latin_small',\n",
        "              'cuda':True, \n",
        "              'nepochs':100, \n",
        "              'checkpoint_dir':\"checkpoints\", \n",
        "              'learning_rate':5e-4,\n",
        "              'early_stopping_patience': 100,\n",
        "              'lr_decay':0.99,\n",
        "              'batch_size': 64,\n",
        "              'hidden_size': 32,\n",
        "              'encoder_type': 'transformer',\n",
        "              'decoder_type': 'transformer', # options: rnn / rnn_attention / transformer\n",
        "              'num_transformer_layers': 3,\n",
        "}\n",
        "trans32_args_s.update(args_dict)\n",
        "print_opts(trans32_args_s)\n",
        "\n",
        "trans32_encoder_s, trans32_decoder_s, trans32_losses_s = train(trans32_args_s)\n",
        "\n",
        "translated = translate_sentence(TEST_SENTENCE, trans32_encoder_s, trans32_decoder_s, None, trans32_args_s)\n",
        "print(\"source:\\t\\t{} \\ntranslated:\\t{}\".format(TEST_SENTENCE, translated))"
      ],
      "execution_count": 28,
      "outputs": [
        {
          "output_type": "stream",
          "text": [
            "================================================================================\n",
            "                                      Opts                                      \n",
            "--------------------------------------------------------------------------------\n",
            "                         data_file_name: pig_latin_small                        \n",
            "                                   cuda: 1                                      \n",
            "                                nepochs: 100                                    \n",
            "                         checkpoint_dir: checkpoints                            \n",
            "                          learning_rate: 0.0005                                 \n",
            "                early_stopping_patience: 100                                    \n",
            "                               lr_decay: 0.99                                   \n",
            "                             batch_size: 64                                     \n",
            "                            hidden_size: 32                                     \n",
            "                           encoder_type: transformer                            \n",
            "                           decoder_type: transformer                            \n",
            "                 num_transformer_layers: 3                                      \n",
            "================================================================================\n",
            "================================================================================\n",
            "                                   Data Stats                                   \n",
            "--------------------------------------------------------------------------------\n",
            "('applying', 'applyingway')\n",
            "('luxury', 'uxurylay')\n",
            "('discovering', 'iscoveringday')\n",
            "('gratefully', 'atefullygray')\n",
            "('enjoy', 'enjoyway')\n",
            "Num unique word pairs: 3198\n",
            "Vocabulary: dict_keys(['-', 'a', 'b', 'c', 'd', 'e', 'f', 'g', 'h', 'i', 'j', 'k', 'l', 'm', 'n', 'o', 'p', 'q', 'r', 's', 't', 'u', 'v', 'w', 'x', 'y', 'z', 'SOS', 'EOS'])\n",
            "Vocab size: 29\n",
            "================================================================================\n",
            "Moved models to GPU!\n",
            "Epoch:   0 | Train loss: 2.973 | Val loss: 2.382 | Gen: aylayay ay iosiosiioay-indioay ilaylaylaylaylaylayy ieiay-inday\n",
            "Epoch:   1 | Train loss: 2.174 | Val loss: 1.998 | Gen: aylay ay indooseindoay ilaylay indeioay-ay-ay\n",
            "Epoch:   2 | Train loss: 1.911 | Val loss: 1.825 | Gen: eteway ay oooooinindondoncay isway oneoay-in-ay\n",
            "Epoch:   3 | Train loss: 1.743 | Val loss: 1.707 | Gen: eteway away oooonindondonday isway ongray-ay-ay\n",
            "Epoch:   4 | Train loss: 1.608 | Val loss: 1.624 | Gen: eteway away ontinincincintinay isay ongray-ay-ay\n",
            "Epoch:   5 | Train loss: 1.502 | Val loss: 1.569 | Gen: eteway away ontinincay-ontitiona isay onay-ingray\n",
            "Epoch:   6 | Train loss: 1.408 | Val loss: 1.547 | Gen: eteway away intionay isay ingray-ingay\n",
            "Epoch:   7 | Train loss: 1.319 | Val loss: 1.603 | Gen: etay ay incinincay-ontitiont isay ingray-ingay\n",
            "Epoch:   8 | Train loss: 1.288 | Val loss: 1.536 | Gen: ethay iray indinindinay-ontitit isay ingray-ingay\n",
            "Epoch:   9 | Train loss: 1.201 | Val loss: 1.388 | Gen: etay iaray ondindindongnday-ont isay ingray-ingngway\n",
            "Epoch:  10 | Train loss: 1.131 | Val loss: 1.484 | Gen: ethay iraray ondingingngndingngng isay oningingrway-angngng\n",
            "Epoch:  11 | Train loss: 1.063 | Val loss: 1.416 | Gen: ethay iraray ondindingngndonday-o isway oningingrway\n",
            "Epoch:  12 | Train loss: 1.006 | Val loss: 1.357 | Gen: eteteway iraray onondindongndonday-o isway onoringrway\n",
            "Epoch:  13 | Train loss: 0.953 | Val loss: 1.307 | Gen: etetehay iraray ondindondongndonay-o isway oningray-angnay\n",
            "Epoch:  14 | Train loss: 0.918 | Val loss: 1.326 | Gen: ethay iraway onondioncay-ondiondi isway onoringway\n",
            "Epoch:  15 | Train loss: 0.888 | Val loss: 1.320 | Gen: etehay ary ondincincongndondond isway oringway-oway\n",
            "Epoch:  16 | Train loss: 0.880 | Val loss: 1.264 | Gen: ethay arway ondingangngngntay-on isway oringway-oway\n",
            "Epoch:  17 | Train loss: 0.845 | Val loss: 1.281 | Gen: ethay arway ondioncay-ondgtition isway ororingway\n",
            "Epoch:  18 | Train loss: 0.793 | Val loss: 1.372 | Gen: ethay arway onondoncangncay-onti isway oooringway\n",
            "Epoch:  19 | Train loss: 0.758 | Val loss: 1.362 | Gen: ethay arway onondoncay-ondingonc isway ooringway\n",
            "Epoch:  20 | Train loss: 0.726 | Val loss: 1.240 | Gen: ethay arirway onondiongngsticay-on isway ooringway\n",
            "Epoch:  21 | Train loss: 0.712 | Val loss: 1.173 | Gen: ethay arway onotiongcay-ondition isway okwingway\n",
            "Epoch:  22 | Train loss: 0.669 | Val loss: 1.195 | Gen: ethay arirway onondiongcay-ontiong isway ooringway\n",
            "Epoch:  23 | Train loss: 0.648 | Val loss: 1.138 | Gen: ethay arirway ondioncationgnay isway okwingway\n",
            "Epoch:  24 | Train loss: 0.619 | Val loss: 1.087 | Gen: ethay arirway ondiongcay-otingngna isway origwingway\n",
            "Epoch:  25 | Train loss: 0.592 | Val loss: 1.153 | Gen: ethay arirway ondioncatingway-onan isway okwingway\n",
            "Epoch:  26 | Train loss: 0.578 | Val loss: 1.043 | Gen: ethay arirway ondioncatingway-onan isway oringway\n",
            "Epoch:  27 | Train loss: 0.560 | Val loss: 1.067 | Gen: ethehay ararway ondioncay-otinationa isway oringway\n",
            "Epoch:  28 | Train loss: 0.555 | Val loss: 1.004 | Gen: ethay ararway ondioncangway-onday isway owingway\n",
            "Epoch:  29 | Train loss: 0.538 | Val loss: 1.087 | Gen: ehethay ararway ondicingwatingnay isway okwingway\n",
            "Epoch:  30 | Train loss: 0.535 | Val loss: 1.031 | Gen: ethay ararway ondintingway isway owingway\n",
            "Epoch:  31 | Train loss: 0.527 | Val loss: 1.035 | Gen: ethay arirway onditingcay-onditing isway okwingway\n",
            "Epoch:  32 | Train loss: 0.489 | Val loss: 0.954 | Gen: ethay ariray onditingway-ondinay isway owingway\n",
            "Epoch:  33 | Train loss: 0.462 | Val loss: 0.973 | Gen: ethay ararway onditingway-ondingin isway okwingway\n",
            "Epoch:  34 | Train loss: 0.437 | Val loss: 0.964 | Gen: ethay ararway onditingway-ondingin isway okwingway\n",
            "Epoch:  35 | Train loss: 0.420 | Val loss: 0.965 | Gen: ethay ararway onditingway isway okwingway\n",
            "Epoch:  36 | Train loss: 0.405 | Val loss: 0.976 | Gen: ethay ararway onditingway isway okwingway\n",
            "Epoch:  37 | Train loss: 0.397 | Val loss: 0.962 | Gen: ethay ariray onditingcay isway okwingway\n",
            "Epoch:  38 | Train loss: 0.378 | Val loss: 0.992 | Gen: ethay ariway onditingway isway okwingway\n",
            "Epoch:  39 | Train loss: 0.378 | Val loss: 0.977 | Gen: ethay ariray onditingcay isway okwingway\n",
            "Epoch:  40 | Train loss: 0.364 | Val loss: 1.008 | Gen: ethay ariway onditingwationway isway okwingway\n",
            "Epoch:  41 | Train loss: 0.365 | Val loss: 1.001 | Gen: ethay ariway onditingcay isway okwingway\n",
            "Epoch:  42 | Train loss: 0.346 | Val loss: 0.992 | Gen: ethay ariway onditingcay-ontitina isway okwingway\n",
            "Epoch:  43 | Train loss: 0.346 | Val loss: 1.048 | Gen: ethay ariway onditingcay isway okwingway\n",
            "Epoch:  44 | Train loss: 0.362 | Val loss: 1.036 | Gen: ethay ariway onditingcay isway okwingway\n",
            "Epoch:  45 | Train loss: 0.373 | Val loss: 1.091 | Gen: ethay arway ondidincay-ondingiti isway okwingway\n",
            "Epoch:  46 | Train loss: 0.376 | Val loss: 1.090 | Gen: ethay arway onditingnay isway orkwingway\n",
            "Epoch:  47 | Train loss: 0.383 | Val loss: 1.120 | Gen: ethay arway ondidincatingway isway okwingway\n",
            "Epoch:  48 | Train loss: 0.351 | Val loss: 1.004 | Gen: ethay arway onditingcay-ingcay isway okwingway\n",
            "Epoch:  49 | Train loss: 0.306 | Val loss: 0.975 | Gen: ethay arway onditingcay isway okwingway\n",
            "Epoch:  50 | Train loss: 0.286 | Val loss: 0.979 | Gen: ethay arway onditingcay isway okwingway\n",
            "Epoch:  51 | Train loss: 0.280 | Val loss: 0.965 | Gen: ethay arway onditingcay isway okwingway\n",
            "Epoch:  52 | Train loss: 0.271 | Val loss: 0.955 | Gen: ethay arway onditingcay isway okwingway\n",
            "Epoch:  53 | Train loss: 0.261 | Val loss: 0.958 | Gen: ethay arway ondidinctingway isway okwingway\n",
            "Epoch:  54 | Train loss: 0.253 | Val loss: 0.949 | Gen: ethay ariway onditincay-ingcay isway okwingway\n",
            "Epoch:  55 | Train loss: 0.243 | Val loss: 0.960 | Gen: ethay ariway ondidinctingnay isway okwingway\n",
            "Epoch:  56 | Train loss: 0.237 | Val loss: 0.965 | Gen: ethay ariway onditincay-ingcay isway okwingway\n",
            "Epoch:  57 | Train loss: 0.229 | Val loss: 0.971 | Gen: ethay ariway ondidinctingnay isway okwingway\n",
            "Epoch:  58 | Train loss: 0.224 | Val loss: 0.978 | Gen: ethay ariway ondidinctingnay isway okwingway\n",
            "Epoch:  59 | Train loss: 0.217 | Val loss: 0.991 | Gen: ethay ariway onditincingnay isway okwingway\n",
            "Epoch:  60 | Train loss: 0.215 | Val loss: 0.975 | Gen: ethay ariway onditioningcay isway okwingway\n",
            "Epoch:  61 | Train loss: 0.209 | Val loss: 0.974 | Gen: ethay ariway ondidinctingnay isway okwingway\n",
            "Epoch:  62 | Train loss: 0.202 | Val loss: 0.998 | Gen: ethay ariway ondidincingnay isway okwingway\n",
            "Epoch:  63 | Train loss: 0.197 | Val loss: 1.003 | Gen: ethay ariway ondidinctingnay isway okwingway\n",
            "Epoch:  64 | Train loss: 0.195 | Val loss: 1.010 | Gen: ethay ariway onditioningcay isway okwingway\n",
            "Epoch:  65 | Train loss: 0.190 | Val loss: 1.047 | Gen: ethay ariway ondidinctingnay isway okwingway\n",
            "Epoch:  66 | Train loss: 0.202 | Val loss: 1.030 | Gen: ethay ariway ondidincingnay isway okwingway\n",
            "Epoch:  67 | Train loss: 0.188 | Val loss: 1.045 | Gen: ethay ariway ondidinctingnay isway okwingway\n",
            "Epoch:  68 | Train loss: 0.178 | Val loss: 1.016 | Gen: ethay ariway ondidinctingnay isway okwingway\n",
            "Epoch:  69 | Train loss: 0.171 | Val loss: 1.055 | Gen: ethay ariway ondidinctingnay isway okwingway\n",
            "Epoch:  70 | Train loss: 0.165 | Val loss: 1.079 | Gen: ethay ariway ondidinctingnay isway okwingway\n",
            "Epoch:  71 | Train loss: 0.159 | Val loss: 1.081 | Gen: ethay ariway ondidinctingnay isway okwingway\n",
            "Epoch:  72 | Train loss: 0.155 | Val loss: 1.113 | Gen: ethay ariway ondidionctingnay isway okwingway\n",
            "Epoch:  73 | Train loss: 0.152 | Val loss: 1.129 | Gen: ethay ariway ondidinctingnay isway okwingway\n",
            "Epoch:  74 | Train loss: 0.149 | Val loss: 1.115 | Gen: ethay ariway ondidinctingnay isway okwingway\n",
            "Epoch:  75 | Train loss: 0.146 | Val loss: 1.201 | Gen: ethay ariway ondidinctingnay isway okwingway\n",
            "Epoch:  76 | Train loss: 0.150 | Val loss: 1.068 | Gen: ethay ariway onditioningnay isway okwingway\n",
            "Epoch:  77 | Train loss: 0.198 | Val loss: 1.308 | Gen: ethay airay ondidiongntingnay isway okwingway\n",
            "Epoch:  78 | Train loss: 0.243 | Val loss: 1.031 | Gen: ethay arirway onditincingnay isway okingingway\n",
            "Epoch:  79 | Train loss: 0.208 | Val loss: 0.982 | Gen: ethay ariway ondidioningcay isway okwingway\n",
            "Epoch:  80 | Train loss: 0.211 | Val loss: 1.404 | Gen: ethay arfay odddincatingway isway okingway\n",
            "Epoch:  81 | Train loss: 0.269 | Val loss: 1.033 | Gen: ethay ariway onditingningnay isway okwingway\n",
            "Epoch:  82 | Train loss: 0.190 | Val loss: 0.889 | Gen: ethay ariway onditingningnay isway okwingway\n",
            "Epoch:  83 | Train loss: 0.150 | Val loss: 0.883 | Gen: ethay ariway onditingningncay isway okwingway\n",
            "Epoch:  84 | Train loss: 0.138 | Val loss: 0.903 | Gen: ethay ariway onditingningncay isway okwingnay\n",
            "Epoch:  85 | Train loss: 0.130 | Val loss: 0.919 | Gen: ethay ariway onditingningncay isway okwingnay\n",
            "Epoch:  86 | Train loss: 0.125 | Val loss: 0.922 | Gen: ethay ariway onditioningncay isway okwingnay\n",
            "Epoch:  87 | Train loss: 0.121 | Val loss: 0.925 | Gen: ethay ariway onditioningncay isway okwingnay\n",
            "Epoch:  88 | Train loss: 0.117 | Val loss: 0.926 | Gen: ethay ariway onditioningncay isway okwingway\n",
            "Epoch:  89 | Train loss: 0.113 | Val loss: 0.928 | Gen: ethay ariway onditioningncay isway okwingway\n",
            "Epoch:  90 | Train loss: 0.110 | Val loss: 0.929 | Gen: ethay ariway onditioningncay isway okwingway\n",
            "Epoch:  91 | Train loss: 0.107 | Val loss: 0.931 | Gen: ethay ariway onditioningncay isway okwingway\n",
            "Epoch:  92 | Train loss: 0.104 | Val loss: 0.935 | Gen: ethay ariway onditioningncay isway okwingway\n",
            "Epoch:  93 | Train loss: 0.101 | Val loss: 0.937 | Gen: ethay ariway onditioningncay isway okwingway\n",
            "Epoch:  94 | Train loss: 0.099 | Val loss: 0.940 | Gen: ethay ariway onditioningncay isway okwingway\n",
            "Epoch:  95 | Train loss: 0.096 | Val loss: 0.943 | Gen: ethay ariway onditioningncay isway okwingway\n",
            "Epoch:  96 | Train loss: 0.094 | Val loss: 0.946 | Gen: ethay ariway onditioningncay isway okwingway\n",
            "Epoch:  97 | Train loss: 0.091 | Val loss: 0.950 | Gen: ethay ariway onditioningncay isway okwingway\n",
            "Epoch:  98 | Train loss: 0.089 | Val loss: 0.953 | Gen: ethay ariway onditioningncay isway okwingway\n",
            "Epoch:  99 | Train loss: 0.087 | Val loss: 0.957 | Gen: ethay ariway onditioningncay isway okwingway\n",
            "Obtained lowest validation loss of: 0.8828934542834759\n",
            "source:\t\tthe air conditioning is working \n",
            "translated:\tethay ariway onditioningncay isway okwingway\n"
          ],
          "name": "stdout"
        }
      ]
    },
    {
      "cell_type": "code",
      "metadata": {
        "id": "l28mKuZxvaRT",
        "colab": {
          "base_uri": "https://localhost:8080/"
        },
        "outputId": "135ff2bd-7d45-4ba6-9cad-c25de87be80e"
      },
      "source": [
        "TEST_SENTENCE = 'the air conditioning is working'\n",
        "translated = translate_sentence(TEST_SENTENCE, trans32_encoder_s, trans32_decoder_s, None, trans32_args_s)\n",
        "print(\"source:\\t\\t{} \\ntranslated:\\t{}\".format(TEST_SENTENCE, translated))"
      ],
      "execution_count": 29,
      "outputs": [
        {
          "output_type": "stream",
          "text": [
            "source:\t\tthe air conditioning is working \n",
            "translated:\tethay ariway onditioningncay isway okwingway\n"
          ],
          "name": "stdout"
        }
      ]
    },
    {
      "cell_type": "markdown",
      "metadata": {
        "id": "0L8EqLYFu48H"
      },
      "source": [
        "In the following cells, we investigate the effects of increasing model size and dataset size on the training / validation curves and generalization of the Transformer. We will increase hidden size to 64, and also increase dataset size. Include the best achieved validation loss in your report."
      ]
    },
    {
      "cell_type": "code",
      "metadata": {
        "id": "FdZO69DozuUu",
        "colab": {
          "base_uri": "https://localhost:8080/"
        },
        "outputId": "cfb655d0-cde9-4240-9e10-ad46c181b8bc"
      },
      "source": [
        "TEST_SENTENCE = 'the air conditioning is working'\n",
        "\n",
        "trans32_args_l = AttrDict()\n",
        "args_dict = {\n",
        "              'data_file_name': 'pig_latin_large', # Increased data set size\n",
        "              'cuda':True, \n",
        "              'nepochs':100,\n",
        "              'checkpoint_dir':\"checkpoints\", \n",
        "              'learning_rate':5e-4,\n",
        "              'early_stopping_patience': 10,\n",
        "              'lr_decay':0.99,\n",
        "              'batch_size': 512,\n",
        "              'hidden_size': 32,\n",
        "              'encoder_type': 'transformer',\n",
        "              'decoder_type': 'transformer', # options: rnn / rnn_attention / transformer\n",
        "              'num_transformer_layers': 3,\n",
        "}\n",
        "trans32_args_l.update(args_dict)\n",
        "print_opts(trans32_args_l)\n",
        "\n",
        "trans32_encoder_l, trans32_decoder_l, trans32_losses_l = train(trans32_args_l)\n",
        "\n",
        "translated = translate_sentence(TEST_SENTENCE, trans32_encoder_l, trans32_decoder_l, None, trans32_args_l)\n",
        "print(\"source:\\t\\t{} \\ntranslated:\\t{}\".format(TEST_SENTENCE, translated))"
      ],
      "execution_count": 30,
      "outputs": [
        {
          "output_type": "stream",
          "text": [
            "================================================================================\n",
            "                                      Opts                                      \n",
            "--------------------------------------------------------------------------------\n",
            "                         data_file_name: pig_latin_large                        \n",
            "                                   cuda: 1                                      \n",
            "                                nepochs: 100                                    \n",
            "                         checkpoint_dir: checkpoints                            \n",
            "                          learning_rate: 0.0005                                 \n",
            "                early_stopping_patience: 10                                     \n",
            "                               lr_decay: 0.99                                   \n",
            "                             batch_size: 512                                    \n",
            "                            hidden_size: 32                                     \n",
            "                           encoder_type: transformer                            \n",
            "                           decoder_type: transformer                            \n",
            "                 num_transformer_layers: 3                                      \n",
            "================================================================================\n",
            "================================================================================\n",
            "                                   Data Stats                                   \n",
            "--------------------------------------------------------------------------------\n",
            "('initiation', 'initiationway')\n",
            "('inquisitiveness', 'inquisitivenessway')\n",
            "('quiz', 'uizqay')\n",
            "('ata', 'ataway')\n",
            "('clock', 'ockclay')\n",
            "Num unique word pairs: 22402\n",
            "Vocabulary: dict_keys(['-', 'a', 'b', 'c', 'd', 'e', 'f', 'g', 'h', 'i', 'j', 'k', 'l', 'm', 'n', 'o', 'p', 'q', 'r', 's', 't', 'u', 'v', 'w', 'x', 'y', 'z', 'SOS', 'EOS'])\n",
            "Vocab size: 29\n",
            "================================================================================\n",
            "Moved models to GPU!\n",
            "Epoch:   0 | Train loss: 2.973 | Val loss: 2.398 | Gen: ewewey ay atnonntntnnnnnnnnnln iwly ontay\n",
            "Epoch:   1 | Train loss: 2.149 | Val loss: 2.120 | Gen: edey imay intntntntnly iy ontintintingtintay\n",
            "Epoch:   2 | Train loss: 1.914 | Val loss: 1.970 | Gen: eday imay ontntntntnnngsssssss iyssssssssssssssssss ontintintintintintin\n",
            "Epoch:   3 | Train loss: 1.754 | Val loss: 1.861 | Gen: eday imay inonway iwsssssssssssssssssw ontintintintintinswa\n",
            "Epoch:   4 | Train loss: 1.624 | Val loss: 1.781 | Gen: eway iway ingingway iwssssssssssssssssws ontingstintay\n",
            "Epoch:   5 | Train loss: 1.513 | Val loss: 1.696 | Gen: eway irayway inginginginginginay iwssswsssssway orntingway\n",
            "Epoch:   6 | Train loss: 1.426 | Val loss: 1.644 | Gen: eway imway ingingingingwangindw iwsssway ornway-indsway\n",
            "Epoch:   7 | Train loss: 1.352 | Val loss: 1.621 | Gen: eway iraywaway oninginginginginandi iwswswswsway orway-indway\n",
            "Epoch:   8 | Train loss: 1.303 | Val loss: 1.537 | Gen: eway iraway ooooioniongiongionay iwsway orway\n",
            "Epoch:   9 | Train loss: 1.248 | Val loss: 1.730 | Gen: ehay irawaway iongiongiongionangio iway oroiooonday\n",
            "Epoch:  10 | Train loss: 1.196 | Val loss: 1.529 | Gen: eway iray onioionginay iway orway-indway\n",
            "Epoch:  11 | Train loss: 1.123 | Val loss: 1.424 | Gen: eheway iray oniooiongingionay iway orway-ionway\n",
            "Epoch:  12 | Train loss: 1.076 | Val loss: 1.352 | Gen: ethay iraway oniongionay iway orway\n",
            "Epoch:  13 | Train loss: 1.022 | Val loss: 1.376 | Gen: ehethay iraway ongiongiongionay iway orkiongway\n",
            "Epoch:  14 | Train loss: 0.997 | Val loss: 1.373 | Gen: ethay iraway oniongionangionginay iway orway\n",
            "Epoch:  15 | Train loss: 0.946 | Val loss: 1.301 | Gen: ehay irray ongionginangiongway iway oringway\n",
            "Epoch:  16 | Train loss: 0.917 | Val loss: 1.362 | Gen: ehay iraway ongionginangway iway orway\n",
            "Epoch:  17 | Train loss: 0.893 | Val loss: 1.247 | Gen: ehway irray ongiongingionay iway oringway\n",
            "Epoch:  18 | Train loss: 0.884 | Val loss: 1.209 | Gen: ehay irray ondicatingiongway iway oringway\n",
            "Epoch:  19 | Train loss: 0.831 | Val loss: 1.179 | Gen: ehway irray ongiongiongway iway oringway\n",
            "Epoch:  20 | Train loss: 0.807 | Val loss: 1.212 | Gen: ehay irray ongiongwaongway iway oringway\n",
            "Epoch:  21 | Train loss: 0.770 | Val loss: 1.187 | Gen: ehhay irray ondiongionay iway oringway\n",
            "Epoch:  22 | Train loss: 0.751 | Val loss: 1.172 | Gen: ehay irray ondiongionay iway oringway\n",
            "Epoch:  23 | Train loss: 0.725 | Val loss: 1.154 | Gen: ehay irray ondiongionay isway oringway\n",
            "Epoch:  24 | Train loss: 0.706 | Val loss: 1.141 | Gen: ehay iray ondionionay iway oringway\n",
            "Epoch:  25 | Train loss: 0.690 | Val loss: 1.127 | Gen: ehthay array ondiongionay iway oringway\n",
            "Epoch:  26 | Train loss: 0.659 | Val loss: 1.077 | Gen: ehay irray ondionionguionay isway oringway\n",
            "Epoch:  27 | Train loss: 0.633 | Val loss: 1.065 | Gen: ehay irray ondiongionay iway oringway\n",
            "Epoch:  28 | Train loss: 0.615 | Val loss: 1.036 | Gen: ehay airay ondioniongway iway oringway\n",
            "Epoch:  29 | Train loss: 0.593 | Val loss: 1.043 | Gen: ehway irray ondioniongway isway oringway\n",
            "Epoch:  30 | Train loss: 0.582 | Val loss: 1.024 | Gen: ehay airay ondioniongway iway oringway\n",
            "Epoch:  31 | Train loss: 0.563 | Val loss: 1.000 | Gen: ehway irray onditiongway iway oringway\n",
            "Epoch:  32 | Train loss: 0.551 | Val loss: 0.978 | Gen: ehay iray ondioniongway isway oringway\n",
            "Epoch:  33 | Train loss: 0.532 | Val loss: 0.986 | Gen: ehway irray onditiongway isway oringway\n",
            "Epoch:  34 | Train loss: 0.522 | Val loss: 0.978 | Gen: ehay iray onditiongway iway oringway\n",
            "Epoch:  35 | Train loss: 0.504 | Val loss: 0.974 | Gen: ehway irray onditionginay iway oringway\n",
            "Epoch:  36 | Train loss: 0.489 | Val loss: 0.959 | Gen: ehay iray onditiongway iway oringway\n",
            "Epoch:  37 | Train loss: 0.483 | Val loss: 1.085 | Gen: ehway iraway ondioningway iway oringway\n",
            "Epoch:  38 | Train loss: 0.501 | Val loss: 0.941 | Gen: ehay airay onditiongiongway isway oringway\n",
            "Epoch:  39 | Train loss: 0.470 | Val loss: 0.926 | Gen: ehway irray onditiongiongway isway oringway\n",
            "Epoch:  40 | Train loss: 0.441 | Val loss: 0.908 | Gen: ehtay iray onditiongcay iway oringway\n",
            "Epoch:  41 | Train loss: 0.435 | Val loss: 0.858 | Gen: ehtay irray onditiongingway isway oringway\n",
            "Epoch:  42 | Train loss: 0.416 | Val loss: 0.873 | Gen: ehtay iray onditiongingway isway oringway\n",
            "Epoch:  43 | Train loss: 0.410 | Val loss: 0.846 | Gen: ehtay irray onditiongcangway iway oringway\n",
            "Epoch:  44 | Train loss: 0.406 | Val loss: 0.868 | Gen: ehtay irray onditiongingway isway oringway\n",
            "Epoch:  45 | Train loss: 0.386 | Val loss: 0.835 | Gen: ehtay iraway onditiongingway isway oringway\n",
            "Epoch:  46 | Train loss: 0.373 | Val loss: 0.832 | Gen: ehtay irray onditiongingway isway oringway\n",
            "Epoch:  47 | Train loss: 0.367 | Val loss: 0.822 | Gen: ehhay irray onditiongcangway isway oringway\n",
            "Epoch:  48 | Train loss: 0.360 | Val loss: 0.820 | Gen: ehtay array onditiongcangway isway oringway\n",
            "Epoch:  49 | Train loss: 0.352 | Val loss: 0.796 | Gen: ehtay irray onditiongcangway isway orkingway\n",
            "Epoch:  50 | Train loss: 0.341 | Val loss: 1.041 | Gen: ehtay irray onditiongingway isway orinngway\n",
            "Epoch:  51 | Train loss: 0.459 | Val loss: 0.899 | Gen: ehway airway ondizaingiongway iway oringway\n",
            "Epoch:  52 | Train loss: 0.390 | Val loss: 0.772 | Gen: ehtay irray onditiongingway isway oringway\n",
            "Epoch:  53 | Train loss: 0.337 | Val loss: 0.766 | Gen: ehtay irray onditiongcay isway oringway\n",
            "Epoch:  54 | Train loss: 0.320 | Val loss: 0.751 | Gen: ehtay array onditiongcay isway orkingway\n",
            "Epoch:  55 | Train loss: 0.307 | Val loss: 0.746 | Gen: ehtay arrway onditiongcay isway orkingway\n",
            "Epoch:  56 | Train loss: 0.299 | Val loss: 0.743 | Gen: ehtay arrway onditiongcangway isway orkingway\n",
            "Epoch:  57 | Train loss: 0.292 | Val loss: 0.743 | Gen: ehtay arrway onditiongcangway isway orkingway\n",
            "Epoch:  58 | Train loss: 0.285 | Val loss: 0.740 | Gen: ehtay arrway onditiongcangway isway orkingway\n",
            "Epoch:  59 | Train loss: 0.279 | Val loss: 0.741 | Gen: ehtay arrway onditiongcangway isway orkingway\n",
            "Epoch:  60 | Train loss: 0.273 | Val loss: 0.740 | Gen: ehtay arrway onditiongcangway isway orkingway\n",
            "Epoch:  61 | Train loss: 0.269 | Val loss: 0.743 | Gen: ehtay arrway onditiongcay isway orkingway\n",
            "Epoch:  62 | Train loss: 0.282 | Val loss: 0.816 | Gen: hetway arrway onditiongcay isway orkingway\n",
            "Epoch:  63 | Train loss: 0.349 | Val loss: 0.823 | Gen: ethay arrway onditiongcangway isway orkingway\n",
            "Epoch:  64 | Train loss: 0.302 | Val loss: 0.786 | Gen: ehthay irray onditiongingway isway orkingway\n",
            "Epoch:  65 | Train loss: 0.291 | Val loss: 0.727 | Gen: ehtay irway onditiongingway isway oringway\n",
            "Epoch:  66 | Train loss: 0.258 | Val loss: 0.734 | Gen: ehthay arrway onditiongingway isway orkingway\n",
            "Epoch:  67 | Train loss: 0.250 | Val loss: 0.716 | Gen: ehtay arrway onditiongingway isway orkingway\n",
            "Epoch:  68 | Train loss: 0.241 | Val loss: 0.721 | Gen: ehtay arrway onditiongingway isway orkingway\n",
            "Epoch:  69 | Train loss: 0.237 | Val loss: 0.711 | Gen: ehtay arrway onditiongcangway isway orkingway\n",
            "Epoch:  70 | Train loss: 0.231 | Val loss: 0.717 | Gen: ehtay arrway onditiongingway isway orkingway\n",
            "Epoch:  71 | Train loss: 0.227 | Val loss: 0.708 | Gen: ehtay arrway onditiongcangway isway orkingway\n",
            "Epoch:  72 | Train loss: 0.221 | Val loss: 0.713 | Gen: ehtay arrway onditiongcangway isway orkingway\n",
            "Epoch:  73 | Train loss: 0.217 | Val loss: 0.709 | Gen: ehtay arrway onditiongcangway isway orkingway\n",
            "Epoch:  74 | Train loss: 0.212 | Val loss: 0.709 | Gen: ehtay arrway onditiongcangway isway orkingway\n",
            "Epoch:  75 | Train loss: 0.208 | Val loss: 0.709 | Gen: ethay arrway onditiongcangway isway orkingway\n",
            "Epoch:  76 | Train loss: 0.204 | Val loss: 0.708 | Gen: ethay arrway onditiongcangway isway orkingway\n",
            "Epoch:  77 | Train loss: 0.200 | Val loss: 0.709 | Gen: ethay arrway onditiongcangway isway orkingway\n",
            "Epoch:  78 | Train loss: 0.196 | Val loss: 0.708 | Gen: ethay arrway onditiongcangway isway orkingway\n",
            "Epoch:  79 | Train loss: 0.193 | Val loss: 0.711 | Gen: ethay arrway onditiongcay isway orkingway\n",
            "Epoch:  80 | Train loss: 0.189 | Val loss: 0.715 | Gen: ethay arrway onditiongcay isway orkingway\n",
            "Epoch:  81 | Train loss: 0.186 | Val loss: 0.714 | Gen: ethay arrway onditiongcay isway orkingway\n",
            "Validation loss has not improved in 10 epochs, stopping early\n",
            "Obtained lowest validation loss of: 0.7077494359352082\n",
            "source:\t\tthe air conditioning is working \n",
            "translated:\tethay arrway onditiongcay isway orkingway\n"
          ],
          "name": "stdout"
        }
      ]
    },
    {
      "cell_type": "code",
      "metadata": {
        "id": "SmoTgrDcr_dw",
        "colab": {
          "base_uri": "https://localhost:8080/"
        },
        "outputId": "51645927-57b0-4de6-d7de-2bb1d83868ea"
      },
      "source": [
        "TEST_SENTENCE = 'the air conditioning is working'\n",
        "\n",
        "trans64_args_s = AttrDict()\n",
        "args_dict = {\n",
        "              'data_file_name': 'pig_latin_small',\n",
        "              'cuda':True, \n",
        "              'nepochs':50, \n",
        "              'checkpoint_dir':\"checkpoints\", \n",
        "              'learning_rate':5e-4,\n",
        "              'early_stopping_patience': 20,\n",
        "              'lr_decay':0.99,\n",
        "              'batch_size': 64, \n",
        "              'hidden_size': 64, # Increased model size\n",
        "              'encoder_type': 'transformer',\n",
        "              'decoder_type': 'transformer', # options: rnn / rnn_attention / transformer\n",
        "              'num_transformer_layers': 3,\n",
        "}\n",
        "trans64_args_s.update(args_dict)\n",
        "print_opts(trans64_args_s)\n",
        "\n",
        "trans64_encoder_s, trans64_decoder_s, trans64_losses_s = train(trans64_args_s)\n",
        "\n",
        "translated = translate_sentence(TEST_SENTENCE, trans64_encoder_s, trans64_decoder_s, None, trans64_args_s)\n",
        "print(\"source:\\t\\t{} \\ntranslated:\\t{}\".format(TEST_SENTENCE, translated))"
      ],
      "execution_count": 31,
      "outputs": [
        {
          "output_type": "stream",
          "text": [
            "================================================================================\n",
            "                                      Opts                                      \n",
            "--------------------------------------------------------------------------------\n",
            "                         data_file_name: pig_latin_small                        \n",
            "                                   cuda: 1                                      \n",
            "                                nepochs: 50                                     \n",
            "                         checkpoint_dir: checkpoints                            \n",
            "                          learning_rate: 0.0005                                 \n",
            "                early_stopping_patience: 20                                     \n",
            "                               lr_decay: 0.99                                   \n",
            "                             batch_size: 64                                     \n",
            "                            hidden_size: 64                                     \n",
            "                           encoder_type: transformer                            \n",
            "                           decoder_type: transformer                            \n",
            "                 num_transformer_layers: 3                                      \n",
            "================================================================================\n",
            "================================================================================\n",
            "                                   Data Stats                                   \n",
            "--------------------------------------------------------------------------------\n",
            "('applying', 'applyingway')\n",
            "('luxury', 'uxurylay')\n",
            "('discovering', 'iscoveringday')\n",
            "('gratefully', 'atefullygray')\n",
            "('enjoy', 'enjoyway')\n",
            "Num unique word pairs: 3198\n",
            "Vocabulary: dict_keys(['-', 'a', 'b', 'c', 'd', 'e', 'f', 'g', 'h', 'i', 'j', 'k', 'l', 'm', 'n', 'o', 'p', 'q', 'r', 's', 't', 'u', 'v', 'w', 'x', 'y', 'z', 'SOS', 'EOS'])\n",
            "Vocab size: 29\n",
            "================================================================================\n",
            "Moved models to GPU!\n",
            "Epoch:   0 | Train loss: 2.592 | Val loss: 2.022 | Gen: ay ay indonay-ay-ay-ay-ay- isway isway-ay-ay-e-ay\n",
            "Epoch:   1 | Train loss: 1.764 | Val loss: 1.704 | Gen: ehay iray indinay-ingndgndgay- isway ingway-ingway-iggggg\n",
            "Epoch:   2 | Train loss: 1.496 | Val loss: 1.590 | Gen: ethay ay indingay-indndndnay- isway ay-igggay-igggggggay\n",
            "Epoch:   3 | Train loss: 1.279 | Val loss: 1.525 | Gen: ethay arrrway indngay-indnay-indna isway kgay-y-ygay\n",
            "Epoch:   4 | Train loss: 1.150 | Val loss: 1.404 | Gen: eway araray odingay-ingingdinay- isay kway-ay-ay\n",
            "Epoch:   5 | Train loss: 1.017 | Val loss: 1.271 | Gen: ehay arirway indingingcay isway irkway-ingway\n",
            "Epoch:   6 | Train loss: 0.886 | Val loss: 1.128 | Gen: ehay arway odingay-ingiondingin isway orkway-ingway\n",
            "Epoch:   7 | Train loss: 0.754 | Val loss: 1.044 | Gen: ehay arway odingitingay isway irkway-ingway\n",
            "Epoch:   8 | Train loss: 0.641 | Val loss: 0.937 | Gen: ethay arway ondiongay isway kkkway-ingway\n",
            "Epoch:   9 | Train loss: 0.565 | Val loss: 0.993 | Gen: ehay arway odintitingcay isway orkway-ay\n",
            "Epoch:  10 | Train loss: 0.538 | Val loss: 1.137 | Gen: eththththay arway ondititingcongciongc isway orkingway\n",
            "Epoch:  11 | Train loss: 0.487 | Val loss: 0.856 | Gen: ethay arway ondititingcay isway orway-ingway\n",
            "Epoch:  12 | Train loss: 0.416 | Val loss: 0.786 | Gen: ehay arrway onditingcay-ongday isway orkingway\n",
            "Epoch:  13 | Train loss: 0.345 | Val loss: 0.922 | Gen: ethay arrway ondiontingongcay isway orkingway\n",
            "Epoch:  14 | Train loss: 0.315 | Val loss: 0.899 | Gen: thay arway onditingcay-ongcay isway orkingway\n",
            "Epoch:  15 | Train loss: 0.343 | Val loss: 0.954 | Gen: htethay arrway onditiongcay isway orkingway\n",
            "Epoch:  16 | Train loss: 0.339 | Val loss: 0.771 | Gen: ehay arrway odinticay isway orkingway\n",
            "Epoch:  17 | Train loss: 0.264 | Val loss: 0.733 | Gen: ethay arrway onditingcay-ontingca isway orkingway\n",
            "Epoch:  18 | Train loss: 0.207 | Val loss: 0.771 | Gen: ehethay arrway onditiningcay isway orkingway\n",
            "Epoch:  19 | Train loss: 0.193 | Val loss: 0.864 | Gen: ehay aarway onditiongcay isway orkingway\n",
            "Epoch:  20 | Train loss: 0.208 | Val loss: 0.874 | Gen: thay arrway odnitioningcay isway orkingway\n",
            "Epoch:  21 | Train loss: 0.168 | Val loss: 0.655 | Gen: ethay arrway onditiningcay isway owringway\n",
            "Epoch:  22 | Train loss: 0.127 | Val loss: 0.656 | Gen: ethay arrway onditioningcay isway orkingway\n",
            "Epoch:  23 | Train loss: 0.115 | Val loss: 0.693 | Gen: ethay arrway onditiongcay isway owringway\n",
            "Epoch:  24 | Train loss: 0.107 | Val loss: 0.757 | Gen: ehthay arrway onditiongcay isway owingway\n",
            "Epoch:  25 | Train loss: 0.107 | Val loss: 0.686 | Gen: ethay aarrway onditionicay isway owringway\n",
            "Epoch:  26 | Train loss: 0.137 | Val loss: 1.149 | Gen: eewhay arrway ondiditingcay isway orkingway\n",
            "Epoch:  27 | Train loss: 0.294 | Val loss: 1.006 | Gen: ethay arway oodititingway isway oway-ingway\n",
            "Epoch:  28 | Train loss: 0.240 | Val loss: 0.850 | Gen: ethay iarrway odnitiningcay isway orkingway\n",
            "Epoch:  29 | Train loss: 0.164 | Val loss: 0.706 | Gen: ththay arrway onditiningcay isway orkingway\n",
            "Epoch:  30 | Train loss: 0.118 | Val loss: 0.579 | Gen: ethay arrway onditiongcay isway orkingway\n",
            "Epoch:  31 | Train loss: 0.082 | Val loss: 0.604 | Gen: ethay arrway onditincingcay isway owkingway\n",
            "Epoch:  32 | Train loss: 0.067 | Val loss: 0.567 | Gen: ethay arrway onditincingcay isway orkingway\n",
            "Epoch:  33 | Train loss: 0.054 | Val loss: 0.587 | Gen: ethay arrway onditiongcay isway orkingway\n",
            "Epoch:  34 | Train loss: 0.041 | Val loss: 0.580 | Gen: ethay arrway onditiongcay isway orkingway\n",
            "Epoch:  35 | Train loss: 0.034 | Val loss: 0.590 | Gen: ethay arrway onditiningcay isway orkingway\n",
            "Epoch:  36 | Train loss: 0.029 | Val loss: 0.568 | Gen: ethay arrway onditiningcay isway orkingway\n",
            "Epoch:  37 | Train loss: 0.026 | Val loss: 0.624 | Gen: ethay arrway onditiongcay isway okingway\n",
            "Epoch:  38 | Train loss: 0.024 | Val loss: 0.576 | Gen: ethay arrway onditiongcay isway orkingway\n",
            "Epoch:  39 | Train loss: 0.021 | Val loss: 0.590 | Gen: ethay arrway onditiningcay isway orkingway\n",
            "Epoch:  40 | Train loss: 0.018 | Val loss: 0.601 | Gen: ethay arrway onditiongcay isway orkingway\n",
            "Epoch:  41 | Train loss: 0.016 | Val loss: 0.658 | Gen: ethay arway onditiongcay isway okingngway\n",
            "Epoch:  42 | Train loss: 0.015 | Val loss: 0.626 | Gen: ethay arrway onditiongcay isway okingway\n",
            "Epoch:  43 | Train loss: 0.018 | Val loss: 0.628 | Gen: ethay arway onditiongcay isway orkingway\n",
            "Epoch:  44 | Train loss: 0.066 | Val loss: 1.209 | Gen: ethay arway onditiongcay isway orkingway\n",
            "Epoch:  45 | Train loss: 0.251 | Val loss: 0.804 | Gen: ethay irway onditiongcingay isway orwingway\n",
            "Epoch:  46 | Train loss: 0.119 | Val loss: 0.647 | Gen: ethay arway onditioniiongcay iway okingway\n",
            "Epoch:  47 | Train loss: 0.097 | Val loss: 0.638 | Gen: ethay arway onditiongcay isway okingway\n",
            "Epoch:  48 | Train loss: 0.071 | Val loss: 0.589 | Gen: ethay ariway onditiningcay isway okingway\n",
            "Epoch:  49 | Train loss: 0.039 | Val loss: 0.568 | Gen: ethay ariway onditioningcay isway okingway\n",
            "Obtained lowest validation loss of: 0.5669146737253125\n",
            "source:\t\tthe air conditioning is working \n",
            "translated:\tethay ariway onditioningcay isway okingway\n"
          ],
          "name": "stdout"
        }
      ]
    },
    {
      "cell_type": "code",
      "metadata": {
        "id": "dardK4RWvUWV",
        "colab": {
          "base_uri": "https://localhost:8080/"
        },
        "outputId": "254bab6e-d75e-4567-ab3a-dc59c771a757"
      },
      "source": [
        "TEST_SENTENCE = 'the air conditioning is working'\n",
        "\n",
        "trans64_args_l = AttrDict()\n",
        "args_dict = {\n",
        "              'data_file_name': 'pig_latin_large', # Increased data set size\n",
        "              'cuda':True, \n",
        "              'nepochs':50,\n",
        "              'checkpoint_dir':\"checkpoints\", \n",
        "              'learning_rate':5e-4,\n",
        "              'early_stopping_patience': 20,\n",
        "              'lr_decay':0.99,\n",
        "              'batch_size': 512, \n",
        "              'hidden_size': 64, # Increased model size\n",
        "              'encoder_type': 'transformer',\n",
        "              'decoder_type': 'transformer', # options: rnn / rnn_attention / transformer\n",
        "              'num_transformer_layers': 3,\n",
        "}\n",
        "trans64_args_l.update(args_dict)\n",
        "print_opts(trans64_args_l)\n",
        "\n",
        "trans64_encoder_l, trans64_decoder_l, trans64_losses_l = train(trans64_args_l)\n",
        "\n",
        "translated = translate_sentence(TEST_SENTENCE, trans64_encoder_l, trans64_decoder_l, None, trans64_args_l)\n",
        "print(\"source:\\t\\t{} \\ntranslated:\\t{}\".format(TEST_SENTENCE, translated))"
      ],
      "execution_count": 32,
      "outputs": [
        {
          "output_type": "stream",
          "text": [
            "================================================================================\n",
            "                                      Opts                                      \n",
            "--------------------------------------------------------------------------------\n",
            "                         data_file_name: pig_latin_large                        \n",
            "                                   cuda: 1                                      \n",
            "                                nepochs: 50                                     \n",
            "                         checkpoint_dir: checkpoints                            \n",
            "                          learning_rate: 0.0005                                 \n",
            "                early_stopping_patience: 20                                     \n",
            "                               lr_decay: 0.99                                   \n",
            "                             batch_size: 512                                    \n",
            "                            hidden_size: 64                                     \n",
            "                           encoder_type: transformer                            \n",
            "                           decoder_type: transformer                            \n",
            "                 num_transformer_layers: 3                                      \n",
            "================================================================================\n",
            "================================================================================\n",
            "                                   Data Stats                                   \n",
            "--------------------------------------------------------------------------------\n",
            "('initiation', 'initiationway')\n",
            "('inquisitiveness', 'inquisitivenessway')\n",
            "('quiz', 'uizqay')\n",
            "('ata', 'ataway')\n",
            "('clock', 'ockclay')\n",
            "Num unique word pairs: 22402\n",
            "Vocabulary: dict_keys(['-', 'a', 'b', 'c', 'd', 'e', 'f', 'g', 'h', 'i', 'j', 'k', 'l', 'm', 'n', 'o', 'p', 'q', 'r', 's', 't', 'u', 'v', 'w', 'x', 'y', 'z', 'SOS', 'EOS'])\n",
            "Vocab size: 29\n",
            "================================================================================\n",
            "Moved models to GPU!\n",
            "Epoch:   0 | Train loss: 2.477 | Val loss: 2.097 | Gen: ay irrray innnnnnnnnnnnnnnnnnn iway innnnnnnnnnnway\n",
            "Epoch:   1 | Train loss: 1.740 | Val loss: 1.896 | Gen: ay ayway intintintintinay-ind wsway irgrgay-ingay\n",
            "Epoch:   2 | Train loss: 1.508 | Val loss: 1.654 | Gen: etay iway indintinay isway ingway\n",
            "Epoch:   3 | Train loss: 1.353 | Val loss: 1.594 | Gen: etay away-iway oninay-intinaway isway oray-ingay\n",
            "Epoch:   4 | Train loss: 1.211 | Val loss: 1.700 | Gen: ethay airaray-iway iningcay-inincay isway ingigray-ininway\n",
            "Epoch:   5 | Train loss: 1.138 | Val loss: 1.514 | Gen: etey aiway onininay-ininininay isway orininay\n",
            "Epoch:   6 | Train loss: 1.001 | Val loss: 1.457 | Gen: etay irararay otingcay-inginay issway oringay-ingay\n",
            "Epoch:   7 | Train loss: 0.931 | Val loss: 1.364 | Gen: ethway arway ondontinnnnnnay sway ordwargngray\n",
            "Epoch:   8 | Train loss: 0.798 | Val loss: 1.272 | Gen: ethay irarway ondingnctinnnway isway oringrngway\n",
            "Epoch:   9 | Train loss: 0.731 | Val loss: 1.308 | Gen: ethay irarway ondiningtinngway issiway oringkgway\n",
            "Epoch:  10 | Train loss: 0.666 | Val loss: 1.014 | Gen: ehway irway oningtingongingay isway orgingway\n",
            "Epoch:  11 | Train loss: 0.606 | Val loss: 1.042 | Gen: ethway iraway oninictingingcay isway orkingingway\n",
            "Epoch:  12 | Train loss: 0.551 | Val loss: 0.862 | Gen: ethay ariway ondiotiongcay-onay isway okingingay\n",
            "Epoch:  13 | Train loss: 0.482 | Val loss: 1.002 | Gen: ehehay airway ondidictionginay isway okingingway\n",
            "Epoch:  14 | Train loss: 0.459 | Val loss: 0.820 | Gen: thay arirwwwwway onditingcay-ingcay isway orkingway\n",
            "Epoch:  15 | Train loss: 0.450 | Val loss: 0.790 | Gen: ethay arirway onitiotiongiongay isway orkingway\n",
            "Epoch:  16 | Train loss: 0.408 | Val loss: 0.977 | Gen: ehway airwwwwway ondidintingingday isway owkingbway\n",
            "Epoch:  17 | Train loss: 0.373 | Val loss: 0.877 | Gen: ehay arirway ondintinngngway isway orkingway\n",
            "Epoch:  18 | Train loss: 0.345 | Val loss: 0.794 | Gen: etay arway onditinongay isway orkingway\n",
            "Epoch:  19 | Train loss: 0.295 | Val loss: 0.737 | Gen: ethay airway ondidtinngngcay issway okingrngway\n",
            "Epoch:  20 | Train loss: 0.253 | Val loss: 0.655 | Gen: etay arway onditiongcay isway orkingway\n",
            "Epoch:  21 | Train loss: 0.219 | Val loss: 0.596 | Gen: ethay ariway onditiongngingay isway orkingway\n",
            "Epoch:  22 | Train loss: 0.191 | Val loss: 0.643 | Gen: ethay arwwway onditiongingay isway orkingway\n",
            "Epoch:  23 | Train loss: 0.189 | Val loss: 0.756 | Gen: thehay arrway inditiongingway isway orkingway\n",
            "Epoch:  24 | Train loss: 0.211 | Val loss: 0.684 | Gen: ethay arwwway onditiongcay isway orkingway\n",
            "Epoch:  25 | Train loss: 0.203 | Val loss: 0.628 | Gen: ethay ariway onditiongngngway isway orkingway\n",
            "Epoch:  26 | Train loss: 0.176 | Val loss: 0.572 | Gen: ethay arway onditiongnay isway orkingway\n",
            "Epoch:  27 | Train loss: 0.141 | Val loss: 0.504 | Gen: ethay arrway onditiongingway isway orkingway\n",
            "Epoch:  28 | Train loss: 0.124 | Val loss: 0.485 | Gen: ethay arway onditiongingcay isway orkingway\n",
            "Epoch:  29 | Train loss: 0.120 | Val loss: 0.502 | Gen: ethay ariway onditiongiongcay isway orkingway\n",
            "Epoch:  30 | Train loss: 0.119 | Val loss: 0.439 | Gen: ethay arway onditiongingcay isway orkingway\n",
            "Epoch:  31 | Train loss: 0.110 | Val loss: 0.432 | Gen: ethay ariway onditiongingcay isway orkingway\n",
            "Epoch:  32 | Train loss: 0.092 | Val loss: 0.852 | Gen: tehay ariway oditiontingingcay isway okingwray\n",
            "Epoch:  33 | Train loss: 0.325 | Val loss: 0.801 | Gen: thehay awwwway onditioningcay isway owkingway\n",
            "Epoch:  34 | Train loss: 0.232 | Val loss: 0.600 | Gen: ethay awarwway onditioncay-ongway isway orkingway\n",
            "Epoch:  35 | Train loss: 0.159 | Val loss: 0.380 | Gen: ethay airway onditioningcay isway orkingway\n",
            "Epoch:  36 | Train loss: 0.103 | Val loss: 0.361 | Gen: ethay airway onditioningngcay isway orkingway\n",
            "Epoch:  37 | Train loss: 0.079 | Val loss: 0.320 | Gen: ethay airway onditioningcay isway orkingway\n",
            "Epoch:  38 | Train loss: 0.062 | Val loss: 0.299 | Gen: ethay airway onditioningcay isway orkingway\n",
            "Epoch:  39 | Train loss: 0.052 | Val loss: 0.313 | Gen: ethay airway onditioningcay isway orkingway\n",
            "Epoch:  40 | Train loss: 0.048 | Val loss: 0.281 | Gen: ethay airway onditioningcay isway orkingway\n",
            "Epoch:  41 | Train loss: 0.044 | Val loss: 0.353 | Gen: ethay airway onditioningcay isway orkingway\n",
            "Epoch:  42 | Train loss: 0.072 | Val loss: 0.322 | Gen: ethay airway onditioningcay isway orkingway\n",
            "Epoch:  43 | Train loss: 0.067 | Val loss: 0.569 | Gen: -ethay airway onditioningcay isway orkingway\n",
            "Epoch:  44 | Train loss: 0.080 | Val loss: 0.342 | Gen: ethay airway onditioningcay isway orkingway\n",
            "Epoch:  45 | Train loss: 0.044 | Val loss: 0.318 | Gen: ethay airway onditioningcay isway orkingway\n",
            "Epoch:  46 | Train loss: 0.039 | Val loss: 0.319 | Gen: ethay airway onditioniongcay isway orkingway\n",
            "Epoch:  47 | Train loss: 0.048 | Val loss: 0.322 | Gen: ehthay airway onditioniongcay isway orkingway\n",
            "Epoch:  48 | Train loss: 0.039 | Val loss: 0.299 | Gen: ethay airway onditioningcay isway orkingway\n",
            "Epoch:  49 | Train loss: 0.031 | Val loss: 0.371 | Gen: ethay airway onditioningcay isway orkingway\n",
            "Obtained lowest validation loss of: 0.28121999498762307\n",
            "source:\t\tthe air conditioning is working \n",
            "translated:\tethay airway onditioningcay isway orkingway\n"
          ],
          "name": "stdout"
        }
      ]
    },
    {
      "cell_type": "markdown",
      "metadata": {
        "id": "pSSyiG39vVlN"
      },
      "source": [
        "The following cell generates two loss plots. In the first plot, we compare the effects of increasing dataset size. In the second plot, we compare the effects of increasing model size. Include both plots in your report, and include your analysis of the results."
      ]
    },
    {
      "cell_type": "code",
      "metadata": {
        "id": "-Ql0pxrEvVP6",
        "colab": {
          "base_uri": "https://localhost:8080/",
          "height": 50
        },
        "outputId": "065cef58-ecb0-4cf9-b4f4-7c153648c177"
      },
      "source": [
        "save_loss_comparison_by_dataset(trans32_losses_s, trans32_losses_l, trans64_losses_s, trans64_losses_l, trans32_args_s, trans32_args_l, trans64_args_s, trans64_args_l, 'trans_by_dataset')\n",
        "save_loss_comparison_by_hidden(trans32_losses_s, trans32_losses_l, trans64_losses_s, trans64_losses_l, trans32_args_s, trans32_args_l, trans64_args_s, trans64_args_l, 'trans_by_hidden')"
      ],
      "execution_count": 33,
      "outputs": [
        {
          "output_type": "display_data",
          "data": {
            "text/plain": [
              "<Figure size 432x288 with 0 Axes>"
            ]
          },
          "metadata": {
            "tags": []
          }
        },
        {
          "output_type": "display_data",
          "data": {
            "text/plain": [
              "<Figure size 432x288 with 0 Axes>"
            ]
          },
          "metadata": {
            "tags": []
          }
        }
      ]
    },
    {
      "cell_type": "markdown",
      "metadata": {
        "id": "MBnBXRG8mvcn"
      },
      "source": [
        "# Optional: Attention Visualizations\n",
        "\n",
        "One of the benefits of using attention is that it allows us to gain insight into the inner workings of the model.\n",
        "\n",
        "By visualizing the attention weights generated for the input tokens in each decoder step, we can see where the model focuses while producing each output token.\n",
        "\n",
        "The code in this section loads the model you trained from the previous section and uses it to translate a given set of words: it prints the translations and display heatmaps to show how attention is used at each step."
      ]
    },
    {
      "cell_type": "markdown",
      "metadata": {
        "id": "JqEC0vN9mvpV"
      },
      "source": [
        "## Step 1: Visualize Attention Masks\n",
        "Play around with visualizing attention maps generated by the previous two models you've trained. Inspect visualizations in one success and one failure case for both models. "
      ]
    },
    {
      "cell_type": "code",
      "metadata": {
        "id": "Dkfz-u-MtudL",
        "colab": {
          "base_uri": "https://localhost:8080/",
          "height": 323
        },
        "outputId": "16c3ca5f-8154-4c9e-e38b-f23cee556dc8"
      },
      "source": [
        "TEST_WORD_ATTN = 'street'\n",
        "visualize_attention(TEST_WORD_ATTN, rnn_attn_encoder, rnn_attn_decoder, None, rnn_attn_args)"
      ],
      "execution_count": 34,
      "outputs": [
        {
          "output_type": "display_data",
          "data": {
            "image/png": "[encoded data removed]",
            "text/plain": [
              "<Figure size 432x288 with 2 Axes>"
            ]
          },
          "metadata": {
            "tags": [],
            "needs_background": "light"
          }
        },
        {
          "output_type": "execute_result",
          "data": {
            "application/vnd.google.colaboratory.intrinsic+json": {
              "type": "string"
            },
            "text/plain": [
              "'eettsray'"
            ]
          },
          "metadata": {
            "tags": []
          },
          "execution_count": 34
        }
      ]
    },
    {
      "cell_type": "code",
      "metadata": {
        "id": "Ssa7g35zt2yj",
        "colab": {
          "base_uri": "https://localhost:8080/",
          "height": 901
        },
        "outputId": "dc57fdab-9c1e-4faa-86d9-e1b6aab60717"
      },
      "source": [
        "TEST_WORD_ATTN = 'street'\n",
        "visualize_attention(TEST_WORD_ATTN, trans64_encoder_l, trans64_decoder_l, None, trans64_args_l)"
      ],
      "execution_count": 35,
      "outputs": [
        {
          "output_type": "display_data",
          "data": {
            "image/png": "[encoded data removed]",
            "text/plain": [
              "<Figure size 432x288 with 2 Axes>"
            ]
          },
          "metadata": {
            "tags": [],
            "needs_background": "light"
          }
        },
        {
          "output_type": "display_data",
          "data": {
            "image/png": "[encoded data removed]",
            "text/plain": [
              "<Figure size 432x288 with 2 Axes>"
            ]
          },
          "metadata": {
            "tags": [],
            "needs_background": "light"
          }
        },
        {
          "output_type": "display_data",
          "data": {
            "image/png": "[encoded data removed]",
            "text/plain": [
              "<Figure size 432x288 with 2 Axes>"
            ]
          },
          "metadata": {
            "tags": [],
            "needs_background": "light"
          }
        },
        {
          "output_type": "execute_result",
          "data": {
            "application/vnd.google.colaboratory.intrinsic+json": {
              "type": "string"
            },
            "text/plain": [
              "'eetstray'"
            ]
          },
          "metadata": {
            "tags": []
          },
          "execution_count": 35
        }
      ]
    }
  ]
}