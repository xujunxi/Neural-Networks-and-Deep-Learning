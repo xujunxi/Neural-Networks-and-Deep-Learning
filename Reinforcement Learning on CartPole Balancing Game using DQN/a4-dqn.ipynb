{
  "nbformat": 4,
  "nbformat_minor": 0,
  "metadata": {
    "colab": {
      "name": "a4-DQN",
      "provenance": [],
      "collapsed_sections": []
    },
    "kernelspec": {
      "name": "python3",
      "display_name": "Python 3"
    },
    "accelerator": "GPU"
  },
  "cells": [
    {
      "cell_type": "markdown",
      "metadata": {
        "id": "V3szwJAdaoQa"
      },
      "source": [
        "## Enable rendering OpenAI Gym environments from CoLab\n",
        "\n",
        "In this assignemnt, We will use [OpenAI Gym](https://gym.openai.com/) for rendering game envionment for our agent to play and learn. It is possible and important to visualize the game your agent is playing, even on Colab. This section imports the necessary package and functions needed to generate a video in Colab. The video processing steps credit to [here](https://colab.research.google.com/drive/1flu31ulJlgiRL1dnN2ir8wGh9p7Zij2t)."
      ]
    },
    {
      "cell_type": "code",
      "metadata": {
        "id": "8rFaTvFab6Kz"
      },
      "source": [
        "!pip install gym pyvirtualdisplay > /dev/null 2>&1\n",
        "!apt-get install -y xvfb python-opengl ffmpeg > /dev/null 2>&1"
      ],
      "execution_count": 1,
      "outputs": []
    },
    {
      "cell_type": "code",
      "metadata": {
        "id": "M9fFfA-gb8oC",
        "colab": {
          "base_uri": "https://localhost:8080/"
        },
        "outputId": "e3442608-1c9f-4db3-c6cf-fc9271ec03f4"
      },
      "source": [
        "!apt-get update > /dev/null 2>&1\n",
        "!apt-get install cmake > /dev/null 2>&1\n",
        "!pip install --upgrade setuptools 2>&1\n",
        "!pip install ez_setup > /dev/null 2>&1\n",
        "!pip install gym[atari] > /dev/null 2>&1"
      ],
      "execution_count": 2,
      "outputs": [
        {
          "output_type": "stream",
          "text": [
            "Requirement already up-to-date: setuptools in /usr/local/lib/python3.7/dist-packages (54.2.0)\n"
          ],
          "name": "stdout"
        }
      ]
    },
    {
      "cell_type": "markdown",
      "metadata": {
        "id": "QfTPg6uZckCm"
      },
      "source": [
        "Import openAI gym and define the functions used to show the video."
      ]
    },
    {
      "cell_type": "code",
      "metadata": {
        "id": "JLl9cs6ncAf0"
      },
      "source": [
        "import gym\n",
        "from gym.wrappers import Monitor\n",
        "import glob\n",
        "import io\n",
        "import base64\n",
        "from IPython.display import HTML\n",
        "from pyvirtualdisplay import Display\n",
        "from IPython import display as ipythondisplay\n",
        "\n",
        "display = Display(visible=0, size=(1400, 900))\n",
        "display.start()\n",
        "\n",
        "\"\"\"\n",
        "Utility functions to enable video recording of gym environment \n",
        "and displaying it.\n",
        "To enable video, just do \"env = wrap_env(env)\"\"\n",
        "\"\"\"\n",
        "\n",
        "def show_video():\n",
        "  mp4list = glob.glob('video/*.mp4')\n",
        "  if len(mp4list) > 0:\n",
        "    mp4 = mp4list[0]\n",
        "    video = io.open(mp4, 'r+b').read()\n",
        "    encoded = base64.b64encode(video)\n",
        "    ipythondisplay.display(HTML(data='''<video alt=\"test\" autoplay \n",
        "                loop controls style=\"height: 400px;\">\n",
        "                <source src=\"data:video/mp4;base64,{0}\" type=\"video/mp4\" />\n",
        "             </video>'''.format(encoded.decode('ascii'))))\n",
        "  else: \n",
        "    print(\"Could not find video\")\n",
        "    \n",
        "\n",
        "def wrap_env(env):\n",
        "  env = Monitor(env, './video', force=True)\n",
        "  return env"
      ],
      "execution_count": 3,
      "outputs": []
    },
    {
      "cell_type": "markdown",
      "metadata": {
        "id": "UHkrflTWakKd"
      },
      "source": [
        "Import other packages:\n",
        "\n",
        "We will use Pytorch for building and learning our DQN network."
      ]
    },
    {
      "cell_type": "code",
      "metadata": {
        "id": "9KvZYSl6RrzD"
      },
      "source": [
        "import torch\n",
        "from torch import nn\n",
        "import copy\n",
        "from collections import deque\n",
        "import random\n",
        "from tqdm import tqdm\n",
        "import matplotlib.pyplot as plt"
      ],
      "execution_count": 4,
      "outputs": []
    },
    {
      "cell_type": "markdown",
      "metadata": {
        "id": "zrLGCk-3ditk"
      },
      "source": [
        "## Run the game with random agent."
      ]
    },
    {
      "cell_type": "code",
      "metadata": {
        "id": "ZMcGALcWeWfh",
        "colab": {
          "base_uri": "https://localhost:8080/",
          "height": 455
        },
        "outputId": "b5b1428d-3b0e-400b-bb0b-df18b1b4379a"
      },
      "source": [
        "from torch import randint\n",
        "from time import sleep\n",
        "\n",
        "env = wrap_env(gym.make('CartPole-v0'))\n",
        "reward_arr = []\n",
        "episode_count = 20\n",
        "for i in tqdm(range(episode_count)):\n",
        "    obs, done, rew = env.reset(), False, 0\n",
        "    env.render()\n",
        "    while not done:\n",
        "        A = randint(0, env.action_space.n, (1,))\n",
        "        obs, reward, done, info = env.step(A.item())\n",
        "        rew += reward\n",
        "        sleep(0.01)\n",
        "    reward_arr.append(rew)\n",
        "print(\"average reward per episode :\", sum(reward_arr) / len(reward_arr))\n",
        "env.close()\n",
        "show_video()"
      ],
      "execution_count": 5,
      "outputs": [
        {
          "output_type": "stream",
          "text": [
            "100%|██████████| 20/20 [00:06<00:00,  2.88it/s]"
          ],
          "name": "stderr"
        },
        {
          "output_type": "stream",
          "text": [
            "average reward per episode : 18.4\n"
          ],
          "name": "stdout"
        },
        {
          "output_type": "stream",
          "text": [
            "\n"
          ],
          "name": "stderr"
        },
        {
          "output_type": "display_data",
          "data": {
            "text/html": [
              "<video alt=\"test\" autoplay \n",
              "                loop controls style=\"height: 400px;\">\n",
              "                <source src=\"data:video/mp4;base64,AAAAIGZ0eXBpc29tAAACAGlzb21pc28yYXZjMW1wNDEAAAAIZnJlZQAAC/1tZGF0AAACrgYF//+q3EXpvebZSLeWLNgg2SPu73gyNjQgLSBjb3JlIDE1MiByMjg1NCBlOWE1OTAzIC0gSC4yNjQvTVBFRy00IEFWQyBjb2RlYyAtIENvcHlsZWZ0IDIwMDMtMjAxNyAtIGh0dHA6Ly93d3cudmlkZW9sYW4ub3JnL3gyNjQuaHRtbCAtIG9wdGlvbnM6IGNhYmFjPTEgcmVmPTMgZGVibG9jaz0xOjA6MCBhbmFseXNlPTB4MzoweDExMyBtZT1oZXggc3VibWU9NyBwc3k9MSBwc3lfcmQ9MS4wMDowLjAwIG1peGVkX3JlZj0xIG1lX3JhbmdlPTE2IGNocm9tYV9tZT0xIHRyZWxsaXM9MSA4eDhkY3Q9MSBjcW09MCBkZWFkem9uZT0yMSwxMSBmYXN0X3Bza2lwPTEgY2hyb21hX3FwX29mZnNldD0tMiB0aHJlYWRzPTMgbG9va2FoZWFkX3RocmVhZHM9MSBzbGljZWRfdGhyZWFkcz0wIG5yPTAgZGVjaW1hdGU9MSBpbnRlcmxhY2VkPTAgYmx1cmF5X2NvbXBhdD0wIGNvbnN0cmFpbmVkX2ludHJhPTAgYmZyYW1lcz0zIGJfcHlyYW1pZD0yIGJfYWRhcHQ9MSBiX2JpYXM9MCBkaXJlY3Q9MSB3ZWlnaHRiPTEgb3Blbl9nb3A9MCB3ZWlnaHRwPTIga2V5aW50PTI1MCBrZXlpbnRfbWluPTI1IHNjZW5lY3V0PTQwIGludHJhX3JlZnJlc2g9MCByY19sb29rYWhlYWQ9NDAgcmM9Y3JmIG1idHJlZT0xIGNyZj0yMy4wIHFjb21wPTAuNjAgcXBtaW49MCBxcG1heD02OSBxcHN0ZXA9NCBpcF9yYXRpbz0xLjQwIGFxPTE6MS4wMACAAAABxWWIhAAv//72rvzLK0cLlS4dWXuzUfLoSXL9iDB9aAAAAwAAAwAAJuKiZ0WFMeJsgAAALmAIWElDyDzETFWKgSxDPavg5cUoFWU/kYYjN5bONMPHFkKTP4pn8sy/5DW4jWoO6D7pp8uIVF2FFUkSbK2Kinr8/e2VGqtQgoP3oxf4fSny6AAAybDmyHIRCIKPAbfjueps0DD6FYokE4A/EO55PfnHKud5lSLw4XNIb3Bo6UQuNrQOAAFGQHVJ0gguOts6hgEwXqa7LV/PuHqh0Td2cGXitVSRY5V/GprhawdEeApLB/OBlLBxd/uml1QESE/DyS05T8otj4zQph0T9CiO13miuG3mHN4hNuNaiDCoAwI4O/zcqBBBthEeJL4/NJAQsJPZEt+yzsCHg2ktk2gNXglpTL+39OdD4ISSvrSl3wfKzIPGOJogLYYJkoLsdjNAc+ICusYPI5YdmU/c10zBysjBDVuxenAAfcbJCP1enfxRSwgrvCR9HFLjLGmtgUf1M/ABpvZEcBYfjI85l9bnQT//VcRZAId0CKqYsn0/WmHbUoSqrm0Yk7BmlEFLQOQsC1GNL8CNJ9wHSwAAAwAAAwAKqQAAAKxBmiRsQv/+jLAAAEY1mPZsAR1TkFKHxM8nKtwdqbscEH0sXtQ9sU6/AmDQtOTLz/HOWHeWn3guHbl0ClQNKPXFHo60O+rdv+mKpHAD7B7MZAjQ6hkF7Y7ZN7kS7vEMv8yqvnsvS4eC64uB9quB2rkfeMNKzam6sBeZqFUzgVZXmB+fWt/UXtm/HjIpuveFeJJu5At6omwAAAMAAB43ns+jDzoo3apVjDmVv9tAAAAAP0GeQniEfwAAFr5dC/hRIKPQEQMgAWBgtouUCI5x2EQHXNGnoP4qvjkTiM/ZtnqKt78spAAAAwAAWeV+/EArYQAAACkBnmF0R/8AAAMB5IGKLyk32thO96BpwUE07Yh4AAADAAADAAGIF9gJuAAAADYBnmNqR/8AACPXFQAcYp0G0p7wG1NJUesJFZtEGsgCu8XvxH3OtiSTTjpPzWoAABMHr6uEBJ0AAABsQZpoSahBaJlMCF///oywAABGJeG1VNyDCpIDa04gA2o7Md+5x85gxGfjjLweMlCVn146bih6O69XOKUVQypRFHiFnS9t4oiodFgW6BICZ9nwbWVYGsKudVn8PY1fYl6nA3/JiUyloqtbnNFJAAAAQUGehkURLCP/AAAWOtCAE9UJkuVbO4T4PzceJxc/3X6D3+eKhF4/3OgoHJfWEyOxxdqtpcZRwrDABeFVwU3ylhVlAAAAKQGepXRH/wAAI8MXdFBI00iEd0V/ZlvynKZBpgW8PjG119yJqKqWROpBAAAAKQGep2pH/wAAI7HMAN2Iz6Jpv+l7+hXSigw5B9BgyU+3suDIQ04sYfywAAAAQUGaqUmoQWyZTAhf//6MsAAAGpKV9/XShtgClzgTSXD8igwOI8M+aQYH01Ht3HtslhRCeooh2PEW5uVlwE1xsAOaAAAAgEGazUnhClJlMCF//oywAABGM+m7SCn+tpWuatpHQU/VnpuiRAm3z+LXaIFt6BZFFZbgXCYQVhqBk8Lcw67Ayce+spQl290cpA8Txz3lXV4cgD4rZ87Pl1K1m66b20/od7JD3v+STpAiM6F38PctmeTOXwg4aJeg/p+S7iSSky8xAAAAV0Ge60U0TCP/AAAWqnXEZo9JYPwO9y6QH5uVyufjqmSzgvo8gErvf+vs/4GFKN2OTIwkKYPwPm/dfVDMaDh4gkKaBxpYa4EUpEZa5uhu1mZTEgg2me96AQAAADYBnwp0R/8AACPDPgOGBD0TrHAjkwASoVRKp/viJE1a+5HPvjO5CV3Q3dN4A5o6wXqjoStfA2gAAAApAZ8Makf/AAAjPcwN2udMWujmxpzr0NK9Y/9JBsNIrdA84Z1k5yMBAyUAAACyQZsRSahBaJlMCFf//jhAAAENu/GnpEbABxnzGtWQdLperLSsQ2YQK4HzwO31GXMcTv7ulrzENjYxwFAqkmimJExOXF2/mwx0CBeB+/Jqj0kr6zOt8o9Pxgb4CLObwtG5XEZhCgGn/TvObFaPPItyAz0XIyJ3iPKu9lgz9MYVlyDmGaPEzR0+tmncIpULx0z0FokxXxBJim34XHDB7qDw3q8SOdQWhPP3N+43LWb8mW1g0QAAAENBny9FESwj/wAAFrNMx4AiY0jFLLIc7r3ssylNq2jnProHpPLcUOlkdfAsAN7JdH97zVWxC/4dvUd9ydhr+rEy8kJhAAAAMAGfTnRH/wAAI6nvyYAbkco8AsdGriOjIXo6I2B1wRfc5RClivcbfa7PRK6dcFpltwAAADsBn1BqR/8AACOjMMpgjP1Lk8Np/21kjMfAi7+N56MqrtV+Cwr9tYNJRa6TLkC8J1KwNji+24Xa9XVbZgAAALtBm1NJqEFsmUwUTCf//fEAAAMCoSc5J8ZnAAcK9v7jO01QvpPJjruKjEVZIWHREmAexJeDQfwbaNVhoY7Pvew4k9bpw2lqQ5up7fknbFpOe/k9Lg7s4u4gdxtzHsOY4mc4vik1l1Cz8qDdY/VQnXDx6Ea9ps5ThumijixsF6GkJrUDoLFbQMNAV80TXTmThPVe7Syj9eKejJMVK3IQGYp/pn5Pzq86FDqe6oDWTLMB31exqWPeY6ms6hi/AAAASgGfcmpH/wAAJL7a1ggtQ7mUpOteSxMSACdYAgUF7pUPGJP+iSLRQ1HVhShkd5i5WcACFLc3s98ieh2ontvDPVMdq1ihHssXum24AAAAnEGbdUnhClJlMFLH//yEAAAP4igskvSYAq51kNNA5YDE043HKDaZo9s6/KK7alzCK2weNTKey28vzJ6LGpic0n2lVQPCRiInbnaDvZkr8LXs0/wsEqk5bBWIER15TUct1R1L/XbPHqA6sjpyx4ZE8RXQ+sQ1bUFKDqjaeYzK+dkkYItAbRZQygWnCLloBcdLG/x5zIpVcrOZAzNQJAAAAGUBn5RqR/8AACTHk0HRRPGGVOwQY4E/ixyCfda4skKG9kjvTITNo8qXei+ppC8WJAA41ML8OhPm7Xs5WFP13e9KGDmKjUEB9fnfzoSKMfDWloIxRxhNlQTpq2B9LQPf+53iChBDgwAABBttb292AAAAbG12aGQAAAAAAAAAAAAAAAAAAAPoAAABuAABAAABAAAAAAAAAAAAAAAAAQAAAAAAAAAAAAAAAAAAAAEAAAAAAAAAAAAAAAAAAEAAAAAAAAAAAAAAAAAAAAAAAAAAAAAAAAAAAAAAAAACAAADRXRyYWsAAABcdGtoZAAAAAMAAAAAAAAAAAAAAAEAAAAAAAABuAAAAAAAAAAAAAAAAAAAAAAAAQAAAAAAAAAAAAAAAAAAAAEAAAAAAAAAAAAAAAAAAEAAAAACWAAAAZAAAAAAACRlZHRzAAAAHGVsc3QAAAAAAAAAAQAAAbgAAAIAAAEAAAAAAr1tZGlhAAAAIG1kaGQAAAAAAAAAAAAAAAAAADIAAAAWAFXEAAAAAAAtaGRscgAAAAAAAAAAdmlkZQAAAAAAAAAAAAAAAFZpZGVvSGFuZGxlcgAAAAJobWluZgAAABR2bWhkAAAAAQAAAAAAAAAAAAAAJGRpbmYAAAAcZHJlZgAAAAAAAAABAAAADHVybCAAAAABAAACKHN0YmwAAACYc3RzZAAAAAAAAAABAAAAiGF2YzEAAAAAAAAAAQAAAAAAAAAAAAAAAAAAAAACWAGQAEgAAABIAAAAAAAAAAEAAAAAAAAAAAAAAAAAAAAAAAAAAAAAAAAAAAAAAAAAAAAY//8AAAAyYXZjQwFkAB//4QAZZ2QAH6zZQJgz5eEAAAMAAQAAAwBkDxgxlgEABmjr48siwAAAABhzdHRzAAAAAAAAAAEAAAAWAAABAAAAABRzdHNzAAAAAAAAAAEAAAABAAAAwGN0dHMAAAAAAAAAFgAAAAEAAAIAAAAAAQAABQAAAAABAAACAAAAAAEAAAAAAAAAAQAAAQAAAAABAAAFAAAAAAEAAAIAAAAAAQAAAAAAAAABAAABAAAAAAEAAAIAAAAAAQAABQAAAAABAAACAAAAAAEAAAAAAAAAAQAAAQAAAAABAAAFAAAAAAEAAAIAAAAAAQAAAAAAAAABAAABAAAAAAEAAAMAAAAAAQAAAQAAAAABAAADAAAAAAEAAAEAAAAAHHN0c2MAAAAAAAAAAQAAAAEAAAAWAAAAAQAAAGxzdHN6AAAAAAAAAAAAAAAWAAAEewAAALAAAABDAAAALQAAADoAAABwAAAARQAAAC0AAAAtAAAARQAAAIQAAABbAAAAOgAAAC0AAAC2AAAARwAAADQAAAA/AAAAvwAAAE4AAACgAAAAaQAAABRzdGNvAAAAAAAAAAEAAAAwAAAAYnVkdGEAAABabWV0YQAAAAAAAAAhaGRscgAAAAAAAAAAbWRpcmFwcGwAAAAAAAAAAAAAAAAtaWxzdAAAACWpdG9vAAAAHWRhdGEAAAABAAAAAExhdmY1Ny44My4xMDA=\" type=\"video/mp4\" />\n",
              "             </video>"
            ],
            "text/plain": [
              "<IPython.core.display.HTML object>"
            ]
          },
          "metadata": {
            "tags": []
          }
        }
      ]
    },
    {
      "cell_type": "markdown",
      "metadata": {
        "id": "Ope0zHAjfXQh"
      },
      "source": [
        "You can see that a random agent is having trouble balancing the CartPole, just like you. However, a difficult game for human may be very simple to a computer. Let's see how we can use DQN to train a agent. "
      ]
    },
    {
      "cell_type": "markdown",
      "metadata": {
        "id": "OjP_2jn3SFgv"
      },
      "source": [
        "## Experience Replay\n",
        "\n",
        "The technique of experience replay was first proposed in to resolve temporal correlation in the input data by mixing recent experiences as well past experiences, essentially forcing the input to become independent and identically distributed (i.i.d.). It has been shown that this greatly stabilizes\n",
        "and improves the DQN training procedure."
      ]
    },
    {
      "cell_type": "code",
      "metadata": {
        "id": "SoxW1Jlnk8mS"
      },
      "source": [
        "class ExperienceReplay(object):\n",
        "      def __init__(self, length):\n",
        "        self.experience_replay = deque(maxlen=length)\n",
        "\n",
        "      def collect(self, experience):\n",
        "        self.experience_replay.append(experience)\n",
        "        return\n",
        "\n",
        "      def sample_from_experience(self, sample_size):\n",
        "        if len(self.experience_replay) < sample_size:\n",
        "            sample_size = len(self.experience_replay)\n",
        "        sample = random.sample(self.experience_replay, sample_size)\n",
        "        state = torch.tensor([exp[0] for exp in sample]).float() #collect all the states in sampled experiences\n",
        "        action = torch.tensor([exp[1] for exp in sample]).float() #collect all the actions in sampled experiences\n",
        "        reward = torch.tensor([exp[2] for exp in sample]).float() #collect all the rewards in sampled experiences\n",
        "        next_state = torch.tensor([exp[3] for exp in sample]).float() #collect all the next states in sampled experiences\n",
        "        return state, action, reward, next_state\n"
      ],
      "execution_count": 6,
      "outputs": []
    },
    {
      "cell_type": "markdown",
      "metadata": {
        "id": "CgXwmV2im4Sx"
      },
      "source": [
        "## Build our DQN Network\n",
        "\n",
        "We will use a simple multi-layer neural network to learn the optimal actions. We will use Adam Optimizor and MSE loss for training."
      ]
    },
    {
      "cell_type": "code",
      "metadata": {
        "id": "Wmd1pfuRm7MQ"
      },
      "source": [
        "class DQN_Network:\n",
        "\n",
        "    def __init__(self, layer_size_list, lr, seed=1423):\n",
        "        torch.manual_seed(seed)\n",
        "        self.policy_net = self.create_network(layer_size_list)\n",
        "        self.target_net = copy.deepcopy(self.policy_net)\n",
        "  \n",
        "        self.loss_fn = torch.nn.MSELoss()\n",
        "        self.optimizer = torch.optim.Adam(self.policy_net.parameters(), lr=lr)\n",
        "\n",
        "        self.step = 0\n",
        "        self.gamma = torch.tensor(0.95).float()\n",
        "        return\n",
        "\n",
        "    def create_network(self, layer_size_list):\n",
        "        assert len(layer_size_list) > 1\n",
        "\n",
        "        layers = []\n",
        "        for i in range(len(layer_size_list) - 1):\n",
        "            linear = nn.Linear(layer_size_list[i], layer_size_list[i + 1])\n",
        "\n",
        "            if i < len(layer_size_list) - 2:\n",
        "              activation = nn.Tanh() #Tanh activ for all layers except last layer\n",
        "            else:\n",
        "              activation = nn.Identity() #Identity activ for last layer\n",
        "\n",
        "            layers += (linear, activation)\n",
        "        return nn.Sequential(*layers)\n",
        "\n",
        "    def load_pretrained_model(self, model_path):\n",
        "        self.policy_net.load_state_dict(torch.load(model_path))\n",
        "\n",
        "    def save_trained_model(self, model_path=\"cartpole-dqn.pth\"):\n",
        "        torch.save(self.policy_net.state_dict(), model_path)\n"
      ],
      "execution_count": 7,
      "outputs": []
    },
    {
      "cell_type": "markdown",
      "metadata": {
        "id": "xKVV16YctASm"
      },
      "source": [
        "## **[Your task]**: complete the function that chooses the next action\n",
        "\n",
        "Choose next action based on **$\\epsilon$-greedy**:\n",
        "\n",
        "\\begin{align}\\text{where} \\quad \\mathcal{a_{t+1}} = \\begin{cases}\n",
        "     \\text{argmax}_{a}Q(a, s)  & \\text{with probability }: 1 - \\epsilon, \\text{exploitation}\\\\\n",
        "     \\text{Uniform}\\{a_{1},...,a_{n}\\} & \\text{with probability}:   \\epsilon, \\text{exploration} \\\\\n",
        "   \\end{cases}\\end{align}"
      ]
    },
    {
      "cell_type": "code",
      "metadata": {
        "id": "iE0gVweYs8xW"
      },
      "source": [
        "def get_action(model, state, action_space_len, epsilon):\n",
        "    # We do not require gradient at this point, because this function will be used either\n",
        "    # during experience collection or during inference\n",
        "\n",
        "    with torch.no_grad():\n",
        "        Qp = model.policy_net(torch.from_numpy(state).float())\n",
        "    Q_value, action = torch.max(Qp, axis=0) \n",
        "    exploitation = action\n",
        "    exploration = torch.tensor(random.randrange(action_space_len))\n",
        "    seq = exploitation, exploration\n",
        "    next_action = random.choices(seq, weights=(1-epsilon, epsilon), k=1)\n",
        "    return torch.tensor(next_action)"
      ],
      "execution_count": 8,
      "outputs": []
    },
    {
      "cell_type": "markdown",
      "metadata": {
        "id": "iF9a5-IbazjQ"
      },
      "source": [
        "### **[Your task]**: complete the function that train the network for one step\n",
        "\n",
        "Here, you can find an ``train`` function that performs a\n",
        "single step of the optimization. \n",
        "\n",
        "For our training update rule, the loss you are trying to minimize is:\n",
        "\n",
        "\\begin{align}\\text{loss} = Q(s, a) - (r + \\gamma \\max_a Q(s', a))\\end{align}"
      ]
    },
    {
      "cell_type": "code",
      "metadata": {
        "id": "mtx4FAiab0Hp"
      },
      "source": [
        "def train(model, batch_size):\n",
        "    state, action, reward, next_state = memory.sample_from_experience(sample_size=batch_size)\n",
        "    # TODO: predict expected return of current state using main network\n",
        "    policy_network = model.policy_net(state)\n",
        "    Q_value_s = policy_network.gather(1, action.long().unsqueeze(-1))\n",
        "    # TODO: get target return using target network\n",
        "    target_network = model.target_net(next_state)\n",
        "    Q_value_spi, _ = torch.max(target_network, axis=1)\n",
        "    Q_value_spi = torch.unsqueeze(Q_value_spi, 1)\n",
        "    # TODO: compute the loss\n",
        "    loss = model.loss_fn(Q_value_s, (torch.add(torch.unsqueeze(reward, 1), model.gamma * Q_value_spi)))\n",
        "    model.optimizer.zero_grad()\n",
        "    loss.backward(retain_graph=True)\n",
        "    model.optimizer.step()\n",
        "\n",
        "    model.step += 1\n",
        "    if model.step % 5 == 0:\n",
        "        model.target_net.load_state_dict(model.policy_net.state_dict())\n",
        "\n",
        "    return loss.item()"
      ],
      "execution_count": 9,
      "outputs": []
    },
    {
      "cell_type": "markdown",
      "metadata": {
        "id": "uskoe87Uz-Jg"
      },
      "source": [
        "### **[Your task]**: Finish the training loop\n",
        "\n",
        "In this part, you can play around with ```exp_replay_size```, ```episode```, ```epsilon``` and the \"episodo decay\" logic to train your model."
      ]
    },
    {
      "cell_type": "code",
      "metadata": {
        "id": "3NfNnyD6SPpN",
        "colab": {
          "base_uri": "https://localhost:8080/"
        },
        "outputId": "3c577521-5e90-45a1-e76d-985d5c9f797d"
      },
      "source": [
        "# Create the model\n",
        "env = gym.make('CartPole-v0')\n",
        "input_dim = env.observation_space.shape[0]\n",
        "output_dim = env.action_space.n\n",
        "agent = DQN_Network(layer_size_list=[input_dim, 64, output_dim], lr=1e-3)\n",
        "\n",
        "# Main training loop\n",
        "losses_list, reward_list, episode_len_list, epsilon_list = [], [], [], []\n",
        "\n",
        "# TODO: try different values, it normally takes more than 6k episodes to train\n",
        "exp_replay_size = 20000\n",
        "memory = ExperienceReplay(exp_replay_size)\n",
        "episodes = 9000\n",
        "epsilon = 1 # episilon start from 1 and decay gradually.\n",
        "\n",
        "# Episilon decay params\n",
        "\n",
        "\n",
        "# initiliaze experiance replay\n",
        "index = 0\n",
        "for i in range(exp_replay_size):\n",
        "    obs = env.reset()\n",
        "    done = False\n",
        "    while not done:\n",
        "        A = get_action(agent, obs, env.action_space.n, epsilon=1)\n",
        "        obs_next, reward, done, _ = env.step(A.item())\n",
        "        memory.collect([obs, A.item(), reward, obs_next])\n",
        "        obs = obs_next\n",
        "        index += 1\n",
        "        if index > exp_replay_size:\n",
        "            break\n",
        "\n",
        "index = 128\n",
        "for i in tqdm(range(episodes)):\n",
        "    obs, done, losses, ep_len, rew = env.reset(), False, 0, 0, 0\n",
        "    while not done:\n",
        "        ep_len += 1\n",
        "        A = get_action(agent, obs, env.action_space.n, epsilon)\n",
        "        obs_next, reward, done, _ = env.step(A.item())\n",
        "        memory.collect([obs, A.item(), reward, obs_next])\n",
        "\n",
        "        obs = obs_next\n",
        "        rew += reward\n",
        "        index += 1\n",
        "\n",
        "        if index > 128:\n",
        "            index = 0\n",
        "            for j in range(4):\n",
        "                loss = train(agent, batch_size=16)\n",
        "                losses += loss\n",
        "    \n",
        "    # TODO: add epsilon decay rule here! \n",
        "    if epsilon >0.01:\n",
        "        epsilon *= 0.995\n",
        "\n",
        "    losses_list.append(losses / ep_len), reward_list.append(rew)\n",
        "    episode_len_list.append(ep_len), epsilon_list.append(epsilon)\n",
        "\n",
        "print(\"Saving trained model\")\n",
        "agent.save_trained_model(\"cartpole-dqn.pth\")"
      ],
      "execution_count": 10,
      "outputs": [
        {
          "output_type": "stream",
          "text": [
            "100%|██████████| 9000/9000 [01:08<00:00, 130.62it/s]"
          ],
          "name": "stderr"
        },
        {
          "output_type": "stream",
          "text": [
            "Saving trained model\n"
          ],
          "name": "stdout"
        },
        {
          "output_type": "stream",
          "text": [
            "\n"
          ],
          "name": "stderr"
        }
      ]
    },
    {
      "cell_type": "markdown",
      "metadata": {
        "id": "CCow7jNXf5YT"
      },
      "source": [
        "## Last Step: evaluate your trained model!\n",
        "\n",
        "First we can plot the reward vs. episode:"
      ]
    },
    {
      "cell_type": "code",
      "metadata": {
        "id": "-Hy_FP7yeXA4",
        "colab": {
          "base_uri": "https://localhost:8080/",
          "height": 294
        },
        "outputId": "18ddbeb3-3421-474c-ee73-07c98d89eff5"
      },
      "source": [
        "def plot_reward(r):\n",
        "    plt.figure(2)\n",
        "    plt.clf()\n",
        "    plt.title('Result')\n",
        "    plt.xlabel('Episode')\n",
        "    plt.ylabel('Reward')\n",
        "    plt.plot(r)\n",
        "\n",
        "plot_reward(reward_list)"
      ],
      "execution_count": 11,
      "outputs": [
        {
          "output_type": "display_data",
          "data": {
            "image/png": "[encoded data removed]",
            "text/plain": [
              "<Figure size 432x288 with 1 Axes>"
            ]
          },
          "metadata": {
            "tags": [],
            "needs_background": "light"
          }
        }
      ]
    },
    {
      "cell_type": "code",
      "metadata": {
        "id": "EMEivKldTGVG",
        "colab": {
          "base_uri": "https://localhost:8080/",
          "height": 455
        },
        "outputId": "d63fc695-0be9-4168-9f85-c9b0dd75fec1"
      },
      "source": [
        "env = wrap_env(gym.make('CartPole-v0'))\n",
        "\n",
        "input_dim = env.observation_space.shape[0]\n",
        "output_dim = env.action_space.n\n",
        "model_validate = DQN_Network(layer_size_list=[input_dim, 64, output_dim], lr=1e-3)\n",
        "model_validate.load_pretrained_model(\"cartpole-dqn.pth\")\n",
        "\n",
        "reward_arr = []\n",
        "for i in tqdm(range(300)):\n",
        "    obs, done, rew = env.reset(), False, 0\n",
        "    env.render()\n",
        "    while not done:\n",
        "        A = get_action(model_validate, obs, env.action_space.n, epsilon=0)\n",
        "        obs, reward, done, info = env.step(A.item())\n",
        "        rew += reward\n",
        "        # sleep(0.01)\n",
        "\n",
        "    reward_arr.append(rew)\n",
        "print(\"average reward per episode :\", sum(reward_arr) / len(reward_arr))\n",
        "env.close()\n",
        "show_video()"
      ],
      "execution_count": 12,
      "outputs": [
        {
          "output_type": "stream",
          "text": [
            "100%|██████████| 300/300 [00:19<00:00, 15.58it/s]"
          ],
          "name": "stderr"
        },
        {
          "output_type": "stream",
          "text": [
            "average reward per episode : 200.0\n"
          ],
          "name": "stdout"
        },
        {
          "output_type": "stream",
          "text": [
            "\n"
          ],
          "name": "stderr"
        },
        {
          "output_type": "display_data",
          "data": {
            "text/html": [
              "<video alt=\"test\" autoplay \n",
              "                loop controls style=\"height: 400px;\">\n",
              "                <source src=\"data:video/mp4;base64,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\" type=\"video/mp4\" />\n",
              "             </video>"
            ],
            "text/plain": [
              "<IPython.core.display.HTML object>"
            ]
          },
          "metadata": {
            "tags": []
          }
        }
      ]
    }
  ]
}